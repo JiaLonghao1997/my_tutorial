{
 "cells": [
  {
   "cell_type": "markdown",
   "metadata": {},
   "source": [
    "# <center>Git/GitHub视频教程</center>\n",
    "参考：[https://ke.qq.com/course/304010](https://ke.qq.com/course/304010)"
   ]
  },
  {
   "cell_type": "markdown",
   "metadata": {},
   "source": [
    "## 1.git原理及配置"
   ]
  },
  {
   "cell_type": "markdown",
   "metadata": {},
   "source": [
    "SVN冲突：避免版本冲突<br>\n",
    "特点：svn托管网站，版本库（中央仓库）<br>\n",
    "Git：分布式版本控制软件<br>\n",
    "特点：本地仓库，每人一份版本库；通过互相通信来进行版本同步；<br>\n",
    "本地工作目录—git add—>暂存区—git commit—>版本库， 避免版本更新过于频繁。<br>\n",
    "将你的版本库分享给别人——push<br>\n",
    "接受别人分享的版本库——pull<br>\n",
    "git版本控制的三大步<br>\n",
    "（1）本地目录——>暂存区git add<br>\n",
    "（2）暂存区——>本地仓库(本地分支）git commit &nbsp;&nbsp;<font color=red>本地仓库可以有多个版本（称为分支）,默认的主分支是master</font><br>\n",
    "（3）将本地仓库的内容 推送到 远程仓库（远程分支） git push<br>\n",
    "    将远程仓库的内容 拉取到 本地仓库（本地分支） git pull<br>\n",
    " ![avatar](http://blog.podrezo.com/wp-content/uploads/2014/09/git-operations.png)"
   ]
  },
  {
   "cell_type": "markdown",
   "metadata": {},
   "source": [
    "### 1.1 github的安装"
   ]
  },
  {
   "cell_type": "markdown",
   "metadata": {},
   "source": [
    "下载网址：msysgit.github.io <br>\n",
    "安装时：Use git from git bash only..,其他默认下一步<br>\n",
    "安装配置path: C:\\Program Files\\Git\\bin<br>\n",
    "配置git:<br>\n",
    "右键选择git bash<br>"
   ]
  },
  {
   "cell_type": "code",
   "execution_count": null,
   "metadata": {},
   "outputs": [],
   "source": [
    "#配置用户名\n",
    "$ git config --global user.name \"jialonghao\"\n",
    "#配置邮箱\n",
    "$ git config --global user.email \"3230973338@qq.com\"\n",
    "#查看用户名和邮箱是否配置成功：查看C:\\Users\\admin目录下的.gitconfig文件"
   ]
  },
  {
   "cell_type": "markdown",
   "metadata": {},
   "source": [
    "### 1.2 搭建git服务器（远程仓库）"
   ]
  },
  {
   "cell_type": "markdown",
   "metadata": {},
   "source": [
    "统一托管网站（https://github.com/）<br>\n",
    "<br>\n",
    "为了免密钥登录：为了在本地和远程仓库之间进行免密钥登录，可以配置ssh<br>\n",
    "<font color=red>ssh: 将本地客户端和远程github关联</font>\n",
    "配置ssh: 先在本地配置，发送给远程<br>"
   ]
  },
  {
   "cell_type": "code",
   "execution_count": null,
   "metadata": {},
   "outputs": [],
   "source": [
    "#先在本地生成ssh:\n",
    "ssh-keygen -t rsa -C 3230973338@qq.com\n",
    "#然后一直回车，生成两个文件id_rsa(负责本地仓库)和id_rsa.pub(负责远程仓库)"
   ]
  },
  {
   "cell_type": "markdown",
   "metadata": {},
   "source": [
    "发送给远程：\n",
    "github - settings - SSH and ... - New SHH - titl任意、key中输入刚才本地生成的SSH;\n",
    "将本地刚才生成的id_rsa.pub内容复制到远程的Key中"
   ]
  },
  {
   "cell_type": "code",
   "execution_count": null,
   "metadata": {},
   "outputs": [],
   "source": [
    "#测试连通性\n",
    "ssh -T git@github.com\n",
    "#如果本地和远程成功通信，则可以在/.ssh目录中发现known_hosts文件\n",
    "#如果失败：多尝试几次，检查回车符"
   ]
  },
  {
   "cell_type": "code",
   "execution_count": null,
   "metadata": {},
   "outputs": [],
   "source": [
    "#在本地新建git项目\n",
    "#在项目根目录，右键-git bash\n",
    "git init"
   ]
  },
  {
   "cell_type": "markdown",
   "metadata": {},
   "source": [
    "在远程建立git项目<br>\n",
    "new-建立项目-生成 https://github.com/JiaLonghao1997/MyFirstGitRemote.git"
   ]
  },
  {
   "cell_type": "code",
   "execution_count": null,
   "metadata": {},
   "outputs": [],
   "source": [
    "<font color=red>本地项目-远程项目关联</font>\n",
    "git remote add origin git@github.com:JiaLonghao1997/MyFirstGitRemote.git"
   ]
  },
  {
   "cell_type": "markdown",
   "metadata": {},
   "source": [
    "## 2.git常见操作"
   ]
  },
  {
   "cell_type": "markdown",
   "metadata": {},
   "source": [
    "### 2.1 第一次发布项目（本地-远程）"
   ]
  },
  {
   "cell_type": "code",
   "execution_count": null,
   "metadata": {},
   "outputs": [],
   "source": [
    "git add .  #文件-暂存区\n",
    "git commit -m \"第一次上传的内容\"  #暂存区-本地分支（默认为master）\n",
    "git push -u origin master"
   ]
  },
  {
   "cell_type": "markdown",
   "metadata": {},
   "source": [
    "<font color=red>将项目发布到指定仓库</font><br>\n",
    "git push git@github.com:JiaLonghao1997/kmer.find.git"
   ]
  },
  {
   "cell_type": "markdown",
   "metadata": {},
   "source": [
    "### 2.2 第一次下载项目（远程-本地）"
   ]
  },
  {
   "cell_type": "code",
   "execution_count": null,
   "metadata": {},
   "outputs": [],
   "source": [
    "git clone git@github.com:JiaLonghao1997/MyFirstGitRemote.git"
   ]
  },
  {
   "cell_type": "markdown",
   "metadata": {},
   "source": [
    "### 2.3 提交（本地-远程）"
   ]
  },
  {
   "cell_type": "code",
   "execution_count": null,
   "metadata": {},
   "outputs": [],
   "source": [
    "#在当前工作目录下直接进行\n",
    "git add .\n",
    "git commit -m \"提交到分支\"\n",
    "git push origin master"
   ]
  },
  {
   "cell_type": "markdown",
   "metadata": {},
   "source": [
    "### 2.4 更新（远程-本地）"
   ]
  },
  {
   "cell_type": "code",
   "execution_count": null,
   "metadata": {},
   "outputs": [],
   "source": [
    "git pull"
   ]
  },
  {
   "cell_type": "markdown",
   "metadata": {},
   "source": [
    "## 3 Egit常见操作"
   ]
  },
  {
   "cell_type": "markdown",
   "metadata": {},
   "source": [
    "目前的Eclipse基本都支持git, 如果不支持，则到eclispe marktplace搜git安装\n",
    "配置：\n",
    "a.team-git-configuration-邮箱 用户名\n",
    "b.general - network - ssh2选中 生成的ssh目录"
   ]
  },
  {
   "cell_type": "markdown",
   "metadata": {},
   "source": [
    "### 3.1 第一次发布项目（本地-远程）"
   ]
  },
  {
   "cell_type": "code",
   "execution_count": null,
   "metadata": {},
   "outputs": [],
   "source": [
    "share project\n",
    "加入暂存区add to index\n",
    "提交到本地分支commit\n",
    "将项目推送到远程   右键-team-remote-push----"
   ]
  },
  {
   "cell_type": "markdown",
   "metadata": {},
   "source": [
    "### 3.2 第一次下载（远程-本地）"
   ]
  },
  {
   "cell_type": "code",
   "execution_count": null,
   "metadata": {},
   "outputs": [],
   "source": [
    "import-clone-输入 https/ssh的唯一标识符"
   ]
  },
  {
   "cell_type": "markdown",
   "metadata": {},
   "source": [
    "### 3.3 提交（本地-远程）"
   ]
  },
  {
   "cell_type": "code",
   "execution_count": null,
   "metadata": {},
   "outputs": [],
   "source": [
    "team-add to index\n",
    "team-commit\n",
    "team-push\n",
    "<br>\n",
    "commit时：\n",
    "commit and push 或 commit按钮的区别\n",
    "commit按钮： 不能单独的Push某个文件，只能push整个项目；\n",
    "commit and push： 可以 单独push某个文件"
   ]
  },
  {
   "cell_type": "markdown",
   "metadata": {},
   "source": [
    "### 3.4 更新（远程-本地）"
   ]
  },
  {
   "cell_type": "code",
   "execution_count": null,
   "metadata": {},
   "outputs": [],
   "source": [
    "team-pull"
   ]
  },
  {
   "cell_type": "markdown",
   "metadata": {},
   "source": [
    "## 4.git解决冲突"
   ]
  },
  {
   "cell_type": "code",
   "execution_count": null,
   "metadata": {},
   "outputs": [],
   "source": [
    "发现冲突： 进入同步视图， 右键--team-synchronized..."
   ]
  }
 ],
 "metadata": {
  "kernelspec": {
   "display_name": "Python 3",
   "language": "python",
   "name": "python3"
  },
  "language_info": {
   "codemirror_mode": {
    "name": "ipython",
    "version": 3
   },
   "file_extension": ".py",
   "mimetype": "text/x-python",
   "name": "python",
   "nbconvert_exporter": "python",
   "pygments_lexer": "ipython3",
   "version": "3.6.2"
  }
 },
 "nbformat": 4,
 "nbformat_minor": 2
}
