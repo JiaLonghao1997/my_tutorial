{
 "cells": [
  {
   "cell_type": "markdown",
   "id": "971eb723",
   "metadata": {
    "papermill": {
     "duration": 0.009924,
     "end_time": "2024-10-03T07:13:33.777161",
     "exception": false,
     "start_time": "2024-10-03T07:13:33.767237",
     "status": "completed"
    },
    "tags": []
   },
   "source": [
    "# 读书笔记(机器学习实战) | 第10-13章 Keras, Tensorflow和深度神经网络\n",
    "​\n",
    "> -   书籍简介: 本书通过使用具体的例子、最少的理论和两个可用于生产的 Python 框架——Scikit-Learn 和 TensorFlow——作者 Aurélien Géron 帮助你直观地了解构建智能系统的概念和工具。你将学习一系列技术，从简单的线性回归开始，逐渐深入到深度神经网络。每章都有练习来帮助你应用所学的知识，你只需要有编程经验就可以开始。\n",
    ">\n",
    "> -   代码示例: https://github.com/ageron/handson-ml2\n",
    "​\n",
    "# ![研究方向_4](https://jialh.oss-cn-shanghai.aliyuncs.com/img2/研究方向_4.jpg)"
   ]
  },
  {
   "cell_type": "markdown",
   "id": "8a09b144",
   "metadata": {
    "papermill": {
     "duration": 0.008771,
     "end_time": "2024-10-03T07:13:33.795270",
     "exception": false,
     "start_time": "2024-10-03T07:13:33.786499",
     "status": "completed"
    },
    "tags": []
   },
   "source": [
    "## 第10章 Keras人工神经网络简介\n",
    "- 人工神经网络是深度学习的核心。它们用途广泛、功能强大且可扩展，使其非常适合处理大型和高度复杂的机器学习任务。\n",
    "- 本章的第一部分介绍了人工神经网络，首先是对第一个人工神经网络(ANN)架构的快速浏览，然后是今天广泛使用的多层感知机(MLP)(其他架构将在第11章中进行探讨)。\n",
    "- 在第二部分中，我们将研究如何使用流行的Keras API实现神经网络。这是设计精巧、简单易用的用于构建、训练、评估和运行神经网络的API。但是，不要被它的简单性所迷惑：它的表现力和灵活性足以让你构建各种各样的神经网络架构。实际上，对于大多数示例而言，这可能就足够了。\n",
    "- 如果你需要额外的灵活性，可以随时使用其较低级的API编写自定义的Keras组件，这将在第12章中讨论。"
   ]
  },
  {
   "cell_type": "markdown",
   "id": "66cb28aa",
   "metadata": {
    "papermill": {
     "duration": 0.00972,
     "end_time": "2024-10-03T07:13:33.815258",
     "exception": false,
     "start_time": "2024-10-03T07:13:33.805538",
     "status": "completed"
    },
    "tags": []
   },
   "source": [
    "### 10.1 从生物神经元到人工神经元\n",
    "- 人工神经网络的提出: 于1943年由神经生理学家Warren McCulloch和数学家Walter Pitts首次提出。\n",
    "- 第三轮人工智能浪潮的优势: (1)大量的可用数据；(2)计算能力的飞速增长；(3)训练算法的改进；(4)理论局限性是良性的(很少会陷入局部最优解)；(5)资金和发展的良性循环。\n",
    "- **生物神经元**: 生物神经元产生短的电脉冲称为动作电位(AP，或只是信号)，它们沿着轴突传播，使突触释放称为神经递质的化学信号。当神经元在几毫秒内接收到足够数量的这些神经递质时，它会激发自己的电脉冲(实际上，它取决于神经递质，因为其中一些会抑制神经元的发射)。\n",
    "- **神经元的逻辑计算**: McCulloch和Pitts提出了一个非常简单的生物神经元模型，该模型后来被称为神经元。它具有一个或多个二进制(开/关)输入和一个二进制输出。当超过一定数量的输入处于激活状态时，人工神经元将激活其输出。他们的论文表明即使使用这样的简化模型，也可以构建一个人工神经元网络来计算所需的任何逻辑命题。常见的逻辑操作包括: 恒等、逻辑AND、逻辑OR等。\n",
    "- **感知机**: 感知器是最简单的人工神经网络之一。感知器的输入和输出是数字(不是二进制开/关值)，并且每个输入连接都与权重相关联。线性阈值单元(TLU)计算其输入的加权和($z=w_1x_1+w_2x_2+...+w_nx_n=\\vec x^T\\vec w$), 然后将阶跃函数应用于该和并输出结果：$h_w(\\vec x)=step(z)$, 其中$z=\\vec x^T\\vec w$。\n",
    "    - 阶跃函数: 感知器中最常用的阶跃函数是Heaviside阶跃函数和sgn函数。\n",
    "        $$\n",
    "        \\begin{equation}\n",
    "        heaviside(z) =\\left\\{\n",
    "        \\begin{aligned}\n",
    "        & 0, &如果z \\lt 0 \\\\\n",
    "        & 1, &如果z \\geq 0\n",
    "        \\end{aligned}\n",
    "        \\right.\n",
    "        \\end{equation}\n",
    "        $$\n",
    "        \n",
    "        $$\n",
    "        \\begin{equation}\n",
    "        sgn(z) =\\left\\{\n",
    "        \\begin{aligned}\n",
    "        & -1, &如果z \\lt 0 \\\\\n",
    "        & 0,  &如果z = 0 \\\\\n",
    "        & +1, &如果z \\gt 0 \n",
    "        \\end{aligned}\n",
    "        \\right.\n",
    "        \\end{equation}\n",
    "        $$\n",
    "    - 全连接层: 当一层中所有神经元都连接到上一层中的每个神经元(即其输入神经元)时，该层称为全连接层或密集层。计算全连接层的公式为:$h_{W,b}(X)=\\phi(XW+b)$, 其中$X$是输入特征矩阵，权重矩阵$W$包含除偏置神经元外的所有连接权重，偏置向量$b$包含偏置神经元和人工神经网络之间的所有连接权重，函数$\\phi$称为激活函数。\n",
    "    - **感知器的训练(Hebb规则)**: 两个神经元同时触发时，它们之间的连接权重会增加。使用Hebb规则的变体训练感知器，该变体考虑了网络进行预测时所犯的错误。感知器学习规则加强了有助于减少错误的连接。更具体地说，感知器一次被送入一个训练实例，并且针对每个实例进行预测。对于产生错误预测的每个输出神经元，它会增强来自输入的连接权重，这些权重将有助于正确的预测。\n",
    "    - 感知器学习规则(权重更新): $w_{i,j}^{(下一步)} = w_{i,j} + \\eta(y_j - \\hat y_j)x_i$。第$j$个神经元实际输出$\\hat y_i$与目标输出$y_i$的差距$\\hat y_i - y_i$越大, 下一步的权重可能越大。\n",
    "    - **感知器收敛定理**: 对于线性可分数据集感知学习算法原始形式收敛,即经过有限次迭代可以得到一个将训练数据集完全正确划分的分离超平面及感知机模型。https://www.cnblogs.com/LQ6H/p/10739824.html\n",
    "    - 你可能已经注意到，<font color=\"red\">感知器学习算法非常类似于随机梯度下降。</font>请注意，与逻辑回归分类器相反，感知器不输出分类概率；相反，它们基于硬阈值进行预测。这是逻辑回归胜过感知器的原因。https://cloud.tencent.com/developer/article/1390595\n",
    "    - **多层感知机(MLP)**: 通过堆叠多个感知器来消除感知器的某些局限性。MLP可以解决XOR问题。https://www.cnblogs.com/orion-orion/p/15895136.html"
   ]
  },
  {
   "cell_type": "markdown",
   "id": "655c7878",
   "metadata": {
    "papermill": {
     "duration": 0.008743,
     "end_time": "2024-10-03T07:13:33.833021",
     "exception": false,
     "start_time": "2024-10-03T07:13:33.824278",
     "status": "completed"
    },
    "tags": []
   },
   "source": [
    "- **多层感知器和反向传播**: \n",
    "    - **反向传播算法**使用有效的技术自动计算梯度下降: 在仅两次通过网络的过程中(一次向前，一次向后), 反向传播算法能够针对每个模型参数计算网络误差的梯度。换句话说，它可以找出应如何调整每个连接权重和每个偏置项以减少误差。一旦获得这些梯度，它便会执行常规的梯度下降步骤，然后重复整个过程，直到网络收敛到解。\n",
    "    - **自动微分**: 自动计算梯度称为自动微分或者autodiff。有各种autodiff技术，各有优缺点。反向传播使用的一种称为反向模式autodiff。它快速而精确，并且非常适用于微分函数具有多个变量(例如，连接权重)和少量输出(例如，一个损失)的情况。如果你想了解有关autodiff的更多信息，请查看附录D。\n",
    "    - <font color=\"red\">反向传播算法非常重要，值得再次总结</font>: 对于每个训练实例，反向传播算法首先进行预测(正向传递)并测量误差，然后反向经过每个层以测量来自每个连接的误差贡献(反向传递)，最后调整连接权重以减少错误(梯度下降步骤)。\n",
    "    - 常见的激活函数:\n",
    "        - 逻辑(S型)函数: $\\sigma(z) = \\frac{1}{1+exp(-z)}$\n",
    "        - 双曲正切函数(The hyperbolic tangent function): $\\tanh(z) = 2 \\sigma(2z) - 1$\n",
    "        - 线性整流单位函数(The Rectified Linear Unit function): $ReLU(z) = max(0, z)$\n",
    "    - <font color=\"red\">为什么需要激活函数</font>: 如果连接多个线性变换，那么得到的只是一个线性变换。因此，如果层之间没有非线性，那么即使是很深的层堆叠也等同于单个层，这样你无法解决非常复杂的问题。相反，具有非线性激活函数的足够大的DNN理论上可以近似任何连续函数。"
   ]
  },
  {
   "cell_type": "markdown",
   "id": "0ee6f1cb",
   "metadata": {
    "papermill": {
     "duration": 0.008603,
     "end_time": "2024-10-03T07:13:33.850650",
     "exception": false,
     "start_time": "2024-10-03T07:13:33.842047",
     "status": "completed"
    },
    "tags": []
   },
   "source": [
    "- **回归MLP**: 首先，MLP可用于回归任务。如果要预测单个值(房屋的价格，给定其许多特征)，则只需要单个输出神经元：其输出就是预测值。对于多元回归(即一次预测多个值)，每个输出维度需要一个输出神经元。\n",
    "- **分类MLP**: MLP也可以用于分类任务。对于二进制分类问题，你只需要使用逻辑激活函数的单个输出神经元：输出将是0到1之间的数字，你可以将其解释为正类的估计概率。负类别的估计概率等于一减去该数字。"
   ]
  },
  {
   "cell_type": "markdown",
   "id": "0de3e2a1",
   "metadata": {
    "papermill": {
     "duration": 0.008668,
     "end_time": "2024-10-03T07:13:33.868390",
     "exception": false,
     "start_time": "2024-10-03T07:13:33.859722",
     "status": "completed"
    },
    "tags": []
   },
   "source": [
    "### 10.2 使用Keras实现MLP\n",
    "- Keras是高级深度学习API，可让你轻松构建、训练、评估和执行各种神经网络。其文档(或规范)可从https://keras.io/获得。\n",
    "- 使用Keras加载数据集: 当使用Keras而不是Scikit-Learn来加载MNIST或Fashion MNIST时，一个重要的区别是每个图像都表示为28×28阵列，而不是尺寸为784的一维阵列。此外，像素强度表示为整数(从0到255)而不是浮点数(从0.0到255.0)。"
   ]
  },
  {
   "cell_type": "code",
   "execution_count": 1,
   "id": "2f1c7686",
   "metadata": {
    "execution": {
     "iopub.execute_input": "2024-10-03T07:13:33.889152Z",
     "iopub.status.busy": "2024-10-03T07:13:33.888751Z",
     "iopub.status.idle": "2024-10-03T07:13:53.082128Z",
     "shell.execute_reply": "2024-10-03T07:13:53.080759Z"
    },
    "papermill": {
     "duration": 19.20772,
     "end_time": "2024-10-03T07:13:53.085743",
     "exception": false,
     "start_time": "2024-10-03T07:13:33.878023",
     "status": "completed"
    },
    "tags": []
   },
   "outputs": [
    {
     "name": "stdout",
     "output_type": "stream",
     "text": [
      "tf.__version__: 2.16.1\n",
      "keras.__version__: 3.3.3\n",
      "Downloading data from https://storage.googleapis.com/tensorflow/tf-keras-datasets/train-labels-idx1-ubyte.gz\n",
      "\u001b[1m29515/29515\u001b[0m \u001b[32m━━━━━━━━━━━━━━━━━━━━\u001b[0m\u001b[37m\u001b[0m \u001b[1m0s\u001b[0m 0us/step\n",
      "Downloading data from https://storage.googleapis.com/tensorflow/tf-keras-datasets/train-images-idx3-ubyte.gz\n",
      "\u001b[1m26421880/26421880\u001b[0m \u001b[32m━━━━━━━━━━━━━━━━━━━━\u001b[0m\u001b[37m\u001b[0m \u001b[1m2s\u001b[0m 0us/step\n",
      "Downloading data from https://storage.googleapis.com/tensorflow/tf-keras-datasets/t10k-labels-idx1-ubyte.gz\n",
      "\u001b[1m5148/5148\u001b[0m \u001b[32m━━━━━━━━━━━━━━━━━━━━\u001b[0m\u001b[37m\u001b[0m \u001b[1m0s\u001b[0m 1us/step\n",
      "Downloading data from https://storage.googleapis.com/tensorflow/tf-keras-datasets/t10k-images-idx3-ubyte.gz\n",
      "\u001b[1m4422102/4422102\u001b[0m \u001b[32m━━━━━━━━━━━━━━━━━━━━\u001b[0m\u001b[37m\u001b[0m \u001b[1m1s\u001b[0m 0us/step\n",
      "X_train_full.shape: (60000, 28, 28)\n",
      "X_train_full.dtype: uint8\n"
     ]
    },
    {
     "data": {
      "image/png": "[encoded data removed]",
      "text/plain": [
       "<Figure size 640x480 with 1 Axes>"
      ]
     },
     "metadata": {},
     "output_type": "display_data"
    }
   ],
   "source": [
    "# 加载数据集。\n",
    "import tensorflow as tf\n",
    "from tensorflow import keras\n",
    "import matplotlib.pyplot as plt\n",
    "\n",
    "print(f\"tf.__version__: {tf.__version__}\")\n",
    "print(f\"keras.__version__: {keras.__version__}\")\n",
    "\n",
    "fashion_mnist = keras.datasets.fashion_mnist\n",
    "(X_train_full, y_train_full), (X_test, y_test) = fashion_mnist.load_data()\n",
    "print(f\"X_train_full.shape: {X_train_full.shape}\")\n",
    "print(f\"X_train_full.dtype: {X_train_full.dtype}\")\n",
    "\n",
    "X_valid, X_train = X_train_full[:5000] / 255., X_train_full[5000:] / 255.\n",
    "y_valid, y_train = y_train_full[:5000], y_train_full[5000:]\n",
    "X_test = X_test / 255.\n",
    "\n",
    "plt.imshow(X_train[0], cmap=\"binary\")\n",
    "plt.axis('off')\n",
    "plt.show()"
   ]
  },
  {
   "cell_type": "code",
   "execution_count": 2,
   "id": "231d7fa3",
   "metadata": {
    "execution": {
     "iopub.execute_input": "2024-10-03T07:13:53.133706Z",
     "iopub.status.busy": "2024-10-03T07:13:53.131891Z",
     "iopub.status.idle": "2024-10-03T07:13:53.604977Z",
     "shell.execute_reply": "2024-10-03T07:13:53.603790Z"
    },
    "papermill": {
     "duration": 0.499965,
     "end_time": "2024-10-03T07:13:53.608520",
     "exception": false,
     "start_time": "2024-10-03T07:13:53.108555",
     "status": "completed"
    },
    "tags": []
   },
   "outputs": [
    {
     "name": "stderr",
     "output_type": "stream",
     "text": [
      "/opt/conda/lib/python3.10/site-packages/keras/src/layers/reshaping/flatten.py:37: UserWarning: Do not pass an `input_shape`/`input_dim` argument to a layer. When using Sequential models, prefer using an `Input(shape)` object as the first layer in the model instead.\n",
      "  super().__init__(**kwargs)\n"
     ]
    },
    {
     "data": {
      "image/png": "[encoded data removed]",
      "text/plain": [
       "<IPython.core.display.Image object>"
      ]
     },
     "execution_count": 2,
     "metadata": {},
     "output_type": "execute_result"
    }
   ],
   "source": [
    "# 使用顺序API创建模型。\n",
    "model = keras.models.Sequential([\n",
    "    keras.layers.Flatten(input_shape=[28, 28]),\n",
    "    keras.layers.Dense(300, activation=\"relu\"),\n",
    "    keras.layers.Dense(100, activation=\"relu\"),\n",
    "    keras.layers.Dense(10, activation=\"softmax\")\n",
    "])\n",
    "\n",
    "# model.summary(): 模型的summary()方法显示模型的所有层，包括每个层的名称、输出形状、以及参数数量。\n",
    "# 可以使用get_weights()和set_weights()方法访问层的所有参数。对于密集层，这包括连接权重和偏置项\n",
    "keras.utils.plot_model(model, \"my_fashion_mnist_model.png\", show_shapes=True)"
   ]
  },
  {
   "cell_type": "code",
   "execution_count": 3,
   "id": "caa6725e",
   "metadata": {
    "execution": {
     "iopub.execute_input": "2024-10-03T07:13:53.641200Z",
     "iopub.status.busy": "2024-10-03T07:13:53.640768Z",
     "iopub.status.idle": "2024-10-03T07:13:53.656019Z",
     "shell.execute_reply": "2024-10-03T07:13:53.655094Z"
    },
    "papermill": {
     "duration": 0.034163,
     "end_time": "2024-10-03T07:13:53.658418",
     "exception": false,
     "start_time": "2024-10-03T07:13:53.624255",
     "status": "completed"
    },
    "tags": []
   },
   "outputs": [],
   "source": [
    "# 编译模型: 创建模型后，你必须调用compile()方法来指定损失函数和要使用的优化器。\n",
    "model.compile(loss=\"sparse_categorical_crossentropy\", \n",
    "              optimizer=\"sgd\", \n",
    "              metrics=[\"accuracy\"]) "
   ]
  },
  {
   "cell_type": "code",
   "execution_count": 4,
   "id": "74195022",
   "metadata": {
    "execution": {
     "iopub.execute_input": "2024-10-03T07:13:53.690601Z",
     "iopub.status.busy": "2024-10-03T07:13:53.690153Z",
     "iopub.status.idle": "2024-10-03T07:16:06.265568Z",
     "shell.execute_reply": "2024-10-03T07:16:06.264260Z"
    },
    "papermill": {
     "duration": 132.594456,
     "end_time": "2024-10-03T07:16:06.268182",
     "exception": false,
     "start_time": "2024-10-03T07:13:53.673726",
     "status": "completed"
    },
    "tags": []
   },
   "outputs": [
    {
     "name": "stdout",
     "output_type": "stream",
     "text": [
      "Epoch 1/30\n",
      "\u001b[1m1719/1719\u001b[0m \u001b[32m━━━━━━━━━━━━━━━━━━━━\u001b[0m\u001b[37m\u001b[0m \u001b[1m5s\u001b[0m 3ms/step - accuracy: 0.6809 - loss: 1.0002 - val_accuracy: 0.8314 - val_loss: 0.4978\n",
      "Epoch 2/30\n",
      "\u001b[1m1719/1719\u001b[0m \u001b[32m━━━━━━━━━━━━━━━━━━━━\u001b[0m\u001b[37m\u001b[0m \u001b[1m4s\u001b[0m 3ms/step - accuracy: 0.8256 - loss: 0.5041 - val_accuracy: 0.8374 - val_loss: 0.4533\n",
      "Epoch 3/30\n",
      "\u001b[1m1719/1719\u001b[0m \u001b[32m━━━━━━━━━━━━━━━━━━━━\u001b[0m\u001b[37m\u001b[0m \u001b[1m4s\u001b[0m 3ms/step - accuracy: 0.8397 - loss: 0.4517 - val_accuracy: 0.8516 - val_loss: 0.4265\n",
      "Epoch 4/30\n",
      "\u001b[1m1719/1719\u001b[0m \u001b[32m━━━━━━━━━━━━━━━━━━━━\u001b[0m\u001b[37m\u001b[0m \u001b[1m4s\u001b[0m 3ms/step - accuracy: 0.8516 - loss: 0.4261 - val_accuracy: 0.8630 - val_loss: 0.4030\n",
      "Epoch 5/30\n",
      "\u001b[1m1719/1719\u001b[0m \u001b[32m━━━━━━━━━━━━━━━━━━━━\u001b[0m\u001b[37m\u001b[0m \u001b[1m4s\u001b[0m 2ms/step - accuracy: 0.8588 - loss: 0.4021 - val_accuracy: 0.8636 - val_loss: 0.3888\n",
      "Epoch 6/30\n",
      "\u001b[1m1719/1719\u001b[0m \u001b[32m━━━━━━━━━━━━━━━━━━━━\u001b[0m\u001b[37m\u001b[0m \u001b[1m4s\u001b[0m 3ms/step - accuracy: 0.8660 - loss: 0.3825 - val_accuracy: 0.8562 - val_loss: 0.4070\n",
      "Epoch 7/30\n",
      "\u001b[1m1719/1719\u001b[0m \u001b[32m━━━━━━━━━━━━━━━━━━━━\u001b[0m\u001b[37m\u001b[0m \u001b[1m5s\u001b[0m 3ms/step - accuracy: 0.8715 - loss: 0.3655 - val_accuracy: 0.8586 - val_loss: 0.3982\n",
      "Epoch 8/30\n",
      "\u001b[1m1719/1719\u001b[0m \u001b[32m━━━━━━━━━━━━━━━━━━━━\u001b[0m\u001b[37m\u001b[0m \u001b[1m4s\u001b[0m 3ms/step - accuracy: 0.8717 - loss: 0.3599 - val_accuracy: 0.8750 - val_loss: 0.3565\n",
      "Epoch 9/30\n",
      "\u001b[1m1719/1719\u001b[0m \u001b[32m━━━━━━━━━━━━━━━━━━━━\u001b[0m\u001b[37m\u001b[0m \u001b[1m4s\u001b[0m 3ms/step - accuracy: 0.8773 - loss: 0.3473 - val_accuracy: 0.8674 - val_loss: 0.3660\n",
      "Epoch 10/30\n",
      "\u001b[1m1719/1719\u001b[0m \u001b[32m━━━━━━━━━━━━━━━━━━━━\u001b[0m\u001b[37m\u001b[0m \u001b[1m4s\u001b[0m 2ms/step - accuracy: 0.8776 - loss: 0.3430 - val_accuracy: 0.8682 - val_loss: 0.3725\n",
      "Epoch 11/30\n",
      "\u001b[1m1719/1719\u001b[0m \u001b[32m━━━━━━━━━━━━━━━━━━━━\u001b[0m\u001b[37m\u001b[0m \u001b[1m4s\u001b[0m 3ms/step - accuracy: 0.8821 - loss: 0.3306 - val_accuracy: 0.8810 - val_loss: 0.3354\n",
      "Epoch 12/30\n",
      "\u001b[1m1719/1719\u001b[0m \u001b[32m━━━━━━━━━━━━━━━━━━━━\u001b[0m\u001b[37m\u001b[0m \u001b[1m4s\u001b[0m 2ms/step - accuracy: 0.8857 - loss: 0.3204 - val_accuracy: 0.8760 - val_loss: 0.3534\n",
      "Epoch 13/30\n",
      "\u001b[1m1719/1719\u001b[0m \u001b[32m━━━━━━━━━━━━━━━━━━━━\u001b[0m\u001b[37m\u001b[0m \u001b[1m4s\u001b[0m 2ms/step - accuracy: 0.8864 - loss: 0.3166 - val_accuracy: 0.8834 - val_loss: 0.3310\n",
      "Epoch 14/30\n",
      "\u001b[1m1719/1719\u001b[0m \u001b[32m━━━━━━━━━━━━━━━━━━━━\u001b[0m\u001b[37m\u001b[0m \u001b[1m5s\u001b[0m 3ms/step - accuracy: 0.8914 - loss: 0.3039 - val_accuracy: 0.8762 - val_loss: 0.3472\n",
      "Epoch 15/30\n",
      "\u001b[1m1719/1719\u001b[0m \u001b[32m━━━━━━━━━━━━━━━━━━━━\u001b[0m\u001b[37m\u001b[0m \u001b[1m4s\u001b[0m 3ms/step - accuracy: 0.8923 - loss: 0.3002 - val_accuracy: 0.8842 - val_loss: 0.3190\n",
      "Epoch 16/30\n",
      "\u001b[1m1719/1719\u001b[0m \u001b[32m━━━━━━━━━━━━━━━━━━━━\u001b[0m\u001b[37m\u001b[0m \u001b[1m4s\u001b[0m 3ms/step - accuracy: 0.8969 - loss: 0.2959 - val_accuracy: 0.8728 - val_loss: 0.3469\n",
      "Epoch 17/30\n",
      "\u001b[1m1719/1719\u001b[0m \u001b[32m━━━━━━━━━━━━━━━━━━━━\u001b[0m\u001b[37m\u001b[0m \u001b[1m4s\u001b[0m 2ms/step - accuracy: 0.8939 - loss: 0.2907 - val_accuracy: 0.8838 - val_loss: 0.3210\n",
      "Epoch 18/30\n",
      "\u001b[1m1719/1719\u001b[0m \u001b[32m━━━━━━━━━━━━━━━━━━━━\u001b[0m\u001b[37m\u001b[0m \u001b[1m4s\u001b[0m 3ms/step - accuracy: 0.8989 - loss: 0.2797 - val_accuracy: 0.8874 - val_loss: 0.3126\n",
      "Epoch 19/30\n",
      "\u001b[1m1719/1719\u001b[0m \u001b[32m━━━━━━━━━━━━━━━━━━━━\u001b[0m\u001b[37m\u001b[0m \u001b[1m4s\u001b[0m 2ms/step - accuracy: 0.9001 - loss: 0.2766 - val_accuracy: 0.8874 - val_loss: 0.3146\n",
      "Epoch 20/30\n",
      "\u001b[1m1719/1719\u001b[0m \u001b[32m━━━━━━━━━━━━━━━━━━━━\u001b[0m\u001b[37m\u001b[0m \u001b[1m4s\u001b[0m 3ms/step - accuracy: 0.9014 - loss: 0.2726 - val_accuracy: 0.8866 - val_loss: 0.3174\n",
      "Epoch 21/30\n",
      "\u001b[1m1719/1719\u001b[0m \u001b[32m━━━━━━━━━━━━━━━━━━━━\u001b[0m\u001b[37m\u001b[0m \u001b[1m4s\u001b[0m 3ms/step - accuracy: 0.9035 - loss: 0.2663 - val_accuracy: 0.8892 - val_loss: 0.3127\n",
      "Epoch 22/30\n",
      "\u001b[1m1719/1719\u001b[0m \u001b[32m━━━━━━━━━━━━━━━━━━━━\u001b[0m\u001b[37m\u001b[0m \u001b[1m5s\u001b[0m 3ms/step - accuracy: 0.9071 - loss: 0.2609 - val_accuracy: 0.8870 - val_loss: 0.3143\n",
      "Epoch 23/30\n",
      "\u001b[1m1719/1719\u001b[0m \u001b[32m━━━━━━━━━━━━━━━━━━━━\u001b[0m\u001b[37m\u001b[0m \u001b[1m4s\u001b[0m 2ms/step - accuracy: 0.9034 - loss: 0.2636 - val_accuracy: 0.8912 - val_loss: 0.3040\n",
      "Epoch 24/30\n",
      "\u001b[1m1719/1719\u001b[0m \u001b[32m━━━━━━━━━━━━━━━━━━━━\u001b[0m\u001b[37m\u001b[0m \u001b[1m4s\u001b[0m 2ms/step - accuracy: 0.9068 - loss: 0.2564 - val_accuracy: 0.8876 - val_loss: 0.3131\n",
      "Epoch 25/30\n",
      "\u001b[1m1719/1719\u001b[0m \u001b[32m━━━━━━━━━━━━━━━━━━━━\u001b[0m\u001b[37m\u001b[0m \u001b[1m4s\u001b[0m 3ms/step - accuracy: 0.9140 - loss: 0.2442 - val_accuracy: 0.8878 - val_loss: 0.3166\n",
      "Epoch 26/30\n",
      "\u001b[1m1719/1719\u001b[0m \u001b[32m━━━━━━━━━━━━━━━━━━━━\u001b[0m\u001b[37m\u001b[0m \u001b[1m4s\u001b[0m 2ms/step - accuracy: 0.9112 - loss: 0.2442 - val_accuracy: 0.8950 - val_loss: 0.3031\n",
      "Epoch 27/30\n",
      "\u001b[1m1719/1719\u001b[0m \u001b[32m━━━━━━━━━━━━━━━━━━━━\u001b[0m\u001b[37m\u001b[0m \u001b[1m4s\u001b[0m 2ms/step - accuracy: 0.9137 - loss: 0.2399 - val_accuracy: 0.8898 - val_loss: 0.3033\n",
      "Epoch 28/30\n",
      "\u001b[1m1719/1719\u001b[0m \u001b[32m━━━━━━━━━━━━━━━━━━━━\u001b[0m\u001b[37m\u001b[0m \u001b[1m4s\u001b[0m 3ms/step - accuracy: 0.9170 - loss: 0.2317 - val_accuracy: 0.8844 - val_loss: 0.3172\n",
      "Epoch 29/30\n",
      "\u001b[1m1719/1719\u001b[0m \u001b[32m━━━━━━━━━━━━━━━━━━━━\u001b[0m\u001b[37m\u001b[0m \u001b[1m5s\u001b[0m 3ms/step - accuracy: 0.9153 - loss: 0.2329 - val_accuracy: 0.8918 - val_loss: 0.2951\n",
      "Epoch 30/30\n",
      "\u001b[1m1719/1719\u001b[0m \u001b[32m━━━━━━━━━━━━━━━━━━━━\u001b[0m\u001b[37m\u001b[0m \u001b[1m4s\u001b[0m 2ms/step - accuracy: 0.9175 - loss: 0.2295 - val_accuracy: 0.8910 - val_loss: 0.3035\n"
     ]
    }
   ],
   "source": [
    "# 训练和评估模型: 只需要调用其fit()方法即可。\n",
    "history = model.fit(X_train, y_train, epochs=30, \n",
    "                    validation_data=(X_valid, y_valid))"
   ]
  },
  {
   "cell_type": "code",
   "execution_count": 5,
   "id": "338d3a73",
   "metadata": {
    "execution": {
     "iopub.execute_input": "2024-10-03T07:16:06.697558Z",
     "iopub.status.busy": "2024-10-03T07:16:06.697112Z",
     "iopub.status.idle": "2024-10-03T07:16:07.601108Z",
     "shell.execute_reply": "2024-10-03T07:16:07.600004Z"
    },
    "papermill": {
     "duration": 1.150381,
     "end_time": "2024-10-03T07:16:07.603432",
     "exception": false,
     "start_time": "2024-10-03T07:16:06.453051",
     "status": "completed"
    },
    "tags": []
   },
   "outputs": [
    {
     "name": "stdout",
     "output_type": "stream",
     "text": [
      "Saving figure keras_learning_curves_plot\n"
     ]
    },
    {
     "data": {
      "image/png": "[encoded data removed]",
      "text/plain": [
       "<Figure size 800x500 with 1 Axes>"
      ]
     },
     "metadata": {},
     "output_type": "display_data"
    }
   ],
   "source": [
    "# 绘制学习率曲线\n",
    "import os\n",
    "import pandas as pd\n",
    "\n",
    "# Where to save the figures\n",
    "PROJECT_ROOT_DIR = \".\"\n",
    "CHAPTER_ID = \"ann\"\n",
    "IMAGES_PATH = os.path.join(PROJECT_ROOT_DIR, \"images\", CHAPTER_ID)\n",
    "os.makedirs(IMAGES_PATH, exist_ok=True)\n",
    "\n",
    "def save_fig(fig_id, tight_layout=True, fig_extension=\"png\", resolution=300):\n",
    "    path = os.path.join(IMAGES_PATH, fig_id + \".\" + fig_extension)\n",
    "    print(\"Saving figure\", fig_id)\n",
    "    if tight_layout:\n",
    "        plt.tight_layout()\n",
    "    plt.savefig(path, format=fig_extension, dpi=resolution)\n",
    "\n",
    "pd.DataFrame(history.history).plot(figsize=(8, 5))\n",
    "plt.grid(True)\n",
    "plt.gca().set_ylim(0, 1)\n",
    "save_fig(\"keras_learning_curves_plot\")\n",
    "plt.show()"
   ]
  },
  {
   "cell_type": "code",
   "execution_count": 6,
   "id": "4393adce",
   "metadata": {
    "execution": {
     "iopub.execute_input": "2024-10-03T07:16:07.965398Z",
     "iopub.status.busy": "2024-10-03T07:16:07.964403Z",
     "iopub.status.idle": "2024-10-03T07:16:08.721765Z",
     "shell.execute_reply": "2024-10-03T07:16:08.720614Z"
    },
    "papermill": {
     "duration": 0.939637,
     "end_time": "2024-10-03T07:16:08.724220",
     "exception": false,
     "start_time": "2024-10-03T07:16:07.784583",
     "status": "completed"
    },
    "tags": []
   },
   "outputs": [
    {
     "name": "stdout",
     "output_type": "stream",
     "text": [
      "\u001b[1m313/313\u001b[0m \u001b[32m━━━━━━━━━━━━━━━━━━━━\u001b[0m\u001b[37m\u001b[0m \u001b[1m1s\u001b[0m 2ms/step - accuracy: 0.8802 - loss: 0.3406\n"
     ]
    },
    {
     "data": {
      "text/plain": [
       "[0.3359225392341614, 0.8787000179290771]"
      ]
     },
     "execution_count": 6,
     "metadata": {},
     "output_type": "execute_result"
    }
   ],
   "source": [
    "# 测试模型\n",
    "model.evaluate(X_test, y_test)"
   ]
  },
  {
   "cell_type": "code",
   "execution_count": 7,
   "id": "a1d10a80",
   "metadata": {
    "execution": {
     "iopub.execute_input": "2024-10-03T07:16:09.083132Z",
     "iopub.status.busy": "2024-10-03T07:16:09.082645Z",
     "iopub.status.idle": "2024-10-03T07:16:09.267944Z",
     "shell.execute_reply": "2024-10-03T07:16:09.266872Z"
    },
    "papermill": {
     "duration": 0.367614,
     "end_time": "2024-10-03T07:16:09.270328",
     "exception": false,
     "start_time": "2024-10-03T07:16:08.902714",
     "status": "completed"
    },
    "tags": []
   },
   "outputs": [
    {
     "name": "stdout",
     "output_type": "stream",
     "text": [
      "\u001b[1m1/1\u001b[0m \u001b[32m━━━━━━━━━━━━━━━━━━━━\u001b[0m\u001b[37m\u001b[0m \u001b[1m0s\u001b[0m 56ms/step\n",
      "y_proba: [[0.   0.   0.   0.   0.   0.   0.   0.   0.   0.99]\n",
      " [0.   0.   1.   0.   0.   0.   0.   0.   0.   0.  ]\n",
      " [0.   1.   0.   0.   0.   0.   0.   0.   0.   0.  ]]\n",
      "\u001b[1m1/1\u001b[0m \u001b[32m━━━━━━━━━━━━━━━━━━━━\u001b[0m\u001b[37m\u001b[0m \u001b[1m0s\u001b[0m 19ms/step\n",
      "y_pred: [9 2 1]\n",
      "pred_class: ['Ankle boot' 'Pullover' 'Trouser']\n"
     ]
    }
   ],
   "source": [
    "# 使用模型进行预测\n",
    "import numpy as np\n",
    "X_new = X_test[:3]\n",
    "y_proba = model.predict(X_new)\n",
    "print(f\"y_proba: {y_proba.round(2)}\")\n",
    "#y_pred = model.predict_classes(X_new) # deprecated\n",
    "y_pred = np.argmax(model.predict(X_new), axis=-1)\n",
    "class_names = [\"T-shirt/top\", \"Trouser\", \"Pullover\", \"Dress\", \"Coat\",\n",
    "               \"Sandal\", \"Shirt\", \"Sneaker\", \"Bag\", \"Ankle boot\"]\n",
    "print(f\"y_pred: {y_pred}\")\n",
    "print(f\"pred_class: {np.array(class_names)[y_pred]}\")"
   ]
  },
  {
   "cell_type": "markdown",
   "id": "f007cbfe",
   "metadata": {
    "papermill": {
     "duration": 0.178502,
     "end_time": "2024-10-03T07:16:09.630092",
     "exception": false,
     "start_time": "2024-10-03T07:16:09.451590",
     "status": "completed"
    },
    "tags": []
   },
   "source": [
    "- **使用顺序API构建回归多层感知机(MLP)**:  让我们转到加州的住房问题，并使用回归神经网络解决它。"
   ]
  },
  {
   "cell_type": "code",
   "execution_count": 8,
   "id": "21f0feff",
   "metadata": {
    "execution": {
     "iopub.execute_input": "2024-10-03T07:16:09.993134Z",
     "iopub.status.busy": "2024-10-03T07:16:09.992330Z",
     "iopub.status.idle": "2024-10-03T07:16:17.749641Z",
     "shell.execute_reply": "2024-10-03T07:16:17.748719Z"
    },
    "papermill": {
     "duration": 7.940217,
     "end_time": "2024-10-03T07:16:17.752252",
     "exception": false,
     "start_time": "2024-10-03T07:16:09.812035",
     "status": "completed"
    },
    "tags": []
   },
   "outputs": [],
   "source": [
    "# 加载数据后，我们将其分为训练集、验证集和测试集，然后比例缩放所有特征。\n",
    "from sklearn.datasets import fetch_california_housing \n",
    "from sklearn.model_selection import train_test_split \n",
    "from sklearn.preprocessing import StandardScaler \n",
    "housing = fetch_california_housing() \n",
    " \n",
    "X_train_full, X_test, y_train_full, y_test = train_test_split( \n",
    "    housing.data, housing.target) \n",
    "X_train, X_valid, y_train, y_valid = train_test_split( \n",
    "    X_train_full, y_train_full) \n",
    " \n",
    "scaler = StandardScaler() \n",
    "X_train = scaler.fit_transform(X_train) \n",
    "X_valid = scaler.transform(X_valid) \n",
    "X_test = scaler.transform(X_test) "
   ]
  },
  {
   "cell_type": "code",
   "execution_count": 9,
   "id": "33aa3faf",
   "metadata": {
    "execution": {
     "iopub.execute_input": "2024-10-03T07:16:18.116020Z",
     "iopub.status.busy": "2024-10-03T07:16:18.115147Z",
     "iopub.status.idle": "2024-10-03T07:16:18.187995Z",
     "shell.execute_reply": "2024-10-03T07:16:18.186893Z"
    },
    "papermill": {
     "duration": 0.257313,
     "end_time": "2024-10-03T07:16:18.190061",
     "exception": false,
     "start_time": "2024-10-03T07:16:17.932748",
     "status": "completed"
    },
    "tags": []
   },
   "outputs": [
    {
     "data": {
      "text/html": [
       "<pre style=\"white-space:pre;overflow-x:auto;line-height:normal;font-family:Menlo,'DejaVu Sans Mono',consolas,'Courier New',monospace\"><span style=\"font-weight: bold\">Model: \"functional_2\"</span>\n",
       "</pre>\n"
      ],
      "text/plain": [
       "\u001b[1mModel: \"functional_2\"\u001b[0m\n"
      ]
     },
     "metadata": {},
     "output_type": "display_data"
    },
    {
     "data": {
      "text/html": [
       "<pre style=\"white-space:pre;overflow-x:auto;line-height:normal;font-family:Menlo,'DejaVu Sans Mono',consolas,'Courier New',monospace\">┏━━━━━━━━━━━━━━━━━━━━━┳━━━━━━━━━━━━━━━━━━━┳━━━━━━━━━━━━┳━━━━━━━━━━━━━━━━━━━┓\n",
       "┃<span style=\"font-weight: bold\"> Layer (type)        </span>┃<span style=\"font-weight: bold\"> Output Shape      </span>┃<span style=\"font-weight: bold\">    Param # </span>┃<span style=\"font-weight: bold\"> Connected to      </span>┃\n",
       "┡━━━━━━━━━━━━━━━━━━━━━╇━━━━━━━━━━━━━━━━━━━╇━━━━━━━━━━━━╇━━━━━━━━━━━━━━━━━━━┩\n",
       "│ input_layer_1       │ (<span style=\"color: #00d7ff; text-decoration-color: #00d7ff\">None</span>, <span style=\"color: #00af00; text-decoration-color: #00af00\">8</span>)         │          <span style=\"color: #00af00; text-decoration-color: #00af00\">0</span> │ -                 │\n",
       "│ (<span style=\"color: #0087ff; text-decoration-color: #0087ff\">InputLayer</span>)        │                   │            │                   │\n",
       "├─────────────────────┼───────────────────┼────────────┼───────────────────┤\n",
       "│ dense_3 (<span style=\"color: #0087ff; text-decoration-color: #0087ff\">Dense</span>)     │ (<span style=\"color: #00d7ff; text-decoration-color: #00d7ff\">None</span>, <span style=\"color: #00af00; text-decoration-color: #00af00\">30</span>)        │        <span style=\"color: #00af00; text-decoration-color: #00af00\">270</span> │ input_layer_1[<span style=\"color: #00af00; text-decoration-color: #00af00\">0</span>]… │\n",
       "├─────────────────────┼───────────────────┼────────────┼───────────────────┤\n",
       "│ dense_4 (<span style=\"color: #0087ff; text-decoration-color: #0087ff\">Dense</span>)     │ (<span style=\"color: #00d7ff; text-decoration-color: #00d7ff\">None</span>, <span style=\"color: #00af00; text-decoration-color: #00af00\">30</span>)        │        <span style=\"color: #00af00; text-decoration-color: #00af00\">930</span> │ dense_3[<span style=\"color: #00af00; text-decoration-color: #00af00\">0</span>][<span style=\"color: #00af00; text-decoration-color: #00af00\">0</span>]     │\n",
       "├─────────────────────┼───────────────────┼────────────┼───────────────────┤\n",
       "│ concatenate         │ (<span style=\"color: #00d7ff; text-decoration-color: #00d7ff\">None</span>, <span style=\"color: #00af00; text-decoration-color: #00af00\">38</span>)        │          <span style=\"color: #00af00; text-decoration-color: #00af00\">0</span> │ input_layer_1[<span style=\"color: #00af00; text-decoration-color: #00af00\">0</span>]… │\n",
       "│ (<span style=\"color: #0087ff; text-decoration-color: #0087ff\">Concatenate</span>)       │                   │            │ dense_4[<span style=\"color: #00af00; text-decoration-color: #00af00\">0</span>][<span style=\"color: #00af00; text-decoration-color: #00af00\">0</span>]     │\n",
       "├─────────────────────┼───────────────────┼────────────┼───────────────────┤\n",
       "│ dense_5 (<span style=\"color: #0087ff; text-decoration-color: #0087ff\">Dense</span>)     │ (<span style=\"color: #00d7ff; text-decoration-color: #00d7ff\">None</span>, <span style=\"color: #00af00; text-decoration-color: #00af00\">1</span>)         │         <span style=\"color: #00af00; text-decoration-color: #00af00\">39</span> │ concatenate[<span style=\"color: #00af00; text-decoration-color: #00af00\">0</span>][<span style=\"color: #00af00; text-decoration-color: #00af00\">0</span>] │\n",
       "└─────────────────────┴───────────────────┴────────────┴───────────────────┘\n",
       "</pre>\n"
      ],
      "text/plain": [
       "┏━━━━━━━━━━━━━━━━━━━━━┳━━━━━━━━━━━━━━━━━━━┳━━━━━━━━━━━━┳━━━━━━━━━━━━━━━━━━━┓\n",
       "┃\u001b[1m \u001b[0m\u001b[1mLayer (type)       \u001b[0m\u001b[1m \u001b[0m┃\u001b[1m \u001b[0m\u001b[1mOutput Shape     \u001b[0m\u001b[1m \u001b[0m┃\u001b[1m \u001b[0m\u001b[1m   Param #\u001b[0m\u001b[1m \u001b[0m┃\u001b[1m \u001b[0m\u001b[1mConnected to     \u001b[0m\u001b[1m \u001b[0m┃\n",
       "┡━━━━━━━━━━━━━━━━━━━━━╇━━━━━━━━━━━━━━━━━━━╇━━━━━━━━━━━━╇━━━━━━━━━━━━━━━━━━━┩\n",
       "│ input_layer_1       │ (\u001b[38;5;45mNone\u001b[0m, \u001b[38;5;34m8\u001b[0m)         │          \u001b[38;5;34m0\u001b[0m │ -                 │\n",
       "│ (\u001b[38;5;33mInputLayer\u001b[0m)        │                   │            │                   │\n",
       "├─────────────────────┼───────────────────┼────────────┼───────────────────┤\n",
       "│ dense_3 (\u001b[38;5;33mDense\u001b[0m)     │ (\u001b[38;5;45mNone\u001b[0m, \u001b[38;5;34m30\u001b[0m)        │        \u001b[38;5;34m270\u001b[0m │ input_layer_1[\u001b[38;5;34m0\u001b[0m]… │\n",
       "├─────────────────────┼───────────────────┼────────────┼───────────────────┤\n",
       "│ dense_4 (\u001b[38;5;33mDense\u001b[0m)     │ (\u001b[38;5;45mNone\u001b[0m, \u001b[38;5;34m30\u001b[0m)        │        \u001b[38;5;34m930\u001b[0m │ dense_3[\u001b[38;5;34m0\u001b[0m][\u001b[38;5;34m0\u001b[0m]     │\n",
       "├─────────────────────┼───────────────────┼────────────┼───────────────────┤\n",
       "│ concatenate         │ (\u001b[38;5;45mNone\u001b[0m, \u001b[38;5;34m38\u001b[0m)        │          \u001b[38;5;34m0\u001b[0m │ input_layer_1[\u001b[38;5;34m0\u001b[0m]… │\n",
       "│ (\u001b[38;5;33mConcatenate\u001b[0m)       │                   │            │ dense_4[\u001b[38;5;34m0\u001b[0m][\u001b[38;5;34m0\u001b[0m]     │\n",
       "├─────────────────────┼───────────────────┼────────────┼───────────────────┤\n",
       "│ dense_5 (\u001b[38;5;33mDense\u001b[0m)     │ (\u001b[38;5;45mNone\u001b[0m, \u001b[38;5;34m1\u001b[0m)         │         \u001b[38;5;34m39\u001b[0m │ concatenate[\u001b[38;5;34m0\u001b[0m][\u001b[38;5;34m0\u001b[0m] │\n",
       "└─────────────────────┴───────────────────┴────────────┴───────────────────┘\n"
      ]
     },
     "metadata": {},
     "output_type": "display_data"
    },
    {
     "data": {
      "text/html": [
       "<pre style=\"white-space:pre;overflow-x:auto;line-height:normal;font-family:Menlo,'DejaVu Sans Mono',consolas,'Courier New',monospace\"><span style=\"font-weight: bold\"> Total params: </span><span style=\"color: #00af00; text-decoration-color: #00af00\">1,239</span> (4.84 KB)\n",
       "</pre>\n"
      ],
      "text/plain": [
       "\u001b[1m Total params: \u001b[0m\u001b[38;5;34m1,239\u001b[0m (4.84 KB)\n"
      ]
     },
     "metadata": {},
     "output_type": "display_data"
    },
    {
     "data": {
      "text/html": [
       "<pre style=\"white-space:pre;overflow-x:auto;line-height:normal;font-family:Menlo,'DejaVu Sans Mono',consolas,'Courier New',monospace\"><span style=\"font-weight: bold\"> Trainable params: </span><span style=\"color: #00af00; text-decoration-color: #00af00\">1,239</span> (4.84 KB)\n",
       "</pre>\n"
      ],
      "text/plain": [
       "\u001b[1m Trainable params: \u001b[0m\u001b[38;5;34m1,239\u001b[0m (4.84 KB)\n"
      ]
     },
     "metadata": {},
     "output_type": "display_data"
    },
    {
     "data": {
      "text/html": [
       "<pre style=\"white-space:pre;overflow-x:auto;line-height:normal;font-family:Menlo,'DejaVu Sans Mono',consolas,'Courier New',monospace\"><span style=\"font-weight: bold\"> Non-trainable params: </span><span style=\"color: #00af00; text-decoration-color: #00af00\">0</span> (0.00 B)\n",
       "</pre>\n"
      ],
      "text/plain": [
       "\u001b[1m Non-trainable params: \u001b[0m\u001b[38;5;34m0\u001b[0m (0.00 B)\n"
      ]
     },
     "metadata": {},
     "output_type": "display_data"
    }
   ],
   "source": [
    "np.random.seed(42)\n",
    "tf.random.set_seed(42)\n",
    "\n",
    "input_ = keras.layers.Input(shape=X_train.shape[1:])\n",
    "hidden1 = keras.layers.Dense(30, activation=\"relu\")(input_)\n",
    "hidden2 = keras.layers.Dense(30, activation=\"relu\")(hidden1)\n",
    "concat = keras.layers.concatenate([input_, hidden2])\n",
    "output = keras.layers.Dense(1)(concat)\n",
    "model = keras.models.Model(inputs=[input_], outputs=[output])\n",
    "\n",
    "model.summary()"
   ]
  },
  {
   "cell_type": "code",
   "execution_count": 10,
   "id": "9ecb8d33",
   "metadata": {
    "execution": {
     "iopub.execute_input": "2024-10-03T07:16:18.605897Z",
     "iopub.status.busy": "2024-10-03T07:16:18.605487Z",
     "iopub.status.idle": "2024-10-03T07:16:30.472596Z",
     "shell.execute_reply": "2024-10-03T07:16:30.471540Z"
    },
    "papermill": {
     "duration": 12.10303,
     "end_time": "2024-10-03T07:16:30.474826",
     "exception": false,
     "start_time": "2024-10-03T07:16:18.371796",
     "status": "completed"
    },
    "tags": []
   },
   "outputs": [
    {
     "name": "stdout",
     "output_type": "stream",
     "text": [
      "Epoch 1/20\n"
     ]
    },
    {
     "name": "stderr",
     "output_type": "stream",
     "text": [
      "/opt/conda/lib/python3.10/site-packages/keras/src/layers/core/dense.py:87: UserWarning: Do not pass an `input_shape`/`input_dim` argument to a layer. When using Sequential models, prefer using an `Input(shape)` object as the first layer in the model instead.\n",
      "  super().__init__(activity_regularizer=activity_regularizer, **kwargs)\n"
     ]
    },
    {
     "name": "stdout",
     "output_type": "stream",
     "text": [
      "\u001b[1m363/363\u001b[0m \u001b[32m━━━━━━━━━━━━━━━━━━━━\u001b[0m\u001b[37m\u001b[0m \u001b[1m1s\u001b[0m 2ms/step - loss: 2.0259 - val_loss: 0.9807\n",
      "Epoch 2/20\n",
      "\u001b[1m363/363\u001b[0m \u001b[32m━━━━━━━━━━━━━━━━━━━━\u001b[0m\u001b[37m\u001b[0m \u001b[1m1s\u001b[0m 1ms/step - loss: 0.4470 - val_loss: 0.4687\n",
      "Epoch 3/20\n",
      "\u001b[1m363/363\u001b[0m \u001b[32m━━━━━━━━━━━━━━━━━━━━\u001b[0m\u001b[37m\u001b[0m \u001b[1m1s\u001b[0m 1ms/step - loss: 0.4141 - val_loss: 0.4370\n",
      "Epoch 4/20\n",
      "\u001b[1m363/363\u001b[0m \u001b[32m━━━━━━━━━━━━━━━━━━━━\u001b[0m\u001b[37m\u001b[0m \u001b[1m1s\u001b[0m 2ms/step - loss: 0.4024 - val_loss: 0.4074\n",
      "Epoch 5/20\n",
      "\u001b[1m363/363\u001b[0m \u001b[32m━━━━━━━━━━━━━━━━━━━━\u001b[0m\u001b[37m\u001b[0m \u001b[1m1s\u001b[0m 1ms/step - loss: 0.3960 - val_loss: 0.4116\n",
      "Epoch 6/20\n",
      "\u001b[1m363/363\u001b[0m \u001b[32m━━━━━━━━━━━━━━━━━━━━\u001b[0m\u001b[37m\u001b[0m \u001b[1m1s\u001b[0m 1ms/step - loss: 0.3921 - val_loss: 0.4045\n",
      "Epoch 7/20\n",
      "\u001b[1m363/363\u001b[0m \u001b[32m━━━━━━━━━━━━━━━━━━━━\u001b[0m\u001b[37m\u001b[0m \u001b[1m1s\u001b[0m 1ms/step - loss: 0.3888 - val_loss: 0.4003\n",
      "Epoch 8/20\n",
      "\u001b[1m363/363\u001b[0m \u001b[32m━━━━━━━━━━━━━━━━━━━━\u001b[0m\u001b[37m\u001b[0m \u001b[1m1s\u001b[0m 1ms/step - loss: 0.3861 - val_loss: 0.4017\n",
      "Epoch 9/20\n",
      "\u001b[1m363/363\u001b[0m \u001b[32m━━━━━━━━━━━━━━━━━━━━\u001b[0m\u001b[37m\u001b[0m \u001b[1m1s\u001b[0m 1ms/step - loss: 0.3835 - val_loss: 0.3954\n",
      "Epoch 10/20\n",
      "\u001b[1m363/363\u001b[0m \u001b[32m━━━━━━━━━━━━━━━━━━━━\u001b[0m\u001b[37m\u001b[0m \u001b[1m1s\u001b[0m 1ms/step - loss: 0.3810 - val_loss: 0.3905\n",
      "Epoch 11/20\n",
      "\u001b[1m363/363\u001b[0m \u001b[32m━━━━━━━━━━━━━━━━━━━━\u001b[0m\u001b[37m\u001b[0m \u001b[1m1s\u001b[0m 1ms/step - loss: 0.3786 - val_loss: 0.3938\n",
      "Epoch 12/20\n",
      "\u001b[1m363/363\u001b[0m \u001b[32m━━━━━━━━━━━━━━━━━━━━\u001b[0m\u001b[37m\u001b[0m \u001b[1m1s\u001b[0m 1ms/step - loss: 0.3765 - val_loss: 0.3875\n",
      "Epoch 13/20\n",
      "\u001b[1m363/363\u001b[0m \u001b[32m━━━━━━━━━━━━━━━━━━━━\u001b[0m\u001b[37m\u001b[0m \u001b[1m1s\u001b[0m 2ms/step - loss: 0.3741 - val_loss: 0.3867\n",
      "Epoch 14/20\n",
      "\u001b[1m363/363\u001b[0m \u001b[32m━━━━━━━━━━━━━━━━━━━━\u001b[0m\u001b[37m\u001b[0m \u001b[1m1s\u001b[0m 1ms/step - loss: 0.3719 - val_loss: 0.3832\n",
      "Epoch 15/20\n",
      "\u001b[1m363/363\u001b[0m \u001b[32m━━━━━━━━━━━━━━━━━━━━\u001b[0m\u001b[37m\u001b[0m \u001b[1m1s\u001b[0m 1ms/step - loss: 0.3702 - val_loss: 0.3823\n",
      "Epoch 16/20\n",
      "\u001b[1m363/363\u001b[0m \u001b[32m━━━━━━━━━━━━━━━━━━━━\u001b[0m\u001b[37m\u001b[0m \u001b[1m1s\u001b[0m 1ms/step - loss: 0.3684 - val_loss: 0.3808\n",
      "Epoch 17/20\n",
      "\u001b[1m363/363\u001b[0m \u001b[32m━━━━━━━━━━━━━━━━━━━━\u001b[0m\u001b[37m\u001b[0m \u001b[1m1s\u001b[0m 1ms/step - loss: 0.3664 - val_loss: 0.3796\n",
      "Epoch 18/20\n",
      "\u001b[1m363/363\u001b[0m \u001b[32m━━━━━━━━━━━━━━━━━━━━\u001b[0m\u001b[37m\u001b[0m \u001b[1m1s\u001b[0m 1ms/step - loss: 0.3652 - val_loss: 0.3796\n",
      "Epoch 19/20\n",
      "\u001b[1m363/363\u001b[0m \u001b[32m━━━━━━━━━━━━━━━━━━━━\u001b[0m\u001b[37m\u001b[0m \u001b[1m1s\u001b[0m 1ms/step - loss: 0.3637 - val_loss: 0.3777\n",
      "Epoch 20/20\n",
      "\u001b[1m363/363\u001b[0m \u001b[32m━━━━━━━━━━━━━━━━━━━━\u001b[0m\u001b[37m\u001b[0m \u001b[1m1s\u001b[0m 1ms/step - loss: 0.3621 - val_loss: 0.3782\n",
      "\u001b[1m162/162\u001b[0m \u001b[32m━━━━━━━━━━━━━━━━━━━━\u001b[0m\u001b[37m\u001b[0m \u001b[1m0s\u001b[0m 960us/step - loss: 0.3832\n",
      "\u001b[1m1/1\u001b[0m \u001b[32m━━━━━━━━━━━━━━━━━━━━\u001b[0m\u001b[37m\u001b[0m \u001b[1m0s\u001b[0m 45ms/step\n"
     ]
    }
   ],
   "source": [
    "model = keras.models.Sequential([ \n",
    "    keras.layers.Dense(30, activation=\"relu\", input_shape=X_train.shape[1:]), \n",
    "    keras.layers.Dense(1) \n",
    "]) \n",
    "model.compile(loss=\"mean_squared_error\", optimizer=\"sgd\") \n",
    "history = model.fit(X_train, y_train, epochs=20, \n",
    "                    validation_data=(X_valid, y_valid)) \n",
    "mse_test = model.evaluate(X_test, y_test) \n",
    "X_new = X_test[:3] # pretend these are new instances \n",
    "y_pred = model.predict(X_new) "
   ]
  },
  {
   "cell_type": "markdown",
   "id": "308af575",
   "metadata": {
    "papermill": {
     "duration": 0.196849,
     "end_time": "2024-10-03T07:16:30.872533",
     "exception": false,
     "start_time": "2024-10-03T07:16:30.675684",
     "status": "completed"
    },
    "tags": []
   },
   "source": [
    "- **使用函数式API构建复杂模型**: 非顺序神经网络的一个示例是“宽深”神经网络。 它将所有或部分输入直接连接到输出层，如图10-14所示。这种架构使神经网络能够学习深度模式(使用深度路径)和简单规则(通过短路径)。\n",
    "- **使用子类API构建动态模型**: 顺序API和函数式API都是声明性的。首先声明要使用的层以及应该如何连接它们，然后才能开始向模型提供一些数据进行训练或推断。这具有许多优点：<font color=\"red\">可以轻松地保存、克隆和共享模型；可以显示和分析它的结构；框架可以推断形状和检查类型，因此可以及早发现错误(即在任何数据通过模型之前)</font>。\n",
    "- **保存和还原模型**: 如果需要在大型数据集上进行连续几个小时的训练，你不仅应该在训练结束时保存模型，还应该在训练过程中定期保存检查点，以免在计算机崩溃时丢失所有内容。\n",
    "- **使用回调函数**: fit()方法接受一个callbacks参数，该参数使你可以指定Keras在训练开始和结束时，每个轮次的开始和结束时(甚至在处理每个批量之前和之后)将调用的对象列表。\n",
    "- **使用TensorBoard进行可视化**: TensorBoard是一款出色的交互式可视化工具，可用于在训练期间查看学习曲线；比较多次运行的学习曲线；可视化计算图；分析训练统计数据；查看由模型生成的图像；把复杂的多维数据投影到3D，自动聚类并进行可视化，等等！安装TensorFlow时会自动安装此工具，因此你已经拥有了它。"
   ]
  },
  {
   "cell_type": "markdown",
   "id": "96379f47",
   "metadata": {
    "papermill": {
     "duration": 0.19844,
     "end_time": "2024-10-03T07:16:31.302202",
     "exception": false,
     "start_time": "2024-10-03T07:16:31.103762",
     "status": "completed"
    },
    "tags": []
   },
   "source": [
    "### 10.3 微调神经网络超参数\n",
    "- 神经网络的灵活性也是它们的主要缺点之一：有许多需要调整的超参数。你不仅可以使用任何可以想象的网络结构，而且即使在简单的MLP中，你也可以更改层数、每层神经元数、每层要使用的激活函数的类型、权重初始化逻辑，以及更多。\n",
    "- **如何缓解训练速度很慢的问题**: 首先使用宽范围的超参数值快速进行随机搜索，然后使用以第一次运行中找到的最佳值为中心，用较小范围的值运行另一个搜索，以此类推。该方法有望放大一组好的超参数。但是，这非常耗时，也不能最好地利用时间。\n",
    "- **用于优化超参数的python库**: Hyperopt, Hyperas、kopt或Talos, Keras Tuner, Scikit-Optimize, Spearmint, Hyperband和Sklearn-Deap。\n",
    "- **隐藏层数目**: 较低的隐藏层对低层结构(例如形状和方向不同的线段)建模，中间的隐藏层组合这些低层结构，对中间层结构(例如正方形、圆形)进行建模，而最高的隐藏层和输出层将这些中间结构组合起来，对高层结构(例如人脸)进行建模。\n",
    "- **迁移学习**: 这种分层架构不仅可以帮助DNN更快地收敛到一个好的解，而且还可以提高DNN泛化到新数据集的能力。例如，如果你已经训练了一个模型来识别图片中的人脸，并且现在想训练一个新的神经网络来识别发型，则可以通过重用第一个网络的较低层来开始训练。\n",
    "- **每个隐藏层的神经元数量**: 对于隐藏层，通常将它们调整大小以形成金字塔状，每一层的神经元越来越少，理由是许多低层特征可以合并成更少的高层特征。就像层数一样，你可以尝试逐渐增加神经元的数量，直到网络开始过拟合为止。<font color=\"red\">但是在实践中，选择一个比你实际需要的层和神经元更多的模型，然后使用提前停止和其他正则化技术来防止模型过拟合，通常更简单、更有效(“弹力裤”方法)。</font>\n",
    "- **学习率、批量大小和其他超参数**： 隐藏层和神经元的数量并不是你可以在MLP中进行调整的唯一超参数。还可以微调学习率、优化器、批量大小、激活函数、迭代次数等参数。\n",
    "- **大型神经网络的优势**: 大型神经网络几乎永远不会陷入局部极小值，即使陷入了，这些局部最优也几乎与全局最优一样好。但是，它们仍然可能长时间卡在一个平台上。"
   ]
  },
  {
   "cell_type": "markdown",
   "id": "d62abd25",
   "metadata": {
    "papermill": {
     "duration": 0.199683,
     "end_time": "2024-10-03T07:16:31.712399",
     "exception": false,
     "start_time": "2024-10-03T07:16:31.512716",
     "status": "completed"
    },
    "tags": []
   },
   "source": [
    "## 第11章 训练深度神经网络\n",
    "- 训练深度神经网络(DNN)可能会遇到一些问题: (1)梯度消失或者梯度爆炸问题；(2)没有足够的数据或者缺少标签；(3)训练可能会非常缓慢；(4)过拟合。\n",
    "- 在本章中，我们将研究所有这些问题，并介绍解决这些问题的技术。我们从探索梯度消失和梯度爆炸问题及其一些受欢迎的解决方法开始。接下来，我们将研究迁移学习和无监督预训练，即使在标签数据很少的情况下，它们也可以帮助你解决复杂的任务。然后我们将讨论可以极大加速训练大型模型的各种优化器。最后我们将介绍一些流行的针对大型神经网络的正则化技术。"
   ]
  },
  {
   "cell_type": "markdown",
   "id": "9289e34d",
   "metadata": {
    "papermill": {
     "duration": 0.19383,
     "end_time": "2024-10-03T07:16:32.098418",
     "exception": false,
     "start_time": "2024-10-03T07:16:31.904588",
     "status": "completed"
    },
    "tags": []
   },
   "source": [
    "### 11.1 梯度消失与梯度爆炸问题\n",
    "- 在反向传播中，随着算法向下传播到较低层，梯度通常会越来越小。结果梯度下降更新使较低层的连接权重保持不变，训练不能收敛到一个良好的解。我们称其为**梯度消失问题**。\n",
    "- 在某些情况下，可能会出现相反的情况：梯度可能会越来越大，各层需要更新很大的权重直到算法发散为止。这是**梯度爆炸问题**，它出现在递归神经网络中(见第15章)。\n",
    "- Glorot和Bengio在它们的论文中提出了一种能**显著缓解不稳定梯度问题**的方法。他们指出，我们需要信号在两个方向上正确流动：进行预测时，信号为正向；在反向传播梯度时，信号为反向。我们既不希望信号消失，也不希望它爆炸并饱和。为了使信号正确流动，作者认为，我们需要<font color=\"red\">每层输出的方差等于其输入的方差</font>[2]，并且我们需要在反方向时流过某层之前和之后的梯度具有相同的方差(如果你对数学细节感兴趣，请查看本论文)。https://blog.csdn.net/sinat_34072381/article/details/108426725\n",
    "- **Xavier初始化或者Glorot初始化(核心思想是保持每一层输出的方差与输入的方差一致)**: 使用逻辑激活函数时，Glorot初始化要求服从均值为0，方差为$\\sigma^2=\\frac{1}{fan_{avg}}$, 均值为0的正态分布。或者服从$[-r, r]$的均匀分布，其中$r=\\sqrt{\\frac{3}{fan_{avg}}}$。其中$fan_{avg}=\\frac{fan_{in}+fan_{out}}{2}$。\n",
    "- **LeCun初始化**: 将Glorot初始化中的$fan_{avg}$替换为$fan_{in}$。当$fan_{in}=fan_{out}$时，LeCun初始化等于Glorot初始化。"
   ]
  },
  {
   "cell_type": "markdown",
   "id": "b95b0a13",
   "metadata": {
    "papermill": {
     "duration": 0.19636,
     "end_time": "2024-10-03T07:16:32.489589",
     "exception": false,
     "start_time": "2024-10-03T07:16:32.293229",
     "status": "completed"
    },
    "tags": []
   },
   "source": [
    "- **激活函数**: sigmoid的激活函数、ReLU激活函数、Leaky ReLU、指数线性单位(Exponential Linear Unit，ELU)、可拓展的ELU(Scaled ELU, SELU)。\n",
    "- 尽管将He初始化与ELU(或ReLU的任何变体)一起使用可以显著减少在训练开始时的梯度消失/梯度爆炸问题的危险，但这并不能保证它们在训练期间不会再出现。\n",
    "- **批量归一化(BN)的技术**： 该技术包括在模型中的每个隐藏层的激活函数之前或之后添加一个操作。该操作对每个输入零中心并归一化，然后每层使用两个新的参数向量缩放和偏移其结果：一个用于缩放，另一个用于偏移。换句话说，<font color=\"red\">该操作可以使模型学习各层输入的最佳缩放和均值。</font>在许多情况下，如果你将BN层添加为神经网络的第一层，则无须归一化训练集(例如，使用StandardScaler)；BN层会为你完成此操作(因为它一次只能查看一个批次，它还可以重新缩放和偏移每个输入特征)。\n",
    "- **批量归一化的参数估计**: 为了使输入零中心并归一化，该算法需要估计每个输入的均值和标准差。通过评估当前小批次上的输入的均值和标准差(因此称为“批量归一化”)来做到这一点。大多数批量归一化的实现都是通过使用该层输入的均值和标准差的移动平均值来估计训练期间的最终统计信息。这是Keras在使用BatchNormalization层时自动执行的操作。\n",
    "- **在批量归一化中，每个批归一化层学习了四个参数向量**：通过常规反向传播学习γ(输出缩放向量)和β(输出偏移向量)，和使用指数移动平均值估计的μ(最终的输入均值向量)和σ(最终输入标准差向量)。请注意，μ和σ是在训练期间估算的，但仅在训练后使用(以替换方程式11-3中的批量输入均值和标准差)。\n",
    "- **梯度裁剪**: 缓解梯度爆炸问题的另一种流行技术是在反向传播期间裁剪梯度，使它们永远不会超过某个阈值。这称为梯度裁剪[12]。这种技术最常用于循环神经网络，因为在RNN中难以使用批量归一化，正如我们将在第15章中看到的那样。对于其他类型的网络，BN通常就足够了。"
   ]
  },
  {
   "cell_type": "markdown",
   "id": "708ba55b",
   "metadata": {
    "papermill": {
     "duration": 0.194321,
     "end_time": "2024-10-03T07:16:32.933900",
     "exception": false,
     "start_time": "2024-10-03T07:16:32.739579",
     "status": "completed"
    },
    "tags": []
   },
   "source": [
    "### 11.2 重用预训练层\n",
    "- 从头开始训练非常大的DNN通常不是一个好主意：相反，你应该总是试图找到一个现有的与你要解决的任务相似的神经网络(我们将在第14章讨论如何找到它们)，然后重用该网络的较低层。此技术称为**迁移学习**。它不仅会大大加快训练速度，而且会大大减少训练数据。\n",
    "- **用Keras进行迁移学习**： 假设Fashion MNIST数据集仅包含8个类别，例如，除凉鞋和衬衫之外的所有类别。有人在该数据集上建立并训练了Keras模型，并获得了相当不错的性能(精度>90％)。我们将此模型称为A。你现在要处理另一项任务：你有凉鞋和衬衫的图像，想要训练一个二元分类器(正=衬衫，负=凉鞋)。你的数据集非常小，只有200张带标签的图像。我们可以将8个类别上训练的模型A迁移到凉鞋和衬衫图像，以提高泛化能力。"
   ]
  },
  {
   "cell_type": "code",
   "execution_count": 11,
   "id": "0ea8396b",
   "metadata": {
    "execution": {
     "iopub.execute_input": "2024-10-03T07:16:33.321945Z",
     "iopub.status.busy": "2024-10-03T07:16:33.321493Z",
     "iopub.status.idle": "2024-10-03T07:16:33.890686Z",
     "shell.execute_reply": "2024-10-03T07:16:33.889499Z"
    },
    "papermill": {
     "duration": 0.76648,
     "end_time": "2024-10-03T07:16:33.893316",
     "exception": false,
     "start_time": "2024-10-03T07:16:33.126836",
     "status": "completed"
    },
    "tags": []
   },
   "outputs": [],
   "source": [
    "from tensorflow import keras\n",
    "import numpy as np\n",
    "import tensorflow as tf\n",
    "\n",
    "(X_train_full, y_train_full), (X_test, y_test) = keras.datasets.fashion_mnist.load_data()\n",
    "X_train_full = X_train_full / 255.0\n",
    "X_test = X_test / 255.0\n",
    "X_valid, X_train = X_train_full[:5000], X_train_full[5000:]\n",
    "y_valid, y_train = y_train_full[:5000], y_train_full[5000:]"
   ]
  },
  {
   "cell_type": "code",
   "execution_count": 12,
   "id": "814c0c13",
   "metadata": {
    "execution": {
     "iopub.execute_input": "2024-10-03T07:16:34.280866Z",
     "iopub.status.busy": "2024-10-03T07:16:34.280424Z",
     "iopub.status.idle": "2024-10-03T07:16:34.435928Z",
     "shell.execute_reply": "2024-10-03T07:16:34.434497Z"
    },
    "papermill": {
     "duration": 0.35172,
     "end_time": "2024-10-03T07:16:34.438555",
     "exception": false,
     "start_time": "2024-10-03T07:16:34.086835",
     "status": "completed"
    },
    "tags": []
   },
   "outputs": [],
   "source": [
    "# 拆分fashion MNIST数据集\n",
    "# 使X_train_A包含除衬衫和凉鞋外的所有类, X_train_B包含衬衫和凉鞋的前200张图片。\n",
    "def split_dataset(X, y):\n",
    "    y_5_or_6 = (y == 5) | (y == 6) # sandals or shirts\n",
    "    y_A = y[~y_5_or_6]\n",
    "    y_A[y_A > 6] -= 2 # class indices 7, 8, 9 should be moved to 5, 6, 7\n",
    "    y_B = (y[y_5_or_6] == 6).astype(np.float32) # binary classification task: is it a shirt (class 6)?\n",
    "    return ((X[~y_5_or_6], y_A),\n",
    "            (X[y_5_or_6], y_B))\n",
    "\n",
    "(X_train_A, y_train_A), (X_train_B, y_train_B) = split_dataset(X_train, y_train)\n",
    "(X_valid_A, y_valid_A), (X_valid_B, y_valid_B) = split_dataset(X_valid, y_valid)\n",
    "(X_test_A, y_test_A), (X_test_B, y_test_B) = split_dataset(X_test, y_test)\n",
    "X_train_B = X_train_B[:200]\n",
    "y_train_B = y_train_B[:200]"
   ]
  },
  {
   "cell_type": "code",
   "execution_count": 13,
   "id": "385b6c48",
   "metadata": {
    "execution": {
     "iopub.execute_input": "2024-10-03T07:16:34.825072Z",
     "iopub.status.busy": "2024-10-03T07:16:34.824630Z",
     "iopub.status.idle": "2024-10-03T07:17:57.446324Z",
     "shell.execute_reply": "2024-10-03T07:17:57.445209Z"
    },
    "papermill": {
     "duration": 82.816664,
     "end_time": "2024-10-03T07:17:57.448877",
     "exception": false,
     "start_time": "2024-10-03T07:16:34.632213",
     "status": "completed"
    },
    "tags": []
   },
   "outputs": [
    {
     "name": "stderr",
     "output_type": "stream",
     "text": [
      "/opt/conda/lib/python3.10/site-packages/keras/src/layers/reshaping/flatten.py:37: UserWarning: Do not pass an `input_shape`/`input_dim` argument to a layer. When using Sequential models, prefer using an `Input(shape)` object as the first layer in the model instead.\n",
      "  super().__init__(**kwargs)\n"
     ]
    },
    {
     "name": "stdout",
     "output_type": "stream",
     "text": [
      "Epoch 1/20\n",
      "\u001b[1m1375/1375\u001b[0m \u001b[32m━━━━━━━━━━━━━━━━━━━━\u001b[0m\u001b[37m\u001b[0m \u001b[1m5s\u001b[0m 3ms/step - accuracy: 0.7344 - loss: 0.8224 - val_accuracy: 0.8640 - val_loss: 0.3853\n",
      "Epoch 2/20\n",
      "\u001b[1m1375/1375\u001b[0m \u001b[32m━━━━━━━━━━━━━━━━━━━━\u001b[0m\u001b[37m\u001b[0m \u001b[1m4s\u001b[0m 3ms/step - accuracy: 0.8717 - loss: 0.3649 - val_accuracy: 0.8832 - val_loss: 0.3331\n",
      "Epoch 3/20\n",
      "\u001b[1m1375/1375\u001b[0m \u001b[32m━━━━━━━━━━━━━━━━━━━━\u001b[0m\u001b[37m\u001b[0m \u001b[1m4s\u001b[0m 3ms/step - accuracy: 0.8833 - loss: 0.3227 - val_accuracy: 0.8936 - val_loss: 0.3104\n",
      "Epoch 4/20\n",
      "\u001b[1m1375/1375\u001b[0m \u001b[32m━━━━━━━━━━━━━━━━━━━━\u001b[0m\u001b[37m\u001b[0m \u001b[1m4s\u001b[0m 3ms/step - accuracy: 0.8905 - loss: 0.3021 - val_accuracy: 0.8966 - val_loss: 0.2966\n",
      "Epoch 5/20\n",
      "\u001b[1m1375/1375\u001b[0m \u001b[32m━━━━━━━━━━━━━━━━━━━━\u001b[0m\u001b[37m\u001b[0m \u001b[1m4s\u001b[0m 3ms/step - accuracy: 0.8973 - loss: 0.2884 - val_accuracy: 0.8999 - val_loss: 0.2867\n",
      "Epoch 6/20\n",
      "\u001b[1m1375/1375\u001b[0m \u001b[32m━━━━━━━━━━━━━━━━━━━━\u001b[0m\u001b[37m\u001b[0m \u001b[1m4s\u001b[0m 3ms/step - accuracy: 0.9022 - loss: 0.2782 - val_accuracy: 0.9028 - val_loss: 0.2785\n",
      "Epoch 7/20\n",
      "\u001b[1m1375/1375\u001b[0m \u001b[32m━━━━━━━━━━━━━━━━━━━━\u001b[0m\u001b[37m\u001b[0m \u001b[1m4s\u001b[0m 3ms/step - accuracy: 0.9058 - loss: 0.2699 - val_accuracy: 0.9053 - val_loss: 0.2727\n",
      "Epoch 8/20\n",
      "\u001b[1m1375/1375\u001b[0m \u001b[32m━━━━━━━━━━━━━━━━━━━━\u001b[0m\u001b[37m\u001b[0m \u001b[1m4s\u001b[0m 3ms/step - accuracy: 0.9087 - loss: 0.2631 - val_accuracy: 0.9056 - val_loss: 0.2684\n",
      "Epoch 9/20\n",
      "\u001b[1m1375/1375\u001b[0m \u001b[32m━━━━━━━━━━━━━━━━━━━━\u001b[0m\u001b[37m\u001b[0m \u001b[1m4s\u001b[0m 3ms/step - accuracy: 0.9106 - loss: 0.2573 - val_accuracy: 0.9051 - val_loss: 0.2650\n",
      "Epoch 10/20\n",
      "\u001b[1m1375/1375\u001b[0m \u001b[32m━━━━━━━━━━━━━━━━━━━━\u001b[0m\u001b[37m\u001b[0m \u001b[1m4s\u001b[0m 3ms/step - accuracy: 0.9130 - loss: 0.2522 - val_accuracy: 0.9073 - val_loss: 0.2610\n",
      "Epoch 11/20\n",
      "\u001b[1m1375/1375\u001b[0m \u001b[32m━━━━━━━━━━━━━━━━━━━━\u001b[0m\u001b[37m\u001b[0m \u001b[1m4s\u001b[0m 3ms/step - accuracy: 0.9141 - loss: 0.2477 - val_accuracy: 0.9098 - val_loss: 0.2585\n",
      "Epoch 12/20\n",
      "\u001b[1m1375/1375\u001b[0m \u001b[32m━━━━━━━━━━━━━━━━━━━━\u001b[0m\u001b[37m\u001b[0m \u001b[1m4s\u001b[0m 3ms/step - accuracy: 0.9154 - loss: 0.2437 - val_accuracy: 0.9108 - val_loss: 0.2560\n",
      "Epoch 13/20\n",
      "\u001b[1m1375/1375\u001b[0m \u001b[32m━━━━━━━━━━━━━━━━━━━━\u001b[0m\u001b[37m\u001b[0m \u001b[1m4s\u001b[0m 3ms/step - accuracy: 0.9166 - loss: 0.2401 - val_accuracy: 0.9123 - val_loss: 0.2544\n",
      "Epoch 14/20\n",
      "\u001b[1m1375/1375\u001b[0m \u001b[32m━━━━━━━━━━━━━━━━━━━━\u001b[0m\u001b[37m\u001b[0m \u001b[1m4s\u001b[0m 3ms/step - accuracy: 0.9180 - loss: 0.2368 - val_accuracy: 0.9138 - val_loss: 0.2528\n",
      "Epoch 15/20\n",
      "\u001b[1m1375/1375\u001b[0m \u001b[32m━━━━━━━━━━━━━━━━━━━━\u001b[0m\u001b[37m\u001b[0m \u001b[1m4s\u001b[0m 3ms/step - accuracy: 0.9189 - loss: 0.2338 - val_accuracy: 0.9155 - val_loss: 0.2512\n",
      "Epoch 16/20\n",
      "\u001b[1m1375/1375\u001b[0m \u001b[32m━━━━━━━━━━━━━━━━━━━━\u001b[0m\u001b[37m\u001b[0m \u001b[1m5s\u001b[0m 3ms/step - accuracy: 0.9200 - loss: 0.2310 - val_accuracy: 0.9163 - val_loss: 0.2492\n",
      "Epoch 17/20\n",
      "\u001b[1m1375/1375\u001b[0m \u001b[32m━━━━━━━━━━━━━━━━━━━━\u001b[0m\u001b[37m\u001b[0m \u001b[1m4s\u001b[0m 3ms/step - accuracy: 0.9204 - loss: 0.2284 - val_accuracy: 0.9175 - val_loss: 0.2476\n",
      "Epoch 18/20\n",
      "\u001b[1m1375/1375\u001b[0m \u001b[32m━━━━━━━━━━━━━━━━━━━━\u001b[0m\u001b[37m\u001b[0m \u001b[1m4s\u001b[0m 3ms/step - accuracy: 0.9211 - loss: 0.2259 - val_accuracy: 0.9163 - val_loss: 0.2465\n",
      "Epoch 19/20\n",
      "\u001b[1m1375/1375\u001b[0m \u001b[32m━━━━━━━━━━━━━━━━━━━━\u001b[0m\u001b[37m\u001b[0m \u001b[1m4s\u001b[0m 3ms/step - accuracy: 0.9221 - loss: 0.2235 - val_accuracy: 0.9173 - val_loss: 0.2451\n",
      "Epoch 20/20\n",
      "\u001b[1m1375/1375\u001b[0m \u001b[32m━━━━━━━━━━━━━━━━━━━━\u001b[0m\u001b[37m\u001b[0m \u001b[1m4s\u001b[0m 3ms/step - accuracy: 0.9229 - loss: 0.2213 - val_accuracy: 0.9173 - val_loss: 0.2439\n"
     ]
    }
   ],
   "source": [
    "tf.random.set_seed(42)\n",
    "np.random.seed(42)\n",
    "\n",
    "model_A = keras.models.Sequential()\n",
    "model_A.add(keras.layers.Flatten(input_shape=[28, 28]))\n",
    "for n_hidden in (300, 100, 50, 50, 50):\n",
    "    model_A.add(keras.layers.Dense(n_hidden, activation=\"selu\"))\n",
    "model_A.add(keras.layers.Dense(8, activation=\"softmax\"))\n",
    "\n",
    "model_A.compile(loss=\"sparse_categorical_crossentropy\",\n",
    "                optimizer=keras.optimizers.SGD(learning_rate=1e-3),\n",
    "                metrics=[\"accuracy\"])\n",
    "\n",
    "history = model_A.fit(X_train_A, y_train_A, epochs=20,\n",
    "                    validation_data=(X_valid_A, y_valid_A))\n",
    "\n",
    "model_A.save(\"my_model_A.h5\")"
   ]
  },
  {
   "cell_type": "code",
   "execution_count": 14,
   "id": "bf2791da",
   "metadata": {
    "execution": {
     "iopub.execute_input": "2024-10-03T07:17:58.045281Z",
     "iopub.status.busy": "2024-10-03T07:17:58.044865Z",
     "iopub.status.idle": "2024-10-03T07:18:01.517708Z",
     "shell.execute_reply": "2024-10-03T07:18:01.516678Z"
    },
    "papermill": {
     "duration": 3.775018,
     "end_time": "2024-10-03T07:18:01.520292",
     "exception": false,
     "start_time": "2024-10-03T07:17:57.745274",
     "status": "completed"
    },
    "tags": []
   },
   "outputs": [
    {
     "name": "stdout",
     "output_type": "stream",
     "text": [
      "Epoch 1/20\n",
      "\u001b[1m7/7\u001b[0m \u001b[32m━━━━━━━━━━━━━━━━━━━━\u001b[0m\u001b[37m\u001b[0m \u001b[1m1s\u001b[0m 48ms/step - accuracy: 0.4560 - loss: 0.8511 - val_accuracy: 0.6744 - val_loss: 0.6198\n",
      "Epoch 2/20\n",
      "\u001b[1m7/7\u001b[0m \u001b[32m━━━━━━━━━━━━━━━━━━━━\u001b[0m\u001b[37m\u001b[0m \u001b[1m0s\u001b[0m 16ms/step - accuracy: 0.7999 - loss: 0.5607 - val_accuracy: 0.8215 - val_loss: 0.4947\n",
      "Epoch 3/20\n",
      "\u001b[1m7/7\u001b[0m \u001b[32m━━━━━━━━━━━━━━━━━━━━\u001b[0m\u001b[37m\u001b[0m \u001b[1m0s\u001b[0m 15ms/step - accuracy: 0.8904 - loss: 0.4491 - val_accuracy: 0.8651 - val_loss: 0.4210\n",
      "Epoch 4/20\n",
      "\u001b[1m7/7\u001b[0m \u001b[32m━━━━━━━━━━━━━━━━━━━━\u001b[0m\u001b[37m\u001b[0m \u001b[1m0s\u001b[0m 16ms/step - accuracy: 0.9125 - loss: 0.3794 - val_accuracy: 0.9067 - val_loss: 0.3665\n",
      "Epoch 5/20\n",
      "\u001b[1m7/7\u001b[0m \u001b[32m━━━━━━━━━━━━━━━━━━━━\u001b[0m\u001b[37m\u001b[0m \u001b[1m0s\u001b[0m 16ms/step - accuracy: 0.9438 - loss: 0.3268 - val_accuracy: 0.9351 - val_loss: 0.3238\n",
      "Epoch 6/20\n",
      "\u001b[1m7/7\u001b[0m \u001b[32m━━━━━━━━━━━━━━━━━━━━\u001b[0m\u001b[37m\u001b[0m \u001b[1m0s\u001b[0m 15ms/step - accuracy: 0.9546 - loss: 0.2854 - val_accuracy: 0.9503 - val_loss: 0.2897\n",
      "Epoch 7/20\n",
      "\u001b[1m7/7\u001b[0m \u001b[32m━━━━━━━━━━━━━━━━━━━━\u001b[0m\u001b[37m\u001b[0m \u001b[1m0s\u001b[0m 15ms/step - accuracy: 0.9684 - loss: 0.2525 - val_accuracy: 0.9594 - val_loss: 0.2621\n",
      "Epoch 8/20\n",
      "\u001b[1m7/7\u001b[0m \u001b[32m━━━━━━━━━━━━━━━━━━━━\u001b[0m\u001b[37m\u001b[0m \u001b[1m0s\u001b[0m 16ms/step - accuracy: 0.9754 - loss: 0.2262 - val_accuracy: 0.9736 - val_loss: 0.2392\n",
      "Epoch 9/20\n",
      "\u001b[1m7/7\u001b[0m \u001b[32m━━━━━━━━━━━━━━━━━━━━\u001b[0m\u001b[37m\u001b[0m \u001b[1m0s\u001b[0m 16ms/step - accuracy: 0.9823 - loss: 0.2042 - val_accuracy: 0.9746 - val_loss: 0.2197\n",
      "Epoch 10/20\n",
      "\u001b[1m7/7\u001b[0m \u001b[32m━━━━━━━━━━━━━━━━━━━━\u001b[0m\u001b[37m\u001b[0m \u001b[1m0s\u001b[0m 16ms/step - accuracy: 0.9754 - loss: 0.1859 - val_accuracy: 0.9767 - val_loss: 0.2032\n",
      "Epoch 11/20\n",
      "\u001b[1m7/7\u001b[0m \u001b[32m━━━━━━━━━━━━━━━━━━━━\u001b[0m\u001b[37m\u001b[0m \u001b[1m0s\u001b[0m 16ms/step - accuracy: 0.9754 - loss: 0.1705 - val_accuracy: 0.9787 - val_loss: 0.1891\n",
      "Epoch 12/20\n",
      "\u001b[1m7/7\u001b[0m \u001b[32m━━━━━━━━━━━━━━━━━━━━\u001b[0m\u001b[37m\u001b[0m \u001b[1m0s\u001b[0m 15ms/step - accuracy: 0.9754 - loss: 0.1573 - val_accuracy: 0.9817 - val_loss: 0.1769\n",
      "Epoch 13/20\n",
      "\u001b[1m7/7\u001b[0m \u001b[32m━━━━━━━━━━━━━━━━━━━━\u001b[0m\u001b[37m\u001b[0m \u001b[1m0s\u001b[0m 15ms/step - accuracy: 0.9862 - loss: 0.1460 - val_accuracy: 0.9838 - val_loss: 0.1662\n",
      "Epoch 14/20\n",
      "\u001b[1m7/7\u001b[0m \u001b[32m━━━━━━━━━━━━━━━━━━━━\u001b[0m\u001b[37m\u001b[0m \u001b[1m0s\u001b[0m 16ms/step - accuracy: 0.9931 - loss: 0.1361 - val_accuracy: 0.9838 - val_loss: 0.1567\n",
      "Epoch 15/20\n",
      "\u001b[1m7/7\u001b[0m \u001b[32m━━━━━━━━━━━━━━━━━━━━\u001b[0m\u001b[37m\u001b[0m \u001b[1m0s\u001b[0m 16ms/step - accuracy: 0.9931 - loss: 0.1273 - val_accuracy: 0.9858 - val_loss: 0.1483\n",
      "Epoch 16/20\n",
      "\u001b[1m7/7\u001b[0m \u001b[32m━━━━━━━━━━━━━━━━━━━━\u001b[0m\u001b[37m\u001b[0m \u001b[1m0s\u001b[0m 19ms/step - accuracy: 0.9931 - loss: 0.1195 - val_accuracy: 0.9858 - val_loss: 0.1408\n",
      "Epoch 17/20\n",
      "\u001b[1m7/7\u001b[0m \u001b[32m━━━━━━━━━━━━━━━━━━━━\u001b[0m\u001b[37m\u001b[0m \u001b[1m0s\u001b[0m 15ms/step - accuracy: 0.9931 - loss: 0.1126 - val_accuracy: 0.9868 - val_loss: 0.1339\n",
      "Epoch 18/20\n",
      "\u001b[1m7/7\u001b[0m \u001b[32m━━━━━━━━━━━━━━━━━━━━\u001b[0m\u001b[37m\u001b[0m \u001b[1m0s\u001b[0m 15ms/step - accuracy: 0.9931 - loss: 0.1063 - val_accuracy: 0.9878 - val_loss: 0.1278\n",
      "Epoch 19/20\n",
      "\u001b[1m7/7\u001b[0m \u001b[32m━━━━━━━━━━━━━━━━━━━━\u001b[0m\u001b[37m\u001b[0m \u001b[1m0s\u001b[0m 16ms/step - accuracy: 0.9931 - loss: 0.1006 - val_accuracy: 0.9868 - val_loss: 0.1222\n",
      "Epoch 20/20\n",
      "\u001b[1m7/7\u001b[0m \u001b[32m━━━━━━━━━━━━━━━━━━━━\u001b[0m\u001b[37m\u001b[0m \u001b[1m0s\u001b[0m 16ms/step - accuracy: 0.9931 - loss: 0.0956 - val_accuracy: 0.9868 - val_loss: 0.1172\n"
     ]
    }
   ],
   "source": [
    "model_B = keras.models.Sequential()\n",
    "model_B.add(keras.layers.Flatten(input_shape=[28, 28]))\n",
    "for n_hidden in (300, 100, 50, 50, 50):\n",
    "    model_B.add(keras.layers.Dense(n_hidden, activation=\"selu\"))\n",
    "model_B.add(keras.layers.Dense(1, activation=\"sigmoid\"))\n",
    "\n",
    "model_B.compile(loss=\"binary_crossentropy\",\n",
    "                optimizer=keras.optimizers.SGD(learning_rate=1e-3),\n",
    "                metrics=[\"accuracy\"])\n",
    "\n",
    "history = model_B.fit(X_train_B, y_train_B, epochs=20,\n",
    "                      validation_data=(X_valid_B, y_valid_B))"
   ]
  },
  {
   "cell_type": "markdown",
   "id": "e3a78792",
   "metadata": {
    "papermill": {
     "duration": 0.296369,
     "end_time": "2024-10-03T07:18:02.116331",
     "exception": false,
     "start_time": "2024-10-03T07:18:01.819962",
     "status": "completed"
    },
    "tags": []
   },
   "source": [
    "**开始进行迁移学习**: "
   ]
  },
  {
   "cell_type": "code",
   "execution_count": 15,
   "id": "5a02d400",
   "metadata": {
    "execution": {
     "iopub.execute_input": "2024-10-03T07:18:02.782135Z",
     "iopub.status.busy": "2024-10-03T07:18:02.781723Z",
     "iopub.status.idle": "2024-10-03T07:18:07.169140Z",
     "shell.execute_reply": "2024-10-03T07:18:07.167959Z"
    },
    "papermill": {
     "duration": 4.752964,
     "end_time": "2024-10-03T07:18:07.172373",
     "exception": false,
     "start_time": "2024-10-03T07:18:02.419409",
     "status": "completed"
    },
    "tags": []
   },
   "outputs": [
    {
     "name": "stdout",
     "output_type": "stream",
     "text": [
      "Epoch 1/4\n",
      "\u001b[1m7/7\u001b[0m \u001b[32m━━━━━━━━━━━━━━━━━━━━\u001b[0m\u001b[37m\u001b[0m \u001b[1m1s\u001b[0m 48ms/step - accuracy: 0.5239 - loss: 0.8114 - val_accuracy: 0.5639 - val_loss: 0.8253\n",
      "Epoch 2/4\n",
      "\u001b[1m7/7\u001b[0m \u001b[32m━━━━━━━━━━━━━━━━━━━━\u001b[0m\u001b[37m\u001b[0m \u001b[1m0s\u001b[0m 14ms/step - accuracy: 0.5362 - loss: 0.7705 - val_accuracy: 0.5801 - val_loss: 0.7873\n",
      "Epoch 3/4\n",
      "\u001b[1m7/7\u001b[0m \u001b[32m━━━━━━━━━━━━━━━━━━━━\u001b[0m\u001b[37m\u001b[0m \u001b[1m0s\u001b[0m 15ms/step - accuracy: 0.5381 - loss: 0.7325 - val_accuracy: 0.5953 - val_loss: 0.7520\n",
      "Epoch 4/4\n",
      "\u001b[1m7/7\u001b[0m \u001b[32m━━━━━━━━━━━━━━━━━━━━\u001b[0m\u001b[37m\u001b[0m \u001b[1m0s\u001b[0m 15ms/step - accuracy: 0.5653 - loss: 0.6973 - val_accuracy: 0.6197 - val_loss: 0.7190\n",
      "Epoch 1/16\n",
      "\u001b[1m7/7\u001b[0m \u001b[32m━━━━━━━━━━━━━━━━━━━━\u001b[0m\u001b[37m\u001b[0m \u001b[1m1s\u001b[0m 49ms/step - accuracy: 0.6681 - loss: 0.6030 - val_accuracy: 0.7718 - val_loss: 0.4562\n",
      "Epoch 2/16\n",
      "\u001b[1m7/7\u001b[0m \u001b[32m━━━━━━━━━━━━━━━━━━━━\u001b[0m\u001b[37m\u001b[0m \u001b[1m0s\u001b[0m 15ms/step - accuracy: 0.8285 - loss: 0.3895 - val_accuracy: 0.8590 - val_loss: 0.3297\n",
      "Epoch 3/16\n",
      "\u001b[1m7/7\u001b[0m \u001b[32m━━━━━━━━━━━━━━━━━━━━\u001b[0m\u001b[37m\u001b[0m \u001b[1m0s\u001b[0m 15ms/step - accuracy: 0.9042 - loss: 0.2825 - val_accuracy: 0.9026 - val_loss: 0.2558\n",
      "Epoch 4/16\n",
      "\u001b[1m7/7\u001b[0m \u001b[32m━━━━━━━━━━━━━━━━━━━━\u001b[0m\u001b[37m\u001b[0m \u001b[1m0s\u001b[0m 15ms/step - accuracy: 0.9211 - loss: 0.2188 - val_accuracy: 0.9270 - val_loss: 0.2086\n",
      "Epoch 5/16\n",
      "\u001b[1m7/7\u001b[0m \u001b[32m━━━━━━━━━━━━━━━━━━━━\u001b[0m\u001b[37m\u001b[0m \u001b[1m0s\u001b[0m 16ms/step - accuracy: 0.9491 - loss: 0.1778 - val_accuracy: 0.9442 - val_loss: 0.1761\n",
      "Epoch 6/16\n",
      "\u001b[1m7/7\u001b[0m \u001b[32m━━━━━━━━━━━━━━━━━━━━\u001b[0m\u001b[37m\u001b[0m \u001b[1m0s\u001b[0m 17ms/step - accuracy: 0.9518 - loss: 0.1495 - val_accuracy: 0.9564 - val_loss: 0.1526\n",
      "Epoch 7/16\n",
      "\u001b[1m7/7\u001b[0m \u001b[32m━━━━━━━━━━━━━━━━━━━━\u001b[0m\u001b[37m\u001b[0m \u001b[1m0s\u001b[0m 15ms/step - accuracy: 0.9656 - loss: 0.1288 - val_accuracy: 0.9655 - val_loss: 0.1348\n",
      "Epoch 8/16\n",
      "\u001b[1m7/7\u001b[0m \u001b[32m━━━━━━━━━━━━━━━━━━━━\u001b[0m\u001b[37m\u001b[0m \u001b[1m0s\u001b[0m 15ms/step - accuracy: 0.9775 - loss: 0.1126 - val_accuracy: 0.9706 - val_loss: 0.1209\n",
      "Epoch 9/16\n",
      "\u001b[1m7/7\u001b[0m \u001b[32m━━━━━━━━━━━━━━━━━━━━\u001b[0m\u001b[37m\u001b[0m \u001b[1m0s\u001b[0m 16ms/step - accuracy: 0.9775 - loss: 0.0999 - val_accuracy: 0.9746 - val_loss: 0.1099\n",
      "Epoch 10/16\n",
      "\u001b[1m7/7\u001b[0m \u001b[32m━━━━━━━━━━━━━━━━━━━━\u001b[0m\u001b[37m\u001b[0m \u001b[1m0s\u001b[0m 15ms/step - accuracy: 0.9775 - loss: 0.0897 - val_accuracy: 0.9777 - val_loss: 0.1009\n",
      "Epoch 11/16\n",
      "\u001b[1m7/7\u001b[0m \u001b[32m━━━━━━━━━━━━━━━━━━━━\u001b[0m\u001b[37m\u001b[0m \u001b[1m0s\u001b[0m 15ms/step - accuracy: 0.9802 - loss: 0.0812 - val_accuracy: 0.9797 - val_loss: 0.0934\n",
      "Epoch 12/16\n",
      "\u001b[1m7/7\u001b[0m \u001b[32m━━━━━━━━━━━━━━━━━━━━\u001b[0m\u001b[37m\u001b[0m \u001b[1m0s\u001b[0m 15ms/step - accuracy: 0.9802 - loss: 0.0739 - val_accuracy: 0.9817 - val_loss: 0.0872\n",
      "Epoch 13/16\n",
      "\u001b[1m7/7\u001b[0m \u001b[32m━━━━━━━━━━━━━━━━━━━━\u001b[0m\u001b[37m\u001b[0m \u001b[1m0s\u001b[0m 16ms/step - accuracy: 0.9910 - loss: 0.0678 - val_accuracy: 0.9838 - val_loss: 0.0819\n",
      "Epoch 14/16\n",
      "\u001b[1m7/7\u001b[0m \u001b[32m━━━━━━━━━━━━━━━━━━━━\u001b[0m\u001b[37m\u001b[0m \u001b[1m0s\u001b[0m 15ms/step - accuracy: 0.9910 - loss: 0.0627 - val_accuracy: 0.9858 - val_loss: 0.0773\n",
      "Epoch 15/16\n",
      "\u001b[1m7/7\u001b[0m \u001b[32m━━━━━━━━━━━━━━━━━━━━\u001b[0m\u001b[37m\u001b[0m \u001b[1m0s\u001b[0m 15ms/step - accuracy: 0.9937 - loss: 0.0583 - val_accuracy: 0.9868 - val_loss: 0.0733\n",
      "Epoch 16/16\n",
      "\u001b[1m7/7\u001b[0m \u001b[32m━━━━━━━━━━━━━━━━━━━━\u001b[0m\u001b[37m\u001b[0m \u001b[1m0s\u001b[0m 19ms/step - accuracy: 0.9937 - loss: 0.0545 - val_accuracy: 0.9878 - val_loss: 0.0699\n"
     ]
    }
   ],
   "source": [
    "model_A = keras.models.load_model(\"my_model_A.h5\")\n",
    "model_B_on_A = keras.models.Sequential(model_A.layers[:-1])\n",
    "model_B_on_A.add(keras.layers.Dense(1, activation=\"sigmoid\"))\n",
    "\n",
    "model_A_clone = keras.models.clone_model(model_A)\n",
    "model_A_clone.set_weights(model_A.get_weights())\n",
    "model_B_on_A = keras.models.Sequential(model_A_clone.layers[:-1])\n",
    "model_B_on_A.add(keras.layers.Dense(1, activation=\"sigmoid\"))\n",
    "\n",
    "for layer in model_B_on_A.layers[:-1]:\n",
    "    layer.trainable = False\n",
    "\n",
    "model_B_on_A.compile(loss=\"binary_crossentropy\",\n",
    "                     optimizer=keras.optimizers.SGD(learning_rate=1e-3),\n",
    "                     metrics=[\"accuracy\"])\n",
    "\n",
    "history = model_B_on_A.fit(X_train_B, y_train_B, epochs=4,\n",
    "                           validation_data=(X_valid_B, y_valid_B))\n",
    "\n",
    "for layer in model_B_on_A.layers[:-1]:\n",
    "    layer.trainable = True\n",
    "\n",
    "model_B_on_A.compile(loss=\"binary_crossentropy\",\n",
    "                     optimizer=keras.optimizers.SGD(learning_rate=1e-3),\n",
    "                     metrics=[\"accuracy\"])\n",
    "history = model_B_on_A.fit(X_train_B, y_train_B, epochs=16,\n",
    "                           validation_data=(X_valid_B, y_valid_B))"
   ]
  },
  {
   "cell_type": "code",
   "execution_count": 16,
   "id": "b867db06",
   "metadata": {
    "execution": {
     "iopub.execute_input": "2024-10-03T07:18:07.827905Z",
     "iopub.status.busy": "2024-10-03T07:18:07.826983Z",
     "iopub.status.idle": "2024-10-03T07:18:08.245983Z",
     "shell.execute_reply": "2024-10-03T07:18:08.244660Z"
    },
    "papermill": {
     "duration": 0.734308,
     "end_time": "2024-10-03T07:18:08.248534",
     "exception": false,
     "start_time": "2024-10-03T07:18:07.514226",
     "status": "completed"
    },
    "tags": []
   },
   "outputs": [
    {
     "name": "stdout",
     "output_type": "stream",
     "text": [
      "\u001b[1m63/63\u001b[0m \u001b[32m━━━━━━━━━━━━━━━━━━━━\u001b[0m\u001b[37m\u001b[0m \u001b[1m0s\u001b[0m 2ms/step - accuracy: 0.9892 - loss: 0.1169\n",
      "\u001b[1m63/63\u001b[0m \u001b[32m━━━━━━━━━━━━━━━━━━━━\u001b[0m\u001b[37m\u001b[0m \u001b[1m0s\u001b[0m 2ms/step - accuracy: 0.9851 - loss: 0.0719\n",
      "dropped_error_rate: 4.916666666666718\n"
     ]
    }
   ],
   "source": [
    "model_B.evaluate(X_test_B, y_test_B)\n",
    "model_B_on_A.evaluate(X_test_B, y_test_B)\n",
    "dropped_error_rate = (100 - 97.05) / (100 - 99.40)\n",
    "print(f\"dropped_error_rate: {dropped_error_rate}\")"
   ]
  },
  {
   "cell_type": "markdown",
   "id": "8eb280a5",
   "metadata": {
    "papermill": {
     "duration": 0.301055,
     "end_time": "2024-10-03T07:18:08.862932",
     "exception": false,
     "start_time": "2024-10-03T07:18:08.561877",
     "status": "completed"
    },
    "tags": []
   },
   "source": [
    "- **迁移学习的特点**: 事实证明，迁移学习在小型密集型网络中不能很好地工作，大概是因为小型网络学习的模式很少，密集网络学习的是非常特定的模式，这在其他任务中不是很有用。<font color=\"red\">迁移学习最适合使用深度卷积神经网络，该神经网络倾向于学习更为通用的特征检测器(尤其是在较低层)。</font>我们将在第14章中使用刚刚讨论的技术重新审视迁移学习(我保证，这一次不会作弊！)。\n",
    "- **无监督预训练**: 当你要解决的任务很复杂，没有可重复使用的相似模型，标签的训练数据很少，但是无标签的训练数据很多时，无监督预训练(今天通常使用自动编码器或GAN而不是RBM)仍然是一个不错的选择。\n",
    "- **辅助任务的预训练**: 人脸识别系统中判断两张照片是否属于同一人; 自然语言处理(NLP)任务中，随机屏蔽一些单词并训练模型来预测缺失的单词。"
   ]
  },
  {
   "cell_type": "markdown",
   "id": "8a339a02",
   "metadata": {
    "papermill": {
     "duration": 0.359039,
     "end_time": "2024-10-03T07:18:09.518311",
     "exception": false,
     "start_time": "2024-10-03T07:18:09.159272",
     "status": "completed"
    },
    "tags": []
   },
   "source": [
    "### 11.3 更快的优化器\n",
    "- 训练一个非常大的深度神经网络可能会非常缓慢。到目前为止，我们已经知道了四种加快训练速度(并获得了更好的解决方法)的方法：(1)对连接权重应用一个良好的初始化策略，(2)使用良好的激活函数，(3)使用批量归一化，以及(4)重用预训练网络的某些部分(可能建立在辅助任务上或使用无监督学习)。\n",
    "- 与常规的梯度下降优化器相比，使用更快的优化器也可以带来巨大的速度提升。在本节中，我们将介绍最受欢迎的算法：动量优化、Nesterov加速梯度、AdaGrad、RMSProp，最后是Adam和Nadam优化。\n",
    "\n",
    "![](https://jialh.oss-cn-shanghai.aliyuncs.com/img2/image-20241003112027533.png)"
   ]
  },
  {
   "cell_type": "markdown",
   "id": "d1531f14",
   "metadata": {
    "papermill": {
     "duration": 0.298632,
     "end_time": "2024-10-03T07:18:10.121989",
     "exception": false,
     "start_time": "2024-10-03T07:18:09.823357",
     "status": "completed"
    },
    "tags": []
   },
   "source": [
    "- **学习率调度**: 常见的学习率调度方法包括幂调度、指数调度、分段恒定调度、性能调度、1周期调度等。实际中最常用的是指数调度，因为它易于微调，比最优解决方法收敛速度更快。\n",
    "- 最后，tf.keras提供了另一种实现学习率调度的方法：使用`keras.optimizers.schedule`中可以使用的调度之一来定义学习率，然后将该学习率传递给任意优化器。这种方法在每个步骤更新学习率而不是每个轮次。例如，以下是实现与我们先前定义的`exponential_decay_fn()`函数相同的指数调度的方法：\n",
    "```python\n",
    "s = 20 * len(X_train) // 32 # number of steps in 20 epochs (batch size = 32) \n",
    "learning_rate = keras.optimizers.schedules.ExponentialDecay(0.01, s, 0.1) \n",
    "optimizer = keras.optimizers.SGD(learning_rate) \n",
    "```"
   ]
  },
  {
   "cell_type": "markdown",
   "id": "c22c4e49",
   "metadata": {
    "papermill": {
     "duration": 0.303528,
     "end_time": "2024-10-03T07:18:10.729209",
     "exception": false,
     "start_time": "2024-10-03T07:18:10.425681",
     "status": "completed"
    },
    "tags": []
   },
   "source": [
    "### 11.4 通过正则化避免过拟合\n",
    "- 我们已经在第10章中实现了最好的正则化技术之一：提前停止。而且，即使“批量归一化”被设计用来解决不稳定的梯度问题，它的作用也像一个很好的正则化。在本节中，我们将研究其他流行的神经网络正则化技术：**$l_1$和$l_2$正则化、dropout和最大范数正则化**。\n",
    "```python\n",
    "layer = keras.layers.Dense(100, activation=\"elu\", \n",
    "                           kernel_initializer=\"he_normal\", \n",
    "                           kernel_regularizer=keras.regularizers.l2(0.01)) \n",
    "# 如果要使用l1正则化\n",
    "keras.regularizers.l1()\n",
    "# 如果要同时使用l1和l2正则化\n",
    "keras.regularizers.l1_l2()\n",
    "```\n",
    "\n",
    "- **dropout**: 经过dropout训练的神经元不能与其相邻的神经元相互适应，它们必须自己发挥最大的作用。它们也不能过分依赖少数输入神经元，它们必须注意每个输入神经元。它们最终对输入的微小变化不太敏感。<font color=\"red\">最后，你将获得一个更有鲁棒性的网络，该网络有更好的泛化能力。</font>\n",
    "- **蒙特卡罗(MC)dropout**: MC Dropout技术可以提高任何训练后的dropout模型的性能，而无须重新训练甚至根本不用修改它，它可以很好的测量模型的不确定性，并且实现起来很简单。\n",
    "- **蒙特卡罗(MC)dropout的优势**: 对具有dropout功能的多个预测进行平均，这使蒙特卡罗估计通常比关闭dropout的单个预测的结果更可靠。\n",
    "- **最大范数正则化**: 对于神经网络而言，另一种流行的正则化技术称为最大范数正则化：对于每个神经元，它会限制传入连接的权重$w$，使得$||w||_2≤r$，其中$r$是最大范数超参数， $||\\cdot||$是$l_2$范数。"
   ]
  },
  {
   "cell_type": "markdown",
   "id": "30e59d7a",
   "metadata": {
    "papermill": {
     "duration": 0.35708,
     "end_time": "2024-10-03T07:18:11.410679",
     "exception": false,
     "start_time": "2024-10-03T07:18:11.053599",
     "status": "completed"
    },
    "tags": []
   },
   "source": [
    "### 11.5 总结和实用指南\n",
    "- 在本章中，我们涵盖了广泛的技术，你可能想知道应该使用哪种技术。这取决于任务，还没有明确的共识，但是我发现表11-3中的配置在大多数情况下可以很好地工作，而无须进行大量的超参数调整。也就是说，请不要将这些默认值视为硬性规定！\n",
    "- 虽然先前的指南应该能涵盖大多数情况，但以下是一些例外情况：(1)构建稀疏模型；(2)构建低延迟模型；(3)构建风险敏感的应用。"
   ]
  },
  {
   "cell_type": "markdown",
   "id": "f08a55f1",
   "metadata": {
    "papermill": {
     "duration": 0.300985,
     "end_time": "2024-10-03T07:18:12.014171",
     "exception": false,
     "start_time": "2024-10-03T07:18:11.713186",
     "status": "completed"
    },
    "tags": []
   },
   "source": [
    "## 第12章 使用TensorFlow自定义模型和训练\n",
    "- 到目前为止，我们仅仅使用了TensorFlow的高层API tf.keras，但它已经使我们走得很远了：我们构建了各种神经网络架构，包括回归和分类网络宽深网络以及自归一化网络，使用了各种技术，例如批归一化、dropout和学习率调度。实际上，你遇到的情况中有95％不需要tf.keras(和tf.data，见第13章)以外的任何内容。\n",
    "- 但是现在是时候深入研究TensorFlow并了解其底层Python API了。当你需要额外的控制来编写自定义损失函数、自定义指标、层、模型、初始化程序、正则化函数、权重约束等时，这将非常有用。你甚至可能需要完全控制训练循环本身，例如对梯度使用特殊的变换或约束(不仅仅对它们进行裁剪)，或者对网络的不同部分使用多个优化器。我们将在本章介绍所有这些情况，还将探讨如何使用TensorFlow的自动图形生成功能来增强自定义模型和训练算法。"
   ]
  },
  {
   "cell_type": "markdown",
   "id": "03761199",
   "metadata": {
    "papermill": {
     "duration": 0.301226,
     "end_time": "2024-10-03T07:18:12.616004",
     "exception": false,
     "start_time": "2024-10-03T07:18:12.314778",
     "status": "completed"
    },
    "tags": []
   },
   "source": [
    "### 12.1 TensorFlow快速浏览"
   ]
  },
  {
   "cell_type": "markdown",
   "id": "c36be725",
   "metadata": {
    "papermill": {
     "duration": 0.358097,
     "end_time": "2024-10-03T07:18:13.272647",
     "exception": false,
     "start_time": "2024-10-03T07:18:12.914550",
     "status": "completed"
    },
    "tags": []
   },
   "source": [
    "TensorFlow是一个强大的用于数值计算的库，特别适合大规模机器学习并对其进行了微调(但你可以将其用于需要大量计算的任何其他操作)。那么TensorFlow提供什么？总结如下：\n",
    "- 它的核心与NumPy非常相似，但具有GPU支持。\n",
    "- 它支持分布式计算(跨多个设备和服务器)。\n",
    "- 它包含一种即时(JIT)编译器，可使其针对速度和内存使用情况来优化计算。它的工作方式是从Python函数中提取计算图，然后进行优化(通过修剪未使用的节点)，最后有效地运行它(通过自动并行运行相互独立的操作)。\n",
    "- 计算图可以导出为可移植格式，因此你可以在一个环境中(例如在Linux上使用Python)训练TensorFlow模型，然后在另一个环境中(例如在Android设备上使用Java)运行TensorFlow模型。\n",
    "- 它实现了自动微分(autodiff)(见第10章和附录D)，并提供了一些优秀的优化器，例如RMSProp和Nadam(见第11章)，因此你可以轻松地最小化各种损失函数。\n",
    "\n",
    "TensorFlow在这些核心功能的基础上提供了更多功能：最重要的当然是`tf.keras`，但它还具有数据加载和预处理操作(`tf.data`、`tf.io`等)、图像处理操作(`tf.image`)、信号处理操作(`tf.signal`)等(有关TensorFlow的Python API的概述见图12-1)。"
   ]
  },
  {
   "cell_type": "markdown",
   "id": "b69514ef",
   "metadata": {
    "papermill": {
     "duration": 0.30115,
     "end_time": "2024-10-03T07:18:13.876997",
     "exception": false,
     "start_time": "2024-10-03T07:18:13.575847",
     "status": "completed"
    },
    "tags": []
   },
   "source": [
    "### 12.2 像NumPy一样使用TensorFlow\n",
    "- **张量和操作**:\n",
    "```python\n",
    "tf.constant()\n",
    "# 基本运算\n",
    "tf.add()\n",
    "tf.multiply()\n",
    "tf.square()\n",
    "tf.exp()\n",
    "tf.sqrt()\n",
    "tf.reshape()\n",
    "tf.squeeze()\n",
    "tf.tile()\n",
    "tf.reduce_mean()\n",
    "tf.reduce_sum()\n",
    "tf.reduce_max()\n",
    "tf.math.log()\n",
    "# 类型转换\n",
    "tf.cast()\n",
    "# 变量\n",
    "tf.Variable()\n",
    "tf.Tensor()\n",
    "```\n",
    "- TensorFlow支持其他几种数据结构，包括以下内容: 稀疏张量（tf.SparseTensor）、张量数组（tf.TensorArray）、不规则张量（tf.RaggedTensor）、字符串张量、集合和队列。"
   ]
  },
  {
   "cell_type": "markdown",
   "id": "701f7a71",
   "metadata": {
    "papermill": {
     "duration": 0.296842,
     "end_time": "2024-10-03T07:18:14.474835",
     "exception": false,
     "start_time": "2024-10-03T07:18:14.177993",
     "status": "completed"
    },
    "tags": []
   },
   "source": [
    "### 12.3 定制模型和训练算法\n",
    "- **自定义损失函数**: `model.compile(loss=huber_fn, optimizer=\"nadam\")`\n",
    "- **保存和加载包含自定义组件的模型**: \n",
    "```python\n",
    "model = keras.models.load_model(\"my_model_with_a_custom_loss.h5\", \n",
    "                                custom_objects={\"huber_fn\": huber_fn}) \n",
    "# 加载时设置默认参数\n",
    "model = keras.models.load_model(\"my_model_with_a_custom_loss_threshold_2.h5\", \n",
    "                                custom_objects={\"huber_fn\": create_huber(2.0)}) \n",
    "```\n",
    "- **自定义激活函数、初始化、正则化和约束**: 大多数Keras功能，例如损失、正则化、约束、初始化、度量、激活函数、层甚至完整模型，都可以以几乎相同的方式进行自定义。在大多数情况下，你只需要编写带有适当输入和输出的简单函数即可。\n",
    "```python\n",
    "def my_softplus(z): # return value is just tf.nn.softplus(z) \n",
    "    return tf.math.log(tf.exp(z) + 1.0)  \n",
    "def my_glorot_initializer(shape, dtype=tf.float32): \n",
    "    stddev = tf.sqrt(2. / (shape[0] + shape[1])) \n",
    "    return tf.random.normal(shape, stddev=stddev, dtype=dtype)  \n",
    "def my_l1_regularizer(weights): \n",
    "    return tf.reduce_sum(tf.abs(0.01 * weights)) \n",
    "def my_positive_weights(weights): # return value is just tf.nn.relu(weights) \n",
    "    return tf.where(weights < 0., tf.zeros_like(weights), weights)\n",
    "```\n",
    "- **自定义指标**:\n",
    "```python\n",
    "class HuberMetric(keras.metrics.Metric): \n",
    "    def __init__(self, threshold=1.0, **kwargs): \n",
    "        super().__init__(**kwargs) # handles base args (e.g., dtype) \n",
    "        self.threshold = threshold \n",
    "        self.huber_fn = create_huber(threshold) \n",
    "        self.total = self.add_weight(\"total\", initializer=\"zeros\") \n",
    "        self.count = self.add_weight(\"count\", initializer=\"zeros\") \n",
    "    def update_state(self, y_true, y_pred, sample_weight=None): \n",
    "        metric = self.huber_fn(y_true, y_pred) \n",
    "        self.total.assign_add(tf.reduce_sum(metric)) \n",
    "        self.count.assign_add(tf.cast(tf.size(y_true), tf.float32)) \n",
    "    def result(self): \n",
    "        return self.total / self.count \n",
    "    def get_config(self): \n",
    "        base_config = super().get_config() \n",
    "        return {**base_config, \"threshold\": self.threshold} \n",
    "```\n",
    "- **自定义层**: \n",
    "```python\n",
    "class MyDense(keras.layers.Layer): \n",
    "    def __init__(self, units, activation=None, **kwargs): \n",
    "        super().__init__(**kwargs) \n",
    "        self.units = units \n",
    "        self.activation = keras.activations.get(activation) \n",
    " \n",
    "    def build(self, batch_input_shape): \n",
    "        self.kernel = self.add_weight( \n",
    "            name=\"kernel\", shape=[batch_input_shape[-1], self.units],\n",
    "            initializer=\"glorot_normal\") \n",
    "        self.bias = self.add_weight( \n",
    "            name=\"bias\", shape=[self.units], initializer=\"zeros\") \n",
    "        super().build(batch_input_shape) # must be at the end \n",
    " \n",
    "    def call(self, X): \n",
    "        return self.activation(X @ self.kernel + self.bias) \n",
    " \n",
    "    def compute_output_shape(self, batch_input_shape): \n",
    "        return tf.TensorShape(batch_input_shape.as_list()[:-1] + [self.units]) \n",
    " \n",
    "    def get_config(self): \n",
    "        base_config = super().get_config() \n",
    "        return {**base_config, \"units\": self.units, \n",
    "                \"activation\": keras.activations.serialize(self.activation)} \n",
    "```\n",
    "- **自定义模型**: 继承keras.Model类，在构造函数中创建层和变量，并实现`call()`方法来执行你希望模型执行的任何操作。\n",
    "- **基于模型内部的损失和指标**: 继承keras.Model类，在构造函数中创建层和变量，并实现`call()`来执行你希望模型执行的任何操作。例如自编码器中会<font color=\"red\">计算重建与输入之间的均方差</font>。通过将这种重建损失添加到主要损失中，我们鼓励模型通过隐藏层保留尽可能多的信息，即使对回归任务本身没有直接用处的信息。实际中，这种损失有时会提高泛化性（这是正则化损失）。\n",
    "- **使用自动微分计算梯度**: 在神经网络中，通过在调整相应参数时测量函数输出的变化来计算每个偏导数的近似值。\n",
    "- **自定义训练循环**: 在极少数情况下，`fit()`方法可能不够灵活而无法满足你的需要。但是请记住，编写自定义训练循环会使你的代码更长、更容易出错并且更难以维护。"
   ]
  },
  {
   "cell_type": "markdown",
   "id": "1c18187d",
   "metadata": {
    "papermill": {
     "duration": 0.3507,
     "end_time": "2024-10-03T07:18:15.126673",
     "exception": false,
     "start_time": "2024-10-03T07:18:14.775973",
     "status": "completed"
    },
    "tags": []
   },
   "source": [
    "### 12.4 TensorFlow函数和图\n",
    "- TensorFlow可以优化计算图，修剪未使用的节点，简化表达式（例如1+2将替换为3），等等。准备好优化的图后，TF函数会以适当的顺序（并在可能时并行执行）有效地执行图中的操作。因此TF函数通常比原始的Python函数运行得更快，尤其是在执行复杂计算[1]的情况下。大多数时候，你并不需要真正了解很多：当你想增强Python函数时，只需将其转换为TF函数即可。\n",
    "- 在大多数情况下，将执行TensorFlow操作的Python函数转换为TF函数很简单：用@tf.function修饰它或让Keras替你处理。"
   ]
  },
  {
   "cell_type": "markdown",
   "id": "f780de2f",
   "metadata": {
    "papermill": {
     "duration": 0.302226,
     "end_time": "2024-10-03T07:18:15.729845",
     "exception": false,
     "start_time": "2024-10-03T07:18:15.427619",
     "status": "completed"
    },
    "tags": []
   },
   "source": [
    "## 第13章 使用TensorFlow加载和预处理数据\n",
    "- 到目前为止，我们仅使用了适合放入内存的数据集，但是深度学习系统经常在非常大的数据集上训练，而这些数据集不能完全放入RAM。读取大型数据集并对其进行有效预处理可能对其他深度学习库来说很难实现，但是TensorFlow借助Data API很容易实现：只需创建一个数据集对象，并告诉它从何处获取数据以及如何对其进行转换。TensorFlow负责所有细节的实现，例如多线程、队列、批处理和预取。此外，Data API与tf.keras无缝协同工作！\n",
    "- 有效读取大数据集并不是唯一的难点：数据也需要进行预处理，通常是归一化的。而且，它并不总是严格地由数字字段组成，可能存在文本特征、分类特征等。这些需要进行编码、例如使用独热编码、词袋编码或嵌入（如我们将要看到的，嵌入是一种可训练的密集向量，表示类别或令牌）。处理所有这些预处理的一种方法是编写自己的自定义预处理层，也可以使用Keras提供的标准预处理层。\n",
    "- 在本章中，我们将介绍Data API、TFRecord格式以及如何创建自定义预处理层，还将介绍如何使用标准Keras层。下面快速浏览TensorFlow生态系统中的一些相关项目：TF Transform (tf.Transform); TF Datasets (TFDS)。"
   ]
  },
  {
   "cell_type": "markdown",
   "id": "49f016e9",
   "metadata": {
    "papermill": {
     "duration": 0.30165,
     "end_time": "2024-10-03T07:18:16.338723",
     "exception": false,
     "start_time": "2024-10-03T07:18:16.037073",
     "status": "completed"
    },
    "tags": []
   },
   "source": [
    "### 13.1 数据API\n",
    "- 整个数据API都围绕着数据集的概念：你可能会怀疑，这代表了数据元素的一个序列。\n",
    "- 数据API的主要操作包括: \n",
    "    - 读取: `tf.data.Dataset.from_tensor_slices()`\n",
    "    - 链式转换: `dataset = dataset.repeat(3).batch(7) `\n",
    "    - 乱序数据: `dataset = dataset.shuffle(buffer_size=5, seed=42).batch(7)`\n",
    "    - 预处理数据: `(x - X_mean) / X_std, y`\n",
    "    - 合并在一起: `dataset = dataset.interleave(...)`\n",
    "    - 预取(提前准备一个批次): `dataset.batch(batch_size).prefetch(1) `\n",
    "- 和tf.keras一起使用数据集: 现在我们可以使用csv_reader_dataset（）函数为训练集创建数据集。"
   ]
  },
  {
   "cell_type": "markdown",
   "id": "d430282c",
   "metadata": {
    "papermill": {
     "duration": 0.302892,
     "end_time": "2024-10-03T07:18:16.999722",
     "exception": false,
     "start_time": "2024-10-03T07:18:16.696830",
     "status": "completed"
    },
    "tags": []
   },
   "source": [
    "### 13.2 TFRecord格式\n",
    "- TFRecord格式是TensorFlow首选的格式，用于存储大量数据并有效读取数据。这是一种非常简单的二进制格式，只包含大小不同的二进制记录序列（每个记录由一个长度、一个用于检查长度是否损坏的CRC校验和、实际数据以及最后一个CRC校验和组成）。你可以使用`tf.io.TFRecordWriter`类轻松创建TFRecord文件。"
   ]
  },
  {
   "cell_type": "markdown",
   "id": "261ba311",
   "metadata": {
    "papermill": {
     "duration": 0.306195,
     "end_time": "2024-10-03T07:18:17.608004",
     "exception": false,
     "start_time": "2024-10-03T07:18:17.301809",
     "status": "completed"
    },
    "tags": []
   },
   "source": [
    "### 13.3 预处理输入特征\n",
    "- 为神经网络准备数据需要将所有特征转换为数值特征，通常将其归一化等。特别是如果你的数据包含分类特征或文本特征，则需要将它们转换为数字。在准备数据文件时，可以使用任何你喜欢的工具（例如NumPy、pandas或Scikit-Learn）提前完成此操作。或者，你可以在使用Data API加载数据时动态地预处理数据（例如使用数据集的`map()`方法，如我们之前看到的），也可以在模型中直接包含预处理层。现在让我们来看最后一个选项。\n",
    "- 常见的预处理方法包括独热编码、嵌入编码、Keras预处理层。\n",
    "```python\n",
    "# 使用独热向量编码分类特征\n",
    "cat_one_hot = tf.one_hot(cat_indices, depth=len(vocab) + num_oov_buckets)\n",
    "# 使用嵌入编码分类特征: tf.nn.embedding_lookup（）函数以给定的索引查找在嵌入矩阵中的行，这就是它所做的全部。\n",
    "# 当keras.layers.TextVectorization层可用时，你可以调用其adapt()方法以使其从一个数据样本中提取词汇表（它会为你创建查找表）。\n",
    "tf.nn.embedding_lookup(embedding_matrix, cat_indices)\n",
    "# Keras预处理层: keras.layers.Normalization层和keras.layers.TextVectorization层。还包括keras.layers.Discretization层，它将连续的数据切成不同的离散块，并将每个块编码为一个独热向量。\n",
    "normalization = keras.layers.Normalization() \n",
    "discretization = keras.layers.Discretization([...]) \n",
    "pipeline = keras.layers.PreprocessingStage([normalization, discretization]) \n",
    "pipeline.adapt(data_sample) \n",
    "```"
   ]
  },
  {
   "cell_type": "markdown",
   "id": "a2d58d66",
   "metadata": {
    "papermill": {
     "duration": 0.360591,
     "end_time": "2024-10-03T07:18:18.269327",
     "exception": false,
     "start_time": "2024-10-03T07:18:17.908736",
     "status": "completed"
    },
    "tags": []
   },
   "source": [
    "### 13.4 TF Transform\n",
    "- 如果预处理是计算密集的，那么在训练之前（而不是即时）进行处理会大大提高速度：在训练之前，每个实例对数据进行一次预处理，而不是在训练期间每个实例进行一次数据预处理。\n",
    "- **添加额外的预处理层**: 采用经过训练的模型（采用由Apache Beam或Spark代码预处理过的数据进行训练），并在将其部署到你的应用程序或浏览器之前，添加额外的预处理层来进行实时预处理。那肯定会更好一些，因为现在你有两个版本的预处理代码：Apache Beam代码或Spark代码以及预处理层的代码。"
   ]
  },
  {
   "cell_type": "markdown",
   "id": "113a46eb",
   "metadata": {
    "papermill": {
     "duration": 0.303131,
     "end_time": "2024-10-03T07:18:18.872711",
     "exception": false,
     "start_time": "2024-10-03T07:18:18.569580",
     "status": "completed"
    },
    "tags": []
   },
   "source": [
    "### 13.5 TensorFlow数据集项目\n",
    "- TensorFlow数据集（TFDS）项目使下载通用数据集变得非常容易，从小型数据集（如MNIST或Fashion MNIST）到大型数据集（如ImageNet）（你需要大量的磁盘空间）。该列表包括图像数据集、文本数据集（包括翻译数据集）以及音频和视频数据集。你可以访问https://homl.info/tfds 来查看完整列表以及每个数据集的描述。\n",
    "- 使用方法: 安装tensorflow_datasets库，然后调用`tfds.load()`函数，下载你想要的数据，并将该数据作为数据集的目录返回。"
   ]
  }
 ],
 "metadata": {
  "kaggle": {
   "accelerator": "none",
   "dataSources": [
    {
     "datasetId": 5807826,
     "sourceId": 9535600,
     "sourceType": "datasetVersion"
    }
   ],
   "dockerImageVersionId": 30775,
   "isGpuEnabled": false,
   "isInternetEnabled": true,
   "language": "python",
   "sourceType": "notebook"
  },
  "kernelspec": {
   "display_name": "Python 3",
   "language": "python",
   "name": "python3"
  },
  "language_info": {
   "codemirror_mode": {
    "name": "ipython",
    "version": 3
   },
   "file_extension": ".py",
   "mimetype": "text/x-python",
   "name": "python",
   "nbconvert_exporter": "python",
   "pygments_lexer": "ipython3",
   "version": "3.10.14"
  },
  "papermill": {
   "default_parameters": {},
   "duration": 289.832766,
   "end_time": "2024-10-03T07:18:20.906922",
   "environment_variables": {},
   "exception": null,
   "input_path": "__notebook__.ipynb",
   "output_path": "__notebook__.ipynb",
   "parameters": {},
   "start_time": "2024-10-03T07:13:31.074156",
   "version": "2.6.0"
  }
 },
 "nbformat": 4,
 "nbformat_minor": 5
}
