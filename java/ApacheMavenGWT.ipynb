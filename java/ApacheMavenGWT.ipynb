{
 "cells": [
  {
   "cell_type": "markdown",
   "metadata": {},
   "source": [
    "# <center>Apache Maven and GWT</center>"
   ]
  },
  {
   "cell_type": "code",
   "execution_count": null,
   "metadata": {},
   "outputs": [],
   "source": [
    "mvn archetype:generate  -DarchetypeGroupId=org.codehaus.mojo -DarchetypeArtifactId=gwt-maven-plugin -DarchetypeVersion=2.8.1"
   ]
  },
  {
   "cell_type": "markdown",
   "metadata": {},
   "source": [
    "[INFO] Generating project in Interactive mode<br>\n",
    "[INFO] Archetype repository not defined. Using the one from [org.codehaus.mojo:gwt-maven-plugin:2.8.2] found in catalog remote<br>\n",
    "Define value for property 'groupId': com.google.gwt.sample.stockwatcher<br>\n",
    "Define value for property 'artifactId': StockWatcher<br>\n",
    "Define value for property 'version' 1.0-SNAPSHOT: :<br>\n",
    "Define value for property 'package' com.google.gwt.sample.stockwatcher: :<br>\n",
    "Define value for property 'module': StockWatcher<br>"
   ]
  },
  {
   "cell_type": "code",
   "execution_count": null,
   "metadata": {},
   "outputs": [],
   "source": [
    "cd StockWatcher\n",
    "mvn gwt:run"
   ]
  }
 ],
 "metadata": {
  "kernelspec": {
   "display_name": "Python 3",
   "language": "python",
   "name": "python3"
  },
  "language_info": {
   "codemirror_mode": {
    "name": "ipython",
    "version": 3
   },
   "file_extension": ".py",
   "mimetype": "text/x-python",
   "name": "python",
   "nbconvert_exporter": "python",
   "pygments_lexer": "ipython3",
   "version": "3.6.2"
  }
 },
 "nbformat": 4,
 "nbformat_minor": 2
}
