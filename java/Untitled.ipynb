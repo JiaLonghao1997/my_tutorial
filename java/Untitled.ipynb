{
 "cells": [
  {
   "cell_type": "markdown",
   "metadata": {},
   "source": [
    "# <center>Java网络编程及实战</center>"
   ]
  },
  {
   "cell_type": "code",
   "execution_count": null,
   "metadata": {},
   "outputs": [],
   "source": [
    "mvn archetype:generate -DarchetypeGroupId=com.github.gwtmaterialdesign -DarchetypeArtifactId=gwt-material-archetype -DarchetypeVersion=2.1.1"
   ]
  },
  {
   "cell_type": "markdown",
   "metadata": {},
   "source": [
    "[INFO] Using following parameters for creating project from Archetype: gwt-material-archetype:2.1.1<br>\n",
    "[INFO] ----------------------------------------------------------------------------<br>\n",
    "[INFO] Parameter: groupId, Value: top.jialonghao<br>\n",
    "[INFO] Parameter: artifactId, Value: MavenGWTMaterial1101<br>\n",
    "[INFO] Parameter: version, Value: 1.0-SNAPSHOT<br>\n",
    "[INFO] Parameter: package, Value: top.jialonghao<br>\n",
    "[INFO] Parameter: packageInPathFormat, Value: top/jialonghao<br>\n",
    "[INFO] Parameter: package, Value: top.jialonghao<br>\n",
    "[INFO] Parameter: version, Value: 1.0-SNAPSHOT<br>\n",
    "[INFO] Parameter: projectName, Value:  MavenGWTMaterial1101<br>\n",
    "[INFO] Parameter: moduleName, Value:  MavenGWTMaterial1101<br>"
   ]
  },
  {
   "cell_type": "code",
   "execution_count": null,
   "metadata": {},
   "outputs": [],
   "source": [
    "cd  MavenGWTMaterial1101\n",
    "mvn gwt:devmode"
   ]
  }
 ],
 "metadata": {
  "kernelspec": {
   "display_name": "Python 3",
   "language": "python",
   "name": "python3"
  },
  "language_info": {
   "codemirror_mode": {
    "name": "ipython",
    "version": 3
   },
   "file_extension": ".py",
   "mimetype": "text/x-python",
   "name": "python",
   "nbconvert_exporter": "python",
   "pygments_lexer": "ipython3",
   "version": "3.6.2"
  }
 },
 "nbformat": 4,
 "nbformat_minor": 2
}
