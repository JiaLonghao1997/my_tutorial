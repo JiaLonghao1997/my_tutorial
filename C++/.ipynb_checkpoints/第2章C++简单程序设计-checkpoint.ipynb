{
 "cells": [
  {
   "cell_type": "markdown",
   "metadata": {},
   "source": [
    "#  <center>第2章 C++简单程序设计</center> "
   ]
  },
  {
   "cell_type": "markdown",
   "metadata": {},
   "source": [
    "## 2-1 C++简单程序设计基础\n",
    "计算机的最基本功能是数据处理。<br>\n",
    "在C++程序中怎样表示各种数据类型？<br>\n",
    "C++能够处理的基本数据类型<br>\n",
    "\t• 整数类型<br>\n",
    "\t• 实数类型<br>\n",
    "\t• 字符类型<br>\n",
    "\t• 布尔类型<br>\n",
    "C++支持的基本计算<br>\n",
    "\t• 算术运算<br>\n",
    "\t• 逻辑运算<br>\n",
    "其他问题<br>\n",
    "\t• 程序要能够输入数据、输出数据<br>\n",
    "\t• C++中的数据输入/输出可以调用预定义的功能模块实现<br>\n",
    "\t• 程序的执行流程不总是顺序的，因此程序要能够<br>\n",
    "\t\t○ 对执行流程进行选择（选择、开关语句）<br>\n",
    "\t\t○ 反复用同一算法依次处理大批量数据（循环语句）<br>\n",
    "基本数据类型能够表示的数据类型很有限。<br>\n",
    "程序员要能够自己定义类型（第4章 讲解）<br>\n",
    "枚举类型：通过列出所有可能取值来定义类型。<br>\n",
    "学习方法<br>\n",
    "## 2-2-1 C++的特点和程序设计实例大纲<br>\n",
    "C++的产生和发展<br>\n",
    "\t• 发源于C语言，称为“带类的C\"<br>\n",
    "\t• 1983年正式取名为C++<br>\n",
    "\t• 1998年11月被国际标准化组织正式确定为国际标准。<br>\n",
    "C++的特点：<br>\n",
    "\t• 兼容C, 支持面向过程的程序设计；<br>\n",
    "\t• 支持面向对象的方法；<br>\n",
    "\t• 支持泛型程序设计方法；<br>\n",
    "## 2-2-2 C++字符集和词法记号大纲<br>\n",
    "C++字符集<br>\n",
    "\t• 大小写字符： A~Z, a~z<br>\n",
    "\t• 数字字符：0~9 <br>\n",
    "\t• 特殊字符：显示存在问题，请网站查阅<br>\n",
    "C++的构词法：<br>\n",
    "\t• 关键字：C++预定义的单词；<br>\n",
    "\t• 标识符：程序员声明的单词，命名程序正文中的一些实体；<br>\n",
    "\t• 文字：在程序中直接使用符号表示的数据；<br>\n",
    "\t• 分隔符<br>\n",
    "\t• 运算符（操作符）<br>\n",
    "\t• 空白符<br>\n",
    "标识符的构成规则（程序员自己定义的）<br>\n",
    "\t• 以大小写字母或下划线(\\_)开始<br>\n",
    "\t• 可以由以大小写字母、下划线（_）或数字0~9组成<br>\n",
    "\t• 大小写字母代表不同的标识符<br>\n",
    "\t• 不能是C++关键字或操作符<br>\n",
    "## 2-3-1 基本数据类型、常量、变量<br>\n",
    "C++能够处理的基本数据类型<br>\n",
    "\t• 整数类型<br>\n",
    "\t• 实数类型<br>\n",
    "\t• 字符类型<br>\n",
    "\t• 布尔类型<br>\n",
    "程序中的数据<br>\n",
    "\t• 常量<br>\n",
    "\t\t○ 在源程序中直接写明的数据；<br>\n",
    "\t\t○ 其值在程序运行期间不可改变；<br>\n",
    "\t• 变量<br>\n",
    "\t\t○ 在程序运行过程中允许改变的数据（往往需要被改变）<br>\n",
    "整数类型<br>\n",
    "\t• 基本的整数类型： int<br>\n",
    "\t• 按符号分<br>\n",
    "\t\t○ 符号的（signed)<br>\n",
    "\t\t○ 无符号的（unsigned)——不可能去取负的整数<br>\n",
    "\t• 按数据范围分<br>\n",
    "\t\t○ 短整数（short)<br>\n",
    "\t\t○ 长整数（long)<br>\n",
    "\t\t○ 长长整数（long long)<br>\n",
    "ISO C++标准并没有明确规定每种数据类型的字节数和取值范围，它只是固定它们之间的字节数大小顺序满足：<br>\n",
    "\t• （signed/unsigned) signed char <= (unsigned) short int <=（unsigned） int <=(unsigned) long int <= long long int.<br>\n",
    "字符类型（char)——字符按编码存储（ASCALL码）<br>\n",
    "\t• 容纳单个字符的编码；<br>\n",
    "\t• 实质上存储的也是整数；<br>\n",
    "浮点数类型<br>\n",
    "\t• 单精度（float)<br>\n",
    "\t• 双精度（double)<br>\n",
    "\t• 扩展精度（long double)（详见第6章）<br>\n",
    "字符串类型<br>\n",
    "\t• 有字符串类型<br>\n",
    "\t• 基本类型中没有字符串变量；<br>\n",
    "\t• 采用字符数组存储字符串（C风格的字符串）<br>\n",
    "\t• 标准C++类库中的String类型（C++风格的字符串）<br>\n",
    "布尔类型<br>\n",
    "\t• 只有两个值：true or false<br>\n",
    "\t• 常用来表示关系比较、相等比较或者逻辑运算的结果；<br>\n",
    "\n",
    "常量<br>\n",
    "\t• 在程序运行的整个过程中，其值始终不可改变的量；<br>\n",
    "\t• 直接使用符号（文字）表示的值<br>\n",
    "\t• 例如：12  35 ‘A'都是常量<br>\n",
    "整数型常量：<br>\n",
    "\t• 文字形式<br>\n",
    "\t• 十进制<br>\n",
    "\t• 八进制<br>\n",
    "\t• 十六进制<br>\n",
    "\t• 后缀<br>\n",
    "浮点数常量<br>\n",
    "\t• 以文字形式<br>\n",
    "\t• 一般性质<br>\n",
    "\t• 指数形式<br>\n",
    "\t• 默认为double类型（加f为float类型）<br>\n",
    "\n",
    "C风格字符串常量<br>\n",
    "\t• 一对双括号括起来的字符序列<br>\n",
    "\t• 在内存中安串中字符的排列次序顺序存放，每个字符占一个字节；<br>\n",
    "\t• 在末尾添加’\\0‘作为结束标记<br>\n",
    "\t\n",
    "通过添加前缀可以改变字符常量或者字符串常量的类型。<br>\n",
    "变量<br>\n",
    "\t• 在程序运行过程中其值可变的量（接收程序输入或者输出）<br>\n",
    "\t• 变量实际上是一个名字，结合到一组内存单元；我们的程序要用内存单元去存储数据，怎么用（用地址；用变量名）；<br>\n",
    "全局变量： 数值型为0；<br>\n",
    "局部变量：函数体内，不初始化可能就是垃圾数据；<br>\n",
    "C++语言提供了多种初始化方式：<br>\n",
    "例如<br>\n",
    "\t• int  a = 0;<br>\n",
    "\t• int a(0)；<br>\n",
    "\t• int a = {0}；<br>\n",
    "\t• int a{0};<br>\n",
    "其中使用大括号的初始化方式称为列表初始化，列表初始化时不允许信息的丢失。例如用double值初始化int变量，就会造成数据丢失。<br>\n",
    "## 2-3-2程序大纲举例（略）<br>\n",
    "主要知识点：\n",
    "\t• 常量<br>\n",
    "\t• 变量<br>\n",
    "\t• 从键盘输入数据<br>\n",
    "\t• 数据的存储<br>"
   ]
  },
  {
   "cell_type": "markdown",
   "metadata": {},
   "source": [
    "## 2-4-1 算术运算与复制运算文本"
   ]
  },
  {
   "cell_type": "markdown",
   "metadata": {},
   "source": [
    "基本算术运算<br>\n",
    "\t• + - * /  （若整数相除，结果取整）<br>\n",
    "\t• % （取余、操作数为整数）<br>\n",
    "优先级与结合行<br>\n",
    "\t• 先乘除，后加减，同级自左至右<br>\n",
    "++ -- （自增、自减）<br>\n",
    "例如：i++， --j<br>\n",
    "前置自增自减运算符：先加1或减1，再进行赋值等其他运算；<br>\n",
    "后置自增自减云算法：先将变量的值取一个副本出来，先参与其他运算，再加减1；<br>\n",
    "赋值运算：将值赋给变量；“=”<br>\n",
    "复合赋值运算符：<br>\n",
    "<br>\n",
    "理解方法：将变量x放在赋值运算符的左边，然后赋值一个x到赋值运算符的右边，去跟原来赋值运算符右边的这个y+8相乘。<br>\n",
    "移位<br>\n",
    "位运算<br>"
   ]
  },
  {
   "cell_type": "markdown",
   "metadata": {},
   "source": [
    "## 2-4-2 逗号运算，关系运算，逻辑运算和条件运算<br>"
   ]
  },
  {
   "cell_type": "markdown",
   "metadata": {},
   "source": [
    "逗号运算符，——连接左右两个表达式；<br>\n",
    "<br>\n",
    "关系运算符——比较两个表达式相等、大小的关系；<br>\n",
    "<br>\n",
    "逻辑运算符——进行逻辑运算<br>\n",
    "\t• &&：短路特性<br>\n",
    "\t• ||：短路特性<br>\n",
    "\t•   ^ <br>\n",
    "条件运算符——一个表达式实现选择结构<br>\n",
    "表达式1？表达式2:表达式3<br>\n",
    "\t• 若表达式1为真，则执行表达式2，返回结果为表达式2；<br>\n",
    "\t• 若表达式1为假，则执行表达式3，返回结果为表达式3；<br>"
   ]
  },
  {
   "cell_type": "markdown",
   "metadata": {},
   "source": [
    "## 2-4-3 Sizeof运算、位运算"
   ]
  },
  {
   "cell_type": "markdown",
   "metadata": {},
   "source": [
    "Sizeof求一个变量或者一种数据类型所占的字节数<br>\n",
    "为什么需要用sizeof？<br>\n",
    "（1）变量或数据类型在不同的系统下所占的字节数不同；<br>\n",
    "（2）自定义类的数据类型<br>\n",
    "位运算<br>\n",
    "什么语言处理问题以位为单位？ 机器语言——>C++(最初希望可以写操作系统）<br>\n",
    "语法形式<br>\n",
    "  sizeof(类型名）或sizeof表达式<br>\n",
    "结果值：所占字节数<br>\n",
    "例如：<br>\n",
    "    &emsp;sizeof(short)<br>\n",
    "    &emsp;sizeof x<br>\n",
    "<br>    \n",
    "位运算<br>\n",
    "按位与（&）<br>\n",
    "运算规则：将两个位运算的每一位进行逻辑与操作<br>\n",
    "应用：编写底层接口或者标记，如将指定位置零；取出指定位；<br>\n",
    "<br>\n",
    "按位或（|）: 将两个运算量的每一个位进行逻辑或操作<br>\n",
    "<br>\n",
    "按位异或（^）：若对应位相同，则结果该位为0； 若对应位不同，则该位结果为1。<br>\n",
    "--------指定位翻转<br>\n",
    "<br>\n",
    "按位反（~）</br>\n",
    "<br>\n",
    "位运算——移位（<<, >>）\n",
    "<ol>\n",
    "    <li>左移运算（<<）: 左移后，低位补0，高位舍弃——相当于数值乘2（如发现正负变了，则说明溢出了）</li>\n",
    "    <li>右移运算符（>>）: 低位舍弃；高位（无符号数补0； 有符号数补“符号位”）——相当于数值除以2</li>\n",
    "</ol>\n",
    "\n"
   ]
  },
  {
   "cell_type": "markdown",
   "metadata": {},
   "source": [
    "## 2-4-2 运算优先级以及类型转换"
   ]
  },
  {
   "cell_type": "markdown",
   "metadata": {},
   "source": [
    "问题：<br>\n",
    "（1）多种运算符混合运算的优先级顺序？？<br>\n",
    "（2）整数和实数相加，但是加法要求必须是相同数据类型，如何处理？<br>\n",
    "<br>\n",
    "混合运算时数据类型的转换——隐含转换<br>\n",
    "一些二元运算符（算术运算符、关系运算符、逻辑运算符、位运算符和赋值运算符）要求两个操作数的类型一致；<br>\n",
    "基本原则：将低类型数据转化为高类型数据；<br>\n",
    "<br>\n",
    "混合运算时数据类型的转换<br>\n",
    "<ul>\n",
    "    <li>将非布尔值类型的算术值赋给布尔类型时，算术值为0，则结果为false,否则结果为true</li>\n",
    "    <li>将一个布尔值赋给非布尔类型时，布尔值为flase，则结果为0；布尔值为true，则结果为1</li>\n",
    "</ul>\n",
    "<br>\n",
    "<ul>\n",
    "    <li>将浮点数赋给整数类型时，结果值将只保留浮点数的整数部分，小数部分将丢失；（不会发生“四舍五入”）</li>\n",
    "    <li>将一个整数值赋给浮点数类型时，小鼠部分记为0；如果整数所占的空间超过了浮点数类型的容量，精度可能有损失。</li>\n",
    "</ul>\n",
    "<br>\n",
    "混合运算时数据类型的转换——显式转换<br>\n",
    "作用：将将表达式结果类型转化为类型说明符所指定的类型；<br>\n",
    "语法形式：。\n",
    "<ul>\n",
    "    <li>类型说明符（表达式）</li>\n",
    "    <li>（类型说明符）表达式</li>\n",
    "    <li>类型转换操作符<类型说明符>(表达式）</li>  \n",
    "</ul>\n",
    "类型转换操作符可以是：const_cast, dynamic_cast, reinterpret_cast, <b>static_cast</b>;<br>"
   ]
  },
  {
   "cell_type": "markdown",
   "metadata": {},
   "source": [
    "## 实验二 C++简单程序设计（上）"
   ]
  },
  {
   "cell_type": "markdown",
   "metadata": {},
   "source": [
    "学习目标：掌握C++语言的基本概念和基本语句编写简单的程序段；<br>\n",
    "本部的主要实验任务是通过实验练习来讲以下内容：<br>\n",
    "基本数据类型变量和常量的应用；<br>\n",
    "运算符与表达式的应用；<br>\n",
    "输入输出语句；<br>\n",
    "看事容，做事难；<br>\n",
    "辅助调试程序的功能（debug）<br>\n",
    "预备知识<br>\n",
    "<ul>\n",
    "    <li>注释：适当地使用注释，能提高程序的可读性，还能让部分代码片段的暂时不用，是修改例题程序的利器</li>\n",
    "        <ul>\n",
    "            <li>注释方法（1）：延用C语言方法，使用“/*”和“*/”括起注释文字；</li>\n",
    "            <li>注释方法（2）：使用“//”进行单行注释</li>\n",
    "        </ul>\n",
    "    <li>辅助调试工具：利用辅助调试工具，可以实现单步运行、设置断点、观察变量和表达式的值等功能</li>  \n",
    "</ul>"
   ]
  },
  {
   "cell_type": "code",
   "execution_count": null,
   "metadata": {},
   "outputs": [],
   "source": [
    "// ConsoleApplication02_1_sizeof.cpp\n",
    "#include \"pch.h\"\n",
    "#include <iostream>\n",
    "using namespace std;\n",
    "\n",
    "int main()\n",
    "{   \n",
    "\tcout << \"The size of an int is:\\t\\t\" << sizeof(int) << \"bytes.\\n\";\n",
    "\tcout << \"The size of an short is:\\t\\t\" << sizeof(short) << \"bytes.\\n\";\n",
    "\tcout << \"The size of an long is:\\t\\t\" << sizeof(long) << \"bytes.\\n\";\n",
    "\tcout << \"The size of an char is:\\t\\t\" << sizeof(char) << \"bytes.\\n\";\n",
    "\tcout << \"The size of an float is:\\t\\t\" << sizeof(float) << \"bytes.\\n\";\n",
    "\tcout << \"The size of an double is:\\t\\t\" << sizeof(double) << \"bytes.\\n\";\n",
    "\t//测试一下您的计算机下的字节长度，以确保数据不会溢出；\n",
    "\treturn 0;\n",
    "}"
   ]
  },
  {
   "cell_type": "code",
   "execution_count": null,
   "metadata": {},
   "outputs": [],
   "source": [
    "// ConsoleApplication02_2_typedebug.cpp\n",
    "#include \"pch.h\"\n",
    "#include <iostream>\n",
    "using namespace std;\n",
    "\n",
    "int main()\n",
    "{\n",
    "\tunsigned int x; //usigned int 只能表示0~2^8或者2^16\n",
    "\tunsigned int y = 100;\n",
    "\tunsigned int z = 50;\n",
    "\tint d;\n",
    "\tx = y - z;\n",
    "\tcout << \"Difference is: \" << x;\n",
    "\tx = z - y;  //为什么报错？\n",
    "\t//运行时错误最主要的两类原因：类型错误和逻辑错误；\n",
    "\tcout << \"\\n Now difference is: \" << x ;\n",
    "\td = z - y;\n",
    "\tcout << \"\\n Final difference is: \" << d << endl;\n",
    "\treturn 0;\n",
    "}\n",
    "/* 输出结果为：\n",
    "Difference is: 50\n",
    " Now difference is: 4294967246\n",
    "*/"
   ]
  },
  {
   "cell_type": "code",
   "execution_count": null,
   "metadata": {},
   "outputs": [],
   "source": [
    "// ConsoleApplication02_3_cin_cout.cpp\n",
    "#include \"pch.h\"\n",
    "#include <iostream>\n",
    "using namespace std;\n",
    "int main()\n",
    "{\n",
    "\tint a, b, x;\n",
    "\tcout << \"input value of a: \\n\";\n",
    "\tcin >> a;\n",
    "\n",
    "\tcout << \"input value of b: \\n\";\n",
    "\tcin >> b;\n",
    "\n",
    "\tx = (a - b) > 0 ? (a - b) : (b - a);\n",
    "\tcout << \"The difference of a and b is: \\t\\t\" << x;\n",
    "\treturn 0;\n",
    "}"
   ]
  },
  {
   "cell_type": "markdown",
   "metadata": {},
   "source": [
    "<b>编译时和运行时错误</b><br>\n",
    "错误信息：中文含义，根本原因，解决方法；<br>\n",
    "定位和排除运行时错误成为“程序调试”；<br>\n",
    "“不积跬步，无以成千里”。<br>"
   ]
  },
  {
   "cell_type": "markdown",
   "metadata": {},
   "source": [
    "## 2-5 数据输入和输出"
   ]
  },
  {
   "cell_type": "markdown",
   "metadata": {},
   "source": [
    "<b>I/O流</b><br>\n",
    "<ul>\n",
    "    <li>在C++中，将数据从一个对象到另一个对象的流动抽象为“流”.流在使用前要被建立，使用后要被删除。</li>\n",
    "    <li>数据的输入与输出是通过I/O流来实现的，cin和cout是预定义的流类对象。cin用来处理标准输入，即键盘输入。cout用来处理标准输出，即屏幕输出。</li>\n",
    "    <li>从流中获取数据的操作称为提取操作，向流中添加数据的操作称为插入操作。</li>\n",
    "</ul>\n",
    " <b>预定义的插入符和提取符</b>\n",
    " <ul>\n",
    "    <li>\"<<\"是预定义的插入符，作用在流类对象cout上便可以实现标准输出设备输出。如：cout << 表达式 << 表达式……</li>\n",
    "    <li>标准输入是将提取符作用在流类对象cin上。如：cin >> 表达式 >> 表达式……</li>\n",
    "    <li>提取符可以连续写多个，每个后面跟一个表达式，该表达式通常用于存放输入值的变量。例如：<br>\n",
    "        <ul>\n",
    "            <li>\n",
    "                int a, b;\n",
    "            </li>\n",
    "            <li>\n",
    "                cin >> a >> b;\n",
    "            </li>\n",
    "        </ul>\n",
    "    </li>\n",
    "</ul>\n",
    "常用的I/O流类库操作符<br>\n",
    "例：cout << setw(5) << setprecision(3) << 3.1415;<br>"
   ]
  },
  {
   "cell_type": "markdown",
   "metadata": {},
   "source": [
    "## 2-6 选择结构"
   ]
  },
  {
   "cell_type": "markdown",
   "metadata": {},
   "source": [
    "<b>if语句的语法形式</b>\n",
    "<ul>\n",
    "    <li>if（表达式）语句，例：if（x > y）cout << x;</li>\n",
    "    <li>if (表达式） 语句1 else 语句2 <br>\n",
    "        例：if (x > y ) cout << x;<br>\n",
    "        else cout << y;\n",
    "    </li>\n",
    "    <li>if(表达式1） 语句1; <br>\n",
    "        else if (表达式2) 语句2;<br>\n",
    "        else if (表达式3）语句3;<br>\n",
    "        ……<br>\n",
    "        else 语句n;\n",
    "    </li>\n",
    "</ul>"
   ]
  },
  {
   "cell_type": "code",
   "execution_count": null,
   "metadata": {},
   "outputs": [],
   "source": [
    "// Example02-3.cpp \n",
    "//输入两个整数，比较两个数的大小；\n",
    "\n",
    "#include \"pch.h\"\n",
    "#include <iostream>\n",
    "using namespace std;\n",
    "int main()\n",
    "{\n",
    "\tint x, y;\n",
    "\tcout << \"Enter x and y:\";\n",
    "\tcin >> x >> y;\n",
    "\tif (x != y)\n",
    "\t\tif (x > y)\n",
    "\t\t\tcout << \"x > y\" << endl;\n",
    "\t\telse\n",
    "\t\t\tcout << \"x < y\" << endl;\n",
    "\telse\n",
    "\t\tcout << \" x = y\" << endl;\n",
    "\treturn 0;\n",
    "}"
   ]
  },
  {
   "cell_type": "markdown",
   "metadata": {},
   "source": [
    "<b>嵌套的if结构</b><br>\n",
    "每层的if与else匹配使用，或用{}来确定层次关系。<br>"
   ]
  },
  {
   "cell_type": "markdown",
   "metadata": {},
   "source": [
    "## 2-7-1 循环结构-while语句"
   ]
  },
  {
   "cell_type": "markdown",
   "metadata": {},
   "source": [
    "问题：数列前n项和？（前n项和的公式难以推到）<br>"
   ]
  },
  {
   "cell_type": "code",
   "execution_count": null,
   "metadata": {},
   "outputs": [],
   "source": [
    "// Example02_05_sum.cpp\n",
    "//求自然数1~10之和\n",
    "#include \"pch.h\"\n",
    "#include <iostream>\n",
    "using namespace std;\n",
    "\n",
    "int main()\n",
    "{\n",
    "\tint i = 1, sum = 0;\n",
    "\twhile (i <= 10) {\n",
    "\t\tsum += i; //相当于sum = sum + i;\n",
    "\t\ti++;\n",
    "\t}\n",
    "\tcout << \"sum = \" << sum << endl;\n",
    "\treturn 0;\n",
    "}"
   ]
  },
  {
   "cell_type": "markdown",
   "metadata": {},
   "source": [
    "<ul>\n",
    "    <li>while语句的语法形式：while(表达式） 语句</li>\n",
    "    <li>执行顺序：先判断表达式的值，若为true时，执行语句</li>\n",
    "    <li> while循环的语句可以是复合语句，其中必须含有改变条件表达式值的语句。(否则为死循环）</li>\n",
    "</ul>"
   ]
  },
  {
   "cell_type": "markdown",
   "metadata": {},
   "source": [
    "## 2-7-2 循环结构-do while语句"
   ]
  },
  {
   "cell_type": "code",
   "execution_count": null,
   "metadata": {},
   "outputs": [],
   "source": [
    "// Example02_6_reverse.cpp \n",
    "//输入一个数，将各位数字翻转后输出\n",
    "\n",
    "#include \"pch.h\"\n",
    "#include <iostream>\n",
    "using namespace std;\n",
    "int main()\n",
    "{\n",
    "\tint n, right_digit, newnum = 0;\n",
    "\tcout << \"Enter the number:\";\n",
    "\tcin >> n;\n",
    "\tcout << \"The number in reverse order is\";\n",
    "\tdo {\n",
    "\t\tright_digit = n % 10;\n",
    "\t\tcout << right_digit;\n",
    "\t\tn /= 10;\n",
    "\t} while (n != 0);\n",
    "\tcout << endl;\n",
    "\treturn 0;\n",
    "}"
   ]
  },
  {
   "cell_type": "markdown",
   "metadata": {},
   "source": [
    "## 2-7-3 循环结构-for语句"
   ]
  },
  {
   "cell_type": "markdown",
   "metadata": {},
   "source": [
    "C++中最强的循环语句，适用于循环次数已知的情况。"
   ]
  },
  {
   "cell_type": "code",
   "execution_count": null,
   "metadata": {},
   "outputs": [],
   "source": [
    "// Example02_08_factors.cpp\n",
    "//输入一个整数，求出它的所有因子\n",
    "\n",
    "#include \"pch.h\"\n",
    "#include <iostream>\n",
    "using namespace std;\n",
    "int main()\n",
    "{\n",
    "\tint n;\n",
    "\tcout << \"Enter a positive integer:\";\n",
    "\tcin >> n;\n",
    "\tcout << \"Number \" << n << \" Factors \";\n",
    "\tfor (int k = 1; k <= n; k++)\n",
    "\t\tif (n % k == 0)\n",
    "\t\t\tcout << k << \" \";\n",
    "\tcout << endl;\n",
    "\treturn 0;\n",
    "}"
   ]
  },
  {
   "cell_type": "markdown",
   "metadata": {},
   "source": [
    "for（初始语句; 表达式1; 表达式2）语句<br>\n",
    "初始语句——循环前先求解；<br>\n",
    "表达式1——为true时执行循环体；<br>\n",
    "表达式2——每次执行完循环体后求解<br>\n",
    "<br>\n",
    "for语句的另外一种形式：<br>\n",
    "范围for语句：<br>\n",
    "for（声明 ： 表达式）<br>\n",
    "    语句<br>"
   ]
  },
  {
   "cell_type": "markdown",
   "metadata": {},
   "source": [
    "## 2-7-4 嵌套的控制结构、其他控制结构"
   ]
  },
  {
   "cell_type": "markdown",
   "metadata": {},
   "source": [
    "问题：矩阵的行列操作(单个循环无法实现）？\n",
    "    遇到特殊情况，停止循环（break&continue）?\n",
    "<b>循环结构与选择结构的嵌套</b>"
   ]
  },
  {
   "cell_type": "code",
   "execution_count": null,
   "metadata": {},
   "outputs": [],
   "source": [
    "// Example02_10_while_if.cpp\n",
    "//输入一系列整数，统计出正整数个数i和负整数个数j，读入0则结束。\n",
    "\n",
    "#include \"pch.h\"\n",
    "#include <iostream>\n",
    "using namespace std;\n",
    "int main()\n",
    "{\n",
    "\tint i = 0, j = 0, n;\n",
    "\tcout << \"Enter some integers please(enter 0 to quit):\" << endl;\n",
    "\tcin >> n;\n",
    "\twhile (n != 0) {\n",
    "\t\tif (n > 0) i += 1;\n",
    "\t\tif (n < 0) j += 1;\n",
    "\t\tcin >> n;\n",
    "\t}\n",
    "\tcout << \"Count of positive integers:\" << i << endl;\n",
    "\tcout << \"Count of negatve integers:\" << j << endl;\n",
    "\treturn 0;\n",
    "}"
   ]
  },
  {
   "cell_type": "markdown",
   "metadata": {},
   "source": [
    "<b>其他控制语句</b>\n",
    "<ul>\n",
    "    <li>\n",
    "        break语句<br>\n",
    "        是程序从循环体和switch语句内跳出，继续执行逻辑上的下一条语句。不宜用在别处。\n",
    "    </li>\n",
    "    <li>\n",
    "        continue语句<br>\n",
    "        结束本次循环，接着判断是否执行下一次循环；\n",
    "    </li>\n",
    "    <li>\n",
    "        goto语句<br>\n",
    "        使程序的执行流程跳转到语句标号所指定的语句。不提倡使用。</li>     \n",
    "</ul>"
   ]
  },
  {
   "cell_type": "markdown",
   "metadata": {},
   "source": [
    "## 2-8 自定义类型"
   ]
  },
  {
   "cell_type": "markdown",
   "metadata": {},
   "source": [
    "<b>类型别名：为已有类型另外命名</b>\n",
    "问题：表示一个星期的七天，该用什么类型呢？<br>\n",
    "列出整数的子集，定义一个新类型：0,1,2,3,4,5,6<br>\n",
    "<b>枚举类型：<br></b>\n",
    "<ul>\n",
    "    <li>\n",
    "        定义方式：将全部可取值一一列举出来\n",
    "    </li>\n",
    "    <li>\n",
    "        语法形式：<br>\n",
    "        enum 枚举类型名 {变量值列表}<br>\n",
    "        enum Weekday {SUN,MON,TUE,WED,THU,FRI,STA}<br>\n",
    "        默认情况下：SUN=0, MON=1, TUE=2, ……\n",
    "    </li>\n",
    "</ul>\n",
    "<br>        \n",
    "C++包含两种枚举类型：\n",
    "<ul>\n",
    "    <li>不限定作用域的枚举类型：enum 枚举类型名 {变量值列表}</li>\n",
    "    <li>限定作用域的enum类型将在后续章节介绍</li>\n",
    "</ul>\n",
    "<br>\n",
    "不限定作用域的枚举类型说明\n",
    "<ul>\n",
    "    <li>枚举元素是常量，不能对它们复制</li>\n",
    "    <li>枚举元素具有默认值，它们依次为：0,1,2……</li>\n",
    "    <li>也可以在声明时另行制定枚举元素的值<br>\n",
    "        如：enum Weekday {SUN=7, MON=1, TUE, WED, THU, FRI, SAT}\n",
    "    </li>\n",
    "    <li>枚举值可以进行关系运算</li>\n",
    "    <li>整数值不能直接赋值给枚举变量<br>\n",
    "       如需要将整数赋值给枚举变量，应进行强制类型转换。\n",
    "    </li>\n",
    "    <li>枚举值可以给整数值赋值</li>\n",
    "</ul>\n",
    "<br>"
   ]
  },
  {
   "cell_type": "code",
   "execution_count": null,
   "metadata": {},
   "outputs": [],
   "source": [
    "// Example02_11_GameResult.cpp \n",
    "// 枚举比赛的结果\n",
    "\n",
    "#include \"pch.h\"\n",
    "#include <iostream>\n",
    "using namespace std;\n",
    "enum GameResult { WIN, LOSE, TIE, CANCEL };\n",
    "int main()\n",
    "{\n",
    "\tGameResult result;\n",
    "\tenum GameResult omit = CANCEL;\n",
    "\tfor (int count = WIN; count <= CANCEL; count++) {\n",
    "\t\tresult = GameResult(count);\n",
    "\t\tif (result == omit)\n",
    "\t\t\tcout << \"The game was cancelled\" << endl;\n",
    "\t\telse {\n",
    "\t\t\tcout << \"The game was played\";\n",
    "\t\t\tif (result == WIN) cout << \"and we won!\";\n",
    "\t\t\tif (result == LOSE) cout << \"and we lost.\";\n",
    "\t\t\tcout << endl;\n",
    "\t\t}\n",
    "\t}\n",
    "\treturn 0;\n",
    "}"
   ]
  },
  {
   "cell_type": "markdown",
   "metadata": {},
   "source": [
    "<b>auto类型与decltype类型</b>\n",
    "<ul>\n",
    "    <li>auto：编译器通过初始值自动推断变量的类型</li>\n",
    "    <li>decltype: 定义一个变量与某一表达式的类型相同，但并不用该表达式初始化变量。<br>\n",
    "        例如： decltype(i) j = 2<br>\n",
    "        表示j以2作为初始值，类型与i一致；\n",
    "    </li>\n",
    "</ul>"
   ]
  },
  {
   "cell_type": "markdown",
   "metadata": {},
   "source": [
    "## 2-9 第二章小结"
   ]
  },
  {
   "cell_type": "markdown",
   "metadata": {},
   "source": [
    "C++语言概述：起源，基本概念和基本语法；<br>\n",
    "算法的流程控制；<br>\n",
    "<br>\n",
    "<b>达到的目标</b>\n",
    "<ul>\n",
    "    <li>能够编写小程序</li>\n",
    "    <li>学会编译连接和执行程序</li>\n",
    "    <li>学会调试</li>\n",
    "<ul>"
   ]
  },
  {
   "cell_type": "markdown",
   "metadata": {},
   "source": [
    "## 实验二 C++简单程序设计（下）"
   ]
  },
  {
   "cell_type": "markdown",
   "metadata": {},
   "source": [
    "<b>本部分主要实验任务是通过实验练习来进一步理解以下的内容:</b><br>\n",
    "<ol>\n",
    "    <li>结构化程序设计基本控制结构的运用。</li>\n",
    "    <li>自定义数据类型的应用</li>\n",
    "    <li>复习简单的输入输出、头文件的作用、常用的Debug功能。</li>\n",
    "</ol>  \n",
    "循环结构：while, do while, for<br>\n",
    "分支结构： if和switch case<br>\n",
    "还有与之配合的： break和continue<br>\n",
    "简单的自定义数据类型：typedef, enum, struct, union<br>\n",
    "例1：计算自然数0~10的和（略）"
   ]
  },
  {
   "cell_type": "code",
   "execution_count": null,
   "metadata": {},
   "outputs": [],
   "source": [
    "// ConsoleApplication02_4_area.cpp \n",
    "//例2：编程计算圆形，长方形，正方形的面积;\n",
    "\n",
    "#include \"pch.h\"\n",
    "#include <iostream>\n",
    "using namespace std;\n",
    "const float PI = 3.1416;\n",
    "int main()\n",
    "{\n",
    "\tint iType;\n",
    "\tfloat radius, a, b, area;\n",
    "\tcout << \"图形的类型为？（1-圆形 2-长方形 3-正方形）：\";\n",
    "\tcin >> iType;\n",
    "\tswitch (iType) {\n",
    "\tcase 1:\n",
    "\t\tcout << \"圆的半径为：\";\n",
    "\t\tcin >> radius;\n",
    "\t\tarea = PI * radius * radius;\n",
    "\t\tcout << \"面积为：\" << area << endl;\n",
    "\t\tbreak;\n",
    "\n",
    "\tcase 2:\n",
    "\t\tcout << \"矩形的长为：\";\n",
    "\t\tcin >> a;\n",
    "\t\tcout << \"矩形的宽为：\";\n",
    "\t\tcin >> b;\n",
    "\t\tarea = a * b;\n",
    "\t\tcout << \"面积为：\" << area << endl;\n",
    "\t\tbreak;\n",
    "\n",
    "\tcase 3:\n",
    "\t\tcout << \"正方形的变长为：\";\n",
    "\t\tcin >> a;\n",
    "\t\tarea = a * a;\n",
    "\t\tcout << \"面积为：\" << area << endl;\n",
    "\t\tbreak;\n",
    "\n",
    "\tdefault:\n",
    "\t\tcout << \"不是合法的输入值！\" << endl;\n",
    "\t}\n",
    "}"
   ]
  },
  {
   "cell_type": "markdown",
   "metadata": {},
   "source": [
    "Struct结构的作用是把一组相互关联的数据整合在一起。"
   ]
  },
  {
   "cell_type": "code",
   "execution_count": null,
   "metadata": {},
   "outputs": [],
   "source": [
    "// ConsoleApplication02_5_time.cpp\n",
    "//申明一个表示时间的结构体，可以精确的表示年、月、日、小时、分、秒；\n",
    "//提示用户输入年、月、日、小时、分、秒的值，然后完整地显示出来。\n",
    "\n",
    "#include \"pch.h\"\n",
    "#include <iostream>\n",
    "using namespace std;\n",
    "\n",
    "struct MyTimeStruct {\n",
    "\tunsigned int year;\n",
    "\tunsigned int month;\n",
    "\tunsigned int day;\n",
    "\tunsigned int hour;\n",
    "\tunsigned int min;\n",
    "\tunsigned int sec;\n",
    "};  //C++中多使用class来定义\n",
    "\n",
    "int main(){\n",
    "\tMyTimeStruct myTime = { 2018, 10, 31, 15, 15, 20 }; //初始化\n",
    "\t\n",
    "\tcout << \"please input year:\" << endl;\n",
    "\tcin >> myTime.year;\n",
    "\tcout << \"please input month:\" << endl;\n",
    "\tcin >> myTime.month;\n",
    "\tcout << \"please input day:\" << endl;\n",
    "\tcin >> myTime.day;\n",
    "\tcout << \"please input hour:\" << endl;\n",
    "\tcin >> myTime.hour;\n",
    "\tcout << \"please input minute:\" << endl;\n",
    "\tcin >> myTime.min;\n",
    "\tcout << \"please input second:\" << endl;\n",
    "\tcin >> myTime.sec;\n",
    "\n",
    "\tcout << \"the time is set to : \" \n",
    "\t\t<< myTime.year << \"/\"\n",
    "\t\t<< myTime.month << \"/\"\n",
    "\t\t<< myTime.day << \" \"\n",
    "\t\t<< myTime.hour << \":\"\n",
    "\t\t<< myTime.min << \":\"\n",
    "\t\t<< myTime.sec << endl;\n",
    "\treturn 0;\n",
    "}"
   ]
  },
  {
   "cell_type": "markdown",
   "metadata": {},
   "source": [
    "<b>拓展练习1</b><br>\n",
    "修改一下程序，让它按照您喜欢的交互方式输入和输出。<br>\n",
    "问题：如果输入了13月36日这样的值，程序是无法报错的？如何修改代码？<br>\n",
    "解决办法：<br>\n",
    "（1）枚举类型；<br>\n",
    "（2）每个cin后增加条件判断；<br>"
   ]
  }
 ],
 "metadata": {
  "kernelspec": {
   "display_name": "Python 3",
   "language": "python",
   "name": "python3"
  },
  "language_info": {
   "codemirror_mode": {
    "name": "ipython",
    "version": 3
   },
   "file_extension": ".py",
   "mimetype": "text/x-python",
   "name": "python",
   "nbconvert_exporter": "python",
   "pygments_lexer": "ipython3",
   "version": "3.6.2"
  }
 },
 "nbformat": 4,
 "nbformat_minor": 2
}
