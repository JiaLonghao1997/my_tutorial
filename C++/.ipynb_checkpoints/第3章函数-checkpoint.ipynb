{
 "cells": [
  {
   "cell_type": "markdown",
   "metadata": {},
   "source": [
    "#  <center>第3章 函数</center> "
   ]
  },
  {
   "cell_type": "markdown",
   "metadata": {},
   "source": [
    "## 3-1 函数导学"
   ]
  },
  {
   "cell_type": "markdown",
   "metadata": {},
   "source": [
    "函数——程序的功能模块；<br>\n",
    "函数的定义与调用；<br>\n",
    "内联函数——调用函数有一定的开销，平衡程序逻辑结构希望定义单独的函数而程序行过程中希望不要使用函数调用，转子函数，然后返回这一对矛盾；<br>\n",
    "constexpr函数——常量表达式函数（函数体中的可执行语句只有一句，就是return语句）：当参数是常量时，返回值也应该为常量。<br>\n",
    "带默认参数值的函数<br>\n",
    "函数重载——定义同一个函数名，可以定义不同的函数方法（跟哪个函数的名的形参符合）；<br>\n",
    "C++系统函数<br>\n",
    "<br>\n",
    "<b>学习要求和建议（略）</b>"
   ]
  },
  {
   "cell_type": "markdown",
   "metadata": {},
   "source": [
    "## 3-2函数定义 "
   ]
  },
  {
   "cell_type": "markdown",
   "metadata": {},
   "source": [
    "函数：定义好的可重用的功能模块；<br>\n",
    "定义函数：将一个模块的算法用C++描述出来；<br>\n",
    "函数的参数：计算所需要的数据和条件；<br>\n",
    "函数的返回值：需要返回的计算结果；（函数也可以没有返回值）<br>\n",
    "<br>\n",
    "<b>函数定义的语法形式</b>\n",
    "类型标识符 函数名（形式参数表）{ 语句序列 }<br>\n",
    "<ul>\n",
    "    <li>形参表的定义方式：<type1> name1, <type2> name2, ... <typen> namen是被初始化的内部变量，寿命和可见性仅限于函数内部；</li>\n",
    "    <li>函数的返回值：语句序列的最后一句通常是return语句；</li>\n",
    "    <li>返回结果的类型由函数由函数名前的类型标识符确定；无返回值则用void</li>\n",
    "</ul>   "
   ]
  },
  {
   "cell_type": "markdown",
   "metadata": {},
   "source": [
    "## 3-3-1 函数调用大纲"
   ]
  },
  {
   "cell_type": "markdown",
   "metadata": {},
   "source": [
    "如何在程序中调用已经定义的函数；<br>\n",
    "函数调用前需要先声明函数原型——声明即告诉函数我即将调用某种类型函数。<br>\n",
    "函数的原型声明：类型标识符 被调用函数名 （含类型说明的形参表）<br>\n",
    "函数调用形式： 函数名（实参列表）——调用过程中，用实参列表去初始化形参列表，开始为形参列表初始化分配空间；<br>\n",
    "嵌套调用：在一个函数的函数体中，调用另一个函数；<br>\n",
    "递归调用：函数直接或间接调用自身；<br>"
   ]
  },
  {
   "cell_type": "code",
   "execution_count": null,
   "metadata": {},
   "outputs": [],
   "source": [
    "// Example03_01_powxn.cpp \n",
    "//例3-1编写一个求x的n次方的函数\n",
    "\n",
    "#include \"pch.h\"\n",
    "#include <iostream>\n",
    "using namespace std;\n",
    "\n",
    "//计算x的n次方\n",
    "double power(double x, int n) {\n",
    "\tdouble val = 1.0;\n",
    "\twhile (n--)\n",
    "\t\tval *= x;\n",
    "\treturn val;\n",
    "}\n",
    "\n",
    "int main()\n",
    "{\n",
    "\tdouble pow;\n",
    "\tpow = power(5, 2);\n",
    "\tcout << \"5 to the power 2 is \" << pow << endl;\n",
    "\t//函数调用作为一个表达式出现在输出语句中;\n",
    "\treturn 0;\n",
    "}"
   ]
  },
  {
   "cell_type": "markdown",
   "metadata": {},
   "source": [
    "## 3-3-2 文本"
   ]
  },
  {
   "cell_type": "markdown",
   "metadata": {},
   "source": [
    "例3-2 数制转换：输入一个二进制数，将其转换为十进制数输出；<br>"
   ]
  },
  {
   "cell_type": "code",
   "execution_count": null,
   "metadata": {},
   "outputs": [],
   "source": [
    "// Example03_02_convert2to10.cpp\n",
    "//例3-2 数制转换：输入一个二进制数，将其转换为十进制数输出；\n",
    "\n",
    "#include \"pch.h\"\n",
    "#include <iostream>\n",
    "using namespace std;\n",
    "\n",
    "double power(double x, int n); //计算x的n次方;\n",
    "int main()\n",
    "{\n",
    "\tint value = 0;\n",
    "\tcout << \"Enter an 8 bit binary number  \";\n",
    "\tfor (int i = 7; i >= 0; i--) {\n",
    "\t\tchar ch;\n",
    "\t\tcin >> ch;\n",
    "\t\tif (ch == '1')\n",
    "\t\t\tvalue += static_cast<int>(power(2, i));\n",
    "\t}\n",
    "\tcout << \"Decimal value is  \" << value << endl;\n",
    "\treturn 0;\n",
    "}\n",
    "\n",
    "double power(double x, int n) {\n",
    "\tdouble val = 1.0;\n",
    "\twhile (n--)\n",
    "\t\tval *= x;\n",
    "\treturn val;\n",
    "}"
   ]
  },
  {
   "cell_type": "markdown",
   "metadata": {},
   "source": [
    "## 3-3-3 例子一 求π"
   ]
  },
  {
   "cell_type": "code",
   "execution_count": null,
   "metadata": {},
   "outputs": [],
   "source": [
    "// Example03_03_pi_arctan.cpp \n",
    "//利用arctan的值来求解π\n",
    "\n",
    "#include \"pch.h\"\n",
    "#include <iostream>\n",
    "using namespace std;\n",
    "\n",
    "double arctan(double x) {\n",
    "\tdouble sqr = x * x;\n",
    "\tdouble e = x;\n",
    "\tdouble r = 0;\n",
    "\tint i = 1;\n",
    "\twhile (e / i > 1e-15) {\n",
    "\t\tdouble f = e / i;\n",
    "\t\tr = (i % 4 == 1) ? r + f : r - f;\n",
    "\t\te = e * sqr;\n",
    "\t\ti += 2;\n",
    "\t}\n",
    "\treturn r;\n",
    "}\n",
    "\n",
    "int main()\n",
    "{\n",
    "\tdouble a = 16.0 * arctan(1 / 5.0);\n",
    "\tdouble b = 4.0 * arctan(1 / 239.0);\n",
    "\t//注意：因为整数相除结果取整，如果参数写1/5，1/239,结果就是0；\n",
    "\tcout << \"PI = \" << a - b << endl;\n",
    "\treturn 0;\n",
    "}"
   ]
  },
  {
   "cell_type": "markdown",
   "metadata": {},
   "source": [
    "## 3-3-4 例子二  找m，m<sup>2</sup>, m<sup>3</sup>均为回文的数"
   ]
  },
  {
   "cell_type": "code",
   "execution_count": null,
   "metadata": {},
   "outputs": [],
   "source": [
    "// Example03_04_huiwen.cpp\n",
    "//寻找并输出11~999之间的数m,它满足m, m^2, m^3均为回文数。\n",
    "\n",
    "#include \"pch.h\"\n",
    "#include <iostream>\n",
    "using namespace std;\n",
    "\n",
    "bool symm(unsigned n) {\n",
    "\tunsigned i = n;\n",
    "\tunsigned m = 0;\n",
    "\twhile (i > 0) {\n",
    "\t\tm = m * 10 + i % 10;\n",
    "\t\ti /= 10;\n",
    "\t}\n",
    "\treturn m == n;\n",
    "}\n",
    "\n",
    "int main()\n",
    "{\n",
    "    for(unsigned m = 11; m < 1000; m++)\n",
    "\t\tif (symm(m) && symm(m*m) && symm(m*m*m)) {\n",
    "\t\t\tcout << \"m = \" << m;\n",
    "\t\t\tcout << \"m * m =\" << m * m;\n",
    "\t\t\tcout << \" m * m * m = \" << m * m * m << endl;\n",
    "\t\t}\n",
    "\treturn 0;\n",
    "}"
   ]
  },
  {
   "cell_type": "markdown",
   "metadata": {},
   "source": [
    "## 3-3-5 例子三 分段函数求解"
   ]
  },
  {
   "cell_type": "code",
   "execution_count": null,
   "metadata": {},
   "outputs": [],
   "source": [
    "// Example03_05_fenduanhanshu.cpp\n",
    "//计算分段函数\n",
    "\n",
    "#include \"pch.h\"\n",
    "#include <iostream>\n",
    "#include <cmath> //对标准库中数学函数的说明\n",
    "using namespace std;\n",
    "\n",
    "const double TINY_VALUE = 1e-10;\n",
    "\n",
    "double tsin(double x) {\n",
    "\tdouble g = 0;\n",
    "\tdouble t = x;\n",
    "\tint n = 1;\n",
    "\tdo {\n",
    "\t\tg += t;\n",
    "\t\tn++;\n",
    "\t\tt = -t * x * x / (2 * n - 1) / (2 * n - 2);\n",
    "\t} while (fabs(t) >= TINY_VALUE);\n",
    "\treturn g;\n",
    "}\n",
    "\n",
    "int main()\n",
    "{\n",
    "\tdouble k, r, s;\n",
    "\tcout << \"r = \";\n",
    "\tcin >> r;\n",
    "\tcout << \"s = \";\n",
    "\tcin >> s;\n",
    "\tif (r * r <= s * s)\n",
    "\t\tk = sqrt(tsin(r)*tsin(r) + tsin(s)*tsin(s));\n",
    "\telse\n",
    "\t\tk = tsin(r*s) / 2;\n",
    "\tcout << k << endl;\n",
    "\treturn 0;\n",
    "}"
   ]
  },
  {
   "cell_type": "markdown",
   "metadata": {},
   "source": [
    "## 3-4-1 函数的嵌套调用"
   ]
  },
  {
   "cell_type": "code",
   "execution_count": null,
   "metadata": {},
   "outputs": [],
   "source": [
    "// Example03_07_pingfanghe.cpp\n",
    "//例3-7 输入两个整数，求平方和\n",
    "\n",
    "#include \"pch.h\"\n",
    "#include <iostream>\n",
    "using namespace std;\n",
    "\n",
    "int fun2(int m) {\n",
    "\treturn m * m;\n",
    "}\n",
    "\n",
    "int fun1(int x, int y) {\n",
    "\treturn fun2(x) + fun2(y);\n",
    "}\n",
    "\n",
    "int main()\n",
    "{\n",
    "\tint  a, b;\n",
    "\tcout << \"Please enter two integers(a and b): \";\n",
    "\tcin >> a >> b;\n",
    "\tcout << \"The sum of square of a and b:\" << fun1(a, b) << endl;\n",
    "\treturn 0;\n",
    "}"
   ]
  },
  {
   "cell_type": "markdown",
   "metadata": {},
   "source": [
    "将求平方的过程进行逐步分解，展示函数嵌套调用的过程。"
   ]
  },
  {
   "cell_type": "markdown",
   "metadata": {},
   "source": [
    "## 3-4-2 函数的递归调用大纲"
   ]
  },
  {
   "cell_type": "markdown",
   "metadata": {},
   "source": [
    "函数直接或者间接地调用自身，称为递归调用。"
   ]
  },
  {
   "cell_type": "code",
   "execution_count": null,
   "metadata": {},
   "outputs": [],
   "source": [
    "// Example03_08_jiecheng.cpp\n",
    "//计算阶乘（阶乘可以递归表示）\n",
    "\n",
    "#include \"pch.h\"\n",
    "#include <iostream>\n",
    "using namespace std;\n",
    "\n",
    "unsigned fac(unsigned n) {\n",
    "\tunsigned f;\n",
    "\tif (n == 0)\n",
    "\t\tf = 1;\n",
    "\telse\n",
    "\t\tf = fac(n - 1) * n;\n",
    "\treturn f;\n",
    "}\n",
    "\n",
    "int main()\n",
    "{\n",
    "\tunsigned n;\n",
    "\tcout << \"Enter a positive integer: \";\n",
    "\tcin >> n;\n",
    "\tunsigned y = fac(n);\n",
    "\tcout << n << \"! = \" << y << endl;\n",
    "\treturn 0;\n",
    "}"
   ]
  },
  {
   "cell_type": "markdown",
   "metadata": {},
   "source": [
    "## 3-4-3 函数递归调用例一  组合问题\n",
    "例3-9： 用递归法计算从n个人中选择k个人组成一个委员会的不同组合。\n",
    "分析：\n",
    "<ul>\n",
    "    <li>由n个人中选k个人的组合数=由n-1个人中选k个人的组合数+由n-1个人里选k-1个人的组合数；</li>\n",
    "    <li>当n=k或者k=0时，组合数为1。\n",
    "</ul>"
   ]
  },
  {
   "cell_type": "code",
   "execution_count": null,
   "metadata": {},
   "outputs": [],
   "source": [
    "// Example03_09_zuhe.cpp \n",
    "//例3-9： 用递归法计算从n个人中选择k个人组成一个委员会的不同组合。\n",
    "\n",
    "#include \"pch.h\"\n",
    "#include <iostream>\n",
    "using namespace std;\n",
    "\n",
    "int comm(int n, int k) {\n",
    "\tif (k > n)\n",
    "\t\treturn 0;\n",
    "\telse if (n == k || k == 0)\n",
    "\t\treturn 1;\n",
    "\telse\n",
    "\t\treturn comm(n - 1, k) + comm(n - 1, k - 1);\n",
    "}\n",
    "\n",
    "int main()\n",
    "{\n",
    "\tint n, k;\n",
    "\tcout << \"Please enter two integers n and k:\";\n",
    "\tcin >> n >> k;\n",
    "\tcout << \"C(n, k) = \" << comm(n, k) << endl;\n",
    "\treturn 0;\n",
    "}"
   ]
  },
  {
   "cell_type": "markdown",
   "metadata": {},
   "source": [
    "## 3-4-4 函数递归调用例二 汉诺塔问题\n",
    "例3-10 有三根针A、B、C。A针上有N个盘子，大的在下，小的在上。要求把这N个盘子从A针移到C针，在移动过程中可以借助B针，每次只允许移动一个盘子，且在移动过程中在三根针上倒要保持大盘在下，小盘在上。<br>\n",
    "<br>\n",
    "将n个盘子从A针移到C针可以分解为三个步骤<br>\n",
    "<ol>\n",
    "    <li>将A上n-1个盘子移到B针上（借助C针）；</li>\n",
    "    <li>将A针上剩下的一个盘子移到C针上；</li>\n",
    "    <li>将n-1个盘子从B针移到C针上（借助A针）</li>\n",
    "</ol>"
   ]
  },
  {
   "cell_type": "code",
   "execution_count": null,
   "metadata": {},
   "outputs": [],
   "source": [
    "// Example03_10_hannota.cpp : 此文件包含 \"main\" 函数。程序执行将在此处开始并结束。\n",
    "// 例3-10 汉诺塔\n",
    "\n",
    "#include \"pch.h\"\n",
    "#include <iostream>\n",
    "using namespace std;\n",
    "\n",
    "//把src针的最上面的一个盘子移动到dest针上\n",
    "void move(char src, char dest) {\n",
    "\tcout << src << \" --> \" << dest << endl;\n",
    "}\n",
    "\n",
    "//把n个盘子从src针移动到dest针，以medium针作为中介\n",
    "void hanoi(int n, char src, char medium, char dest) {\n",
    "\tif (n == 1)\n",
    "\t\tmove(src, dest);\n",
    "\telse {\n",
    "\t\thanoi(n - 1, src, dest, medium);\n",
    "\t\tmove(src, dest);\n",
    "\t\thanoi(n - 1, medium, src, dest);\n",
    "\t}\n",
    "}\n",
    "\n",
    "int main()\n",
    "{\n",
    "\tint m;\n",
    "\tcout << \"Enter the number of diskes: \";\n",
    "\tcin >> m;\n",
    "\tcout << \"the steps to moving \" << m << \" diskes : \" << endl;\n",
    "\thanoi(m, 'A', 'B', 'C');\n",
    "\treturn 0;\n",
    "}"
   ]
  },
  {
   "cell_type": "markdown",
   "metadata": {},
   "source": [
    "## 3-5 函数的参数传递"
   ]
  },
  {
   "cell_type": "markdown",
   "metadata": {},
   "source": [
    "函数的形参在函数定义时是不占用内存空间的，只有当函数函数调用时，才给形参分配内存空间，用函数来初始化形参。<br>\n",
    "函数的参数传递包括单项传递和双向传递？如何实现单向传递？如何实现双向传递？如何保证函数参数传递的安全性？<br>\n",
    "<ul>\n",
    "    <li>在函数被调用时才分配形参的存储单元</li>\n",
    "    <li>实参可以是常量、变量或表达式</li>\n",
    "    <li>实参类型必须与形参相符——如果类型不符，编译器将考虑将实参转换为形参类型；若转换不允许，将报错</li>\n",
    "    <li>值传递是传递参数值，即单项传递——在函数体中对参数进行修改，都只改变形参，不触及实参。</li>\n",
    "    <li>引用传递可以实现双向传递——有些参数可以将函数的调用结果（存在多个返回值，return不够用）再带回给主调用函数。<font color=\"red\">传引用比传参数的开销小，传引用时不希望是双向传递，如何保证安全性？？</font></li>\n",
    "    <li>常引用作参数可以保障实参数据的安全</li>\n",
    "</ul>\n",
    "    "
   ]
  },
  {
   "cell_type": "markdown",
   "metadata": {},
   "source": [
    "## 3-6 引用类型"
   ]
  },
  {
   "cell_type": "markdown",
   "metadata": {},
   "source": [
    "引用类型\n",
    "<ul>\n",
    "    <li>引用（&）是标识符的别名</li>\n",
    "    <li>定义一个引用时，必须同时对它进行初始化，使它指向一个已存在的对象</li>\n",
    "    <li>例如：<br>\n",
    "       int i, j;<br>\n",
    "       int &ri = i //定义int引用ri，并初始化为变量i的引用；<br>\n",
    "       j = 10;<br>\n",
    "       ri = j; //相当于i = j;<br>\n",
    "    </li>\n",
    "    <li>一旦一个引用被初始化，就不能改为指向其他对象；</li>\n",
    "    <li><font color=\"red\">引用可以作为形参</font></li>\n",
    "</ul>"
   ]
  },
  {
   "cell_type": "code",
   "execution_count": null,
   "metadata": {},
   "outputs": [],
   "source": [
    "// Example03_12_hanshuyinyong.cpp\n",
    "// 例3-12 输入两个整数交换后输出（引用传递）\n",
    "\n",
    "#include \"pch.h\"\n",
    "#include <iostream>\n",
    "using namespace std;\n",
    "\n",
    "// void swap(int a, int b) 直接用函数的值传递无法实现此功能；\n",
    "void swap(int & a, int & b) {\n",
    "\tint t = a;\n",
    "\ta = b;\n",
    "\tb = t;\n",
    "}\n",
    "\n",
    "int main()\n",
    "{\n",
    "\tint x = 5, y = 10;\n",
    "\tcout << \"x = \" << x << \"  y = \" << y << endl;\n",
    "\tswap(x, y);\n",
    "\tcout << \"x = \" << x << \"  y = \" << y << endl;\n",
    "\treturn 0;\n",
    "}"
   ]
  },
  {
   "cell_type": "markdown",
   "metadata": {},
   "source": [
    "## 3-7 含有可变参数的函数"
   ]
  },
  {
   "cell_type": "markdown",
   "metadata": {},
   "source": [
    "是不是可以定义可变长度的形参表？\n",
    "含有可变参数的函数\n",
    "<ul>\n",
    "    <li>C++标准中提供了两种主要的方法</li>\n",
    "    <li>如果所有的实参类型相同，可以传递一个名为initializer_list的标准库类型</li>\n",
    "    <li>如果实参的类型不同，我们可以编写可变参数的模板（第9章）</li>\n",
    "    <li>initializer_list</li>\n",
    "    <li>initializer_list是一种标准库类型，用于表示某种特定类型的值的数组，该类型定义在同名的头文件中</li>\n",
    "</ul>\n",
    "initializer_list的使用方法？\n",
    "initializer_listde 使用举例？（听不太懂）"
   ]
  },
  {
   "cell_type": "markdown",
   "metadata": {},
   "source": [
    "## 3-8 内联函数"
   ]
  },
  {
   "cell_type": "markdown",
   "metadata": {},
   "source": [
    "什么是内联函数？——在调用简单函数时能够提高运行效率的机制。<br>\n",
    "内联函数表面看起来像一个函数，但是又不希望调用子函数，需要编译器来使用。<br>\n",
    "内联函数声明时使用关键字inline<br>\n",
    "内联函数（inline）函数：有些函数比较简单，不值得发费调用子函数，再返回的开销。\n",
    "<ul>\n",
    "    <li>编译时，在调用处用函数体进行替换</li>\n",
    "    <li>节省了参数传递</li>\n",
    "    <li>控制转移等开销</li>\n",
    "</ul>\n",
    "注意：\n",
    "<ul>\n",
    "    <li>内联函数体内不能有循环语句和switch语句</li>\n",
    "    <li>内联函数的定义必须出现在内联函数第一次被调用之前</li>\n",
    "    <li>对内联函数不能进行异常接口声明——什么是异常接口声明（第12章）</li>\n",
    "</ul>"
   ]
  },
  {
   "cell_type": "code",
   "execution_count": null,
   "metadata": {},
   "outputs": [],
   "source": [
    "// Example03_14_jisuanyuanmianji.cpp\n",
    "// 例3-14 内联函数应用举例\n",
    "\n",
    "#include \"pch.h\"\n",
    "#include <iostream>\n",
    "using namespace std;\n",
    "\n",
    "const double PI = 3.14159265358979;\n",
    "inline double calArea(double radius) {\n",
    "\treturn PI * radius * radius;\n",
    "}\n",
    "//如果编译器认定这个函数为内联函数，它会有合适的方式把代码嵌入调用函数的内部，\n",
    "//而不像函数体调用一样调用和返回。两全其美：（1）既作为单独函数；（2）又没有开销。\n",
    "\n",
    "int main()\n",
    "{\n",
    "\tdouble r = 3.0;\n",
    "\tdouble area = calArea(r);\n",
    "\tcout << area << endl;\n",
    "\treturn 0;\n",
    "}"
   ]
  },
  {
   "cell_type": "markdown",
   "metadata": {},
   "source": [
    "## 3-9 constexpr函数"
   ]
  },
  {
   "cell_type": "markdown",
   "metadata": {},
   "source": [
    "只要给的参数是常量表达式，返回值一定是常量表达式。<br>\n",
    "constexpr函数语法规定和举例：\n",
    "<ul>\n",
    "    <li>constexpr修饰的函数，在其所有参数都是constexpr时，一定返回constexpr</li>\n",
    "    <li>constexpr int_get_size() { return 20;}}</li>\n",
    "    <li>constexpr int foo = get_size()</li>\n",
    "</ul>"
   ]
  },
  {
   "cell_type": "markdown",
   "metadata": {},
   "source": [
    "## 3-10-1 带默认参数值的函数"
   ]
  },
  {
   "cell_type": "markdown",
   "metadata": {},
   "source": [
    "例3-15 计算长方体的体积\n",
    "<ul>\n",
    "    <li>函数getVolume计算体积</li>\n",
    "    <li>有三个形参：length（长）、 width(宽）、height(高），其中width和height带有默认值2和3</li>\n",
    "    <li>主函数中以不同形式调用getVolume函数</li>\n",
    "</ul>"
   ]
  },
  {
   "cell_type": "code",
   "execution_count": null,
   "metadata": {},
   "outputs": [],
   "source": [
    "// Example03_15_jisuanchangfangtitiji.cpp \n",
    "// 例3-15 计算长方体体积\n",
    "\n",
    "#include \"pch.h\"\n",
    "#include <iostream>\n",
    "#include <iomanip>\n",
    "using namespace std;\n",
    "\n",
    "int getVolume(int length, int width = 2, int height = 3);\n",
    "\n",
    "int main(){\n",
    "\tconst int X = 10, Y = 12, Z = 15;\n",
    "\tcout << \"Some box data is \";\n",
    "\tcout << getVolume(X, Y, Z) << endl;\n",
    "\tcout << \"Some box data is \";\n",
    "\tcout << getVolume(X, Y) << endl;\n",
    "\tcout << \"Some box data is \";\n",
    "\tcout << getVolume(X) << endl;\n",
    "\treturn 0;\n",
    "}\n",
    "\n",
    "int getVolume(int length, int width, int height) {\n",
    "\tcout << setw(5) << length << setw(5) << width << setw(5) << height << \"\\t\";\n",
    "\treturn length * width * height;\n",
    "}"
   ]
  },
  {
   "cell_type": "markdown",
   "metadata": {},
   "source": [
    "## 3-10-2 带默认参数值的函数例子（即上例）"
   ]
  },
  {
   "cell_type": "markdown",
   "metadata": {},
   "source": [
    "##  3-11 函数重载"
   ]
  },
  {
   "cell_type": "markdown",
   "metadata": {},
   "source": [
    "函数重载是C++多态性的重要机制——编译阶段的多态性。<br>\n",
    "问题：不管是求整数的绝对值，还是求实数的绝对值，要给出两个函数，一个解决整数绝对值问题，一个解决实数绝对值问题，但是我们需要用同样的函数名。<br>\n",
    "函数重载：C++允许功能相近的函数在相同的作用域内以相同的函数名声明，从而形成重载。方便使用，便于记忆。<br>\n",
    "形参类型不同：\n",
    "int add(int x, int y)<br>\n",
    "int add(float x, float y)<br>\n",
    "形参个数不同：\n",
    "int add(int x, int y)<br>\n",
    "int add(int x, int y, int z)<br>\n",
    "函数重载的注意事项：<br>\n",
    "<ul>\n",
    "    <li>重载函数的形参必须不同：<font color=\"red\">个数不同或类型不同</font></li>\n",
    "    <li>编译程序将根据实参和形参的类型及个数的最佳匹配来选择调用哪个函数\n",
    "        <ul>\n",
    "            <li>编译器不以形参名来区分,如：<br>\n",
    "                int add(int x, int y);<br>\n",
    "                int add(int x, int b)<br>\n",
    "            </li>\n",
    "            <li>编译器不以返回值来区分V,如：<br>\n",
    "                int add(int x, int y);<br>\n",
    "                void add(int x, int y);<br>  \n",
    "            </li>\n",
    "        </ul>\n",
    "    </li>   \n",
    "    <li>不要将不同功能的函数声明为重载函数，避免出现调用结果的误解、混淆。</li>\n",
    "</ul>"
   ]
  },
  {
   "cell_type": "code",
   "execution_count": null,
   "metadata": {},
   "outputs": [],
   "source": [
    "// Example03_16_hanshuchongzai.cpp\n",
    "// 例3-16 函数重载\n",
    "\n",
    "#include \"pch.h\"\n",
    "#include <iostream>\n",
    "using namespace std;\n",
    "int sumOfSquare(int a, int b) {\n",
    "\treturn a * a + b * b;\n",
    "}\n",
    "double sumOfSquare(double a, double b) {\n",
    "\treturn a * a + b * b;\n",
    "}\n",
    "\n",
    "\n",
    "int main()\n",
    "{\n",
    "\tint m, n;\n",
    "\tcout << \"Enter two integer:\";\n",
    "\tcin >> m >> n;\n",
    "\tcout << \"Theirs sum of square:\" << sumOfSquare(m, n) << endl;\n",
    "\tdouble x, y;\n",
    "\tcout << \"Enter two real number:\";\n",
    "\tcin >> x >> y;\n",
    "\tcout << \"Their sum of square:\" << sumOfSquare(x, y) << endl;\n",
    "}"
   ]
  },
  {
   "cell_type": "markdown",
   "metadata": {},
   "source": [
    "## 3-12 C++系统函数"
   ]
  },
  {
   "cell_type": "markdown",
   "metadata": {},
   "source": [
    "C++ 的系统库提供了几百个函数可供程序员使用，例如：<br>\n",
    "求平方根函数（sprt）<br>\n",
    "求绝对值函数（abs） <br>\n",
    "使用系统函数时要包含相应的头文件，例如： cmath<br>\n",
    "例3-17 系统函数应用举例\n",
    "<ul>\n",
    "    <li>题目：<br>\n",
    "        从键盘输入一个角度值，求出该角度的正弦值、余弦值和正切值；</li>\n",
    "    <li>分析：<br>\n",
    "        系统函数中提供了求正弦值、余弦值和正切值的函数：sin()、cos()、tan(),函数的声明在头文件cmath中。\n",
    "    </li>\n",
    "</ul>"
   ]
  },
  {
   "cell_type": "code",
   "execution_count": null,
   "metadata": {},
   "outputs": [],
   "source": [
    "// Example03_17_xitonghanshu.cpp \n",
    "// 例3-17 系统函数，求出输入角度的正弦、余弦、正切值。\n",
    "\n",
    "#include \"pch.h\"\n",
    "#include <iostream>\n",
    "#include <cmath>\n",
    "using namespace std;\n",
    "\n",
    "const double PI = 3.14159265358979;\n",
    "\n",
    "int main()\n",
    "{\n",
    "\tdouble angle;\n",
    "\tcout << \"Please enter an angle:\";\n",
    "\tcin >> angle; //输入角度值\n",
    "\tdouble radian = angle * PI / 180; //转为弧度；\n",
    "\tcout << \"sin(\" << angle << \") = \" << sin(radian) << endl;\n",
    "\tcout << \"cos(\" << angle << \") = \" << cos(radian) << endl;\n",
    "\tcout << \"tan(\" << angle << \") = \" << tan(radian) << endl;\n",
    "\treturn 0;\n",
    "}"
   ]
  },
  {
   "cell_type": "markdown",
   "metadata": {},
   "source": [
    "## 3-13 第3章小结"
   ]
  },
  {
   "cell_type": "markdown",
   "metadata": {},
   "source": [
    "应掌握的内容：\n",
    "<ul>\n",
    "    <li>函数的定义与调用、参数传递</li>\n",
    "    <li>内联函数、带默认参数值的函数、函数重载</li>\n",
    "    <li>C++ 系统函数</li>\n",
    "</ul>"
   ]
  },
  {
   "cell_type": "markdown",
   "metadata": {},
   "source": [
    "## 3-14 实验三（上） 函数的应用"
   ]
  },
  {
   "cell_type": "markdown",
   "metadata": {},
   "source": [
    "本部分的主要实验任务是通过实验练习，来进一步理解一下内容：\n",
    "<ol>\n",
    "    <li>掌握函数的定义和调用方法。</li>\n",
    "    <li>学习debug的step into功能追踪到函数内部。</li>\n",
    "    <li>次函数——彼函数</li>\n",
    "    <li>执行过程——参数传递</li>\n",
    "    <li>Debug step into 功能，理解函数运行过程</li>\n",
    "    <li>递归算法</li>\n",
    "</ol>        "
   ]
  },
  {
   "cell_type": "code",
   "execution_count": null,
   "metadata": {},
   "outputs": [],
   "source": [
    "// ConsoleApplication03_01_CtoF.cpp\n",
    "// 例题1： 编写函数float Convert(float TempFer), 参数和返回值都为float类型。\n",
    "// 实现算法： C = （ F - 32） * 5/9。\n",
    "\n",
    "#include \"pch.h\"\n",
    "#include <iostream>\n",
    "using namespace std;\n",
    "\n",
    "float Convert(float F) {\n",
    "\tfloat C;\n",
    "\tC = (F - 32) * 5 / 9;\n",
    "\treturn C;\n",
    "}\n",
    "\n",
    "int main(){\n",
    "\tfloat F;\n",
    "\tcout << \"please input the temperature in fahrenheit: \\n\";\n",
    "\tcin >> F;\n",
    "\tcout << \"Convert the temperature in celsius: \\n\";\n",
    "\tcout << Convert(F);\n",
    "\treturn 0;\n",
    "}\n",
    "//复习了函数的应用和定义；\n",
    "//学习用Step into(F11)和run to cursor(Ctrl + F10)\n",
    "//来跟踪函数的调用过程、查看参数、以及调用栈。"
   ]
  },
  {
   "cell_type": "markdown",
   "metadata": {},
   "source": [
    "<b>例题2</b><br>\n",
    "编写递归函数 int fib（int n）, 在主程序中输入n的值，调用fib函数计算Fibonacci级数。<br>\n",
    "公式为:<br>\n",
    "fib(n) = fib(n - 1) + fib (n - 2）, n > 2;<br>\n",
    "fib(1) = fib(2) = 1。<br>"
   ]
  },
  {
   "cell_type": "code",
   "execution_count": null,
   "metadata": {},
   "outputs": [],
   "source": [
    "// ConsoleApplication03_02_Fibonacci.cpp \n",
    "// 例题2 计算斐波那契级数\n",
    "\n",
    "#include \"pch.h\"\n",
    "#include <iostream>\n",
    "using namespace std;\n",
    "\n",
    "int fib(int n); \n",
    "//函数的调用在函数的定义之前，需要进行函数原型的声明。\n",
    "\n",
    "int main()\n",
    "{\n",
    "\tint n, answer;\n",
    "\tcout << \"Enter number: \";\n",
    "\tcin >> n;\n",
    "\tcout << \"\\n\\n\";\n",
    "\tanswer = fib(n);\n",
    "\tcout << answer << \" is the \" << n << \"th Fibonacci number\\n\";\n",
    "\treturn 0;\n",
    "}\n",
    "\n",
    "int fib(int n) {\n",
    "\tcout << \"Processing fib(\" << n << \")...\";\n",
    "\tif (n < 3) {\n",
    "\t\tcout << \"Return 1 !\\n\";\n",
    "\t\treturn (1);\n",
    "\t}\n",
    "\telse {\n",
    "\t\tcout << \"Call fib(\" << n - 2 << \") and fib(\" << n - 1 << \").\\n\";\n",
    "\t\treturn(fib(n - 1) + fib(n - 1)); //递归调用\n",
    "\t}\n",
    "}\n",
    "//拓展联系：当n值比较大时，进行追踪。"
   ]
  },
  {
   "cell_type": "markdown",
   "metadata": {},
   "source": [
    "## 3-15 实验三（下）函数的应用"
   ]
  },
  {
   "cell_type": "markdown",
   "metadata": {},
   "source": [
    "主要内容：\n",
    "<ul>\n",
    "    <li>重载函数</li>\n",
    "    <li>系统函数</li>\n",
    "    <li>使用step into追踪到函数内部</li>\n",
    "    <li>run to cursor 运行到光标处</li>\n",
    "</ul>"
   ]
  },
  {
   "cell_type": "markdown",
   "metadata": {},
   "source": [
    "<b>例题1</b>\n",
    "分别编写四个同名函数max1,实现函数重载：<br>\n",
    "可分别求取两个整数，三个整数，两个双精度数，三个双精度数的最大值。<br>\n",
    "在main（）函数中测试函数功能。<br>"
   ]
  },
  {
   "cell_type": "code",
   "execution_count": null,
   "metadata": {},
   "outputs": [],
   "source": [
    "// ConsoleApplication03_03_hanshuchongzaiMax.cpp \n",
    "// 实验1; 函数重载\n",
    "\n",
    "#include \"pch.h\"\n",
    "#include <iostream>\n",
    "#include <cmath>\n",
    "using namespace std;\n",
    "\n",
    "int max1(int x, int y); //两个整数的最大值\n",
    "int max1(int x, int y, int z); //三个整数的最大值\n",
    "double max1(double x, double y); //两个双精度数的最大值\n",
    "double max1(double x, double y, double z); //三个双精度数的最大值\n",
    "\n",
    "int main()\n",
    "{\n",
    "\tint a, b, c;\n",
    "\tdouble m, l, n;\n",
    "\tcout << \"Enter int a: \";\n",
    "\tcin >> a;\n",
    "\tcout << \"Enter int b: \";\n",
    "\tcin >> b;\n",
    "\tcout << \"Enter int c: \";\n",
    "\tcin >> c;\n",
    "\tcout << \"\\n\";\n",
    "\tcout << \"max of \" << a << \" and \" << b << \" is \" << max1(a, b) << endl;\n",
    "\tcout << \"max of \" << a << \", \" << b << \" and \" << c << \" is \" << max1(a, b, c) << endl;\n",
    "\tcout << \"\\n\\n\";\n",
    "\tcout << \"Enter double m: \";\n",
    "\tcin >> m;\n",
    "\tcout << \"Enter double l: \";\n",
    "\tcin >> l;\n",
    "\tcout << \"Enter double n: \";\n",
    "\tcin >> n;\n",
    "\tcout << \"\\n\";\n",
    "\tcout << \"max of \" << m << \" and \" << n << \" is \" << max1(m, n) << endl;\n",
    "\tcout << \"max of \" << m << \", \" << l << \" and \" << n << \" is \" << max1(m, l, n) << endl;\n",
    "\n",
    "}\n",
    "\n",
    "int max1(int x, int y) { //两个整数的最大值\n",
    "\tif (x == y) return x;\n",
    "\telse if (x >= y)\n",
    "\t\treturn x;\n",
    "\telse\n",
    "\t\treturn y;\n",
    "}\n",
    "//同一个函数，有时作为\n",
    "int max1(int x, int y, int z) { //三个整数的最大值\n",
    "\treturn max1(max1(x, y), z);\n",
    "}\n",
    "\n",
    "double max1(double x, double y) { //两个整数的最大值\n",
    "\tif (abs(x-y) < 1e-10) return x; //判断两个浮点数是否相等的常见处理方式\n",
    "\telse if (x >= y)\n",
    "\t\treturn x;\n",
    "\telse\n",
    "\t\treturn y;\n",
    "}\n",
    "\n",
    "double max1(double x, double y, double z) { //三个整数的最大值\n",
    "\treturn max1(max1(x, y), z);\n",
    "}"
   ]
  },
  {
   "cell_type": "markdown",
   "metadata": {},
   "source": [
    "<b>例题2</b><br>\n",
    "在main()函数中提示输入两个整数x, y, 使用cin语句得到x, y的值，<br>\n",
    "调用pow(x, y)函数计算x的y次幂的结果，再显示出来。<br>\n",
    "注意：包含cmath库。<br>"
   ]
  },
  {
   "cell_type": "code",
   "execution_count": null,
   "metadata": {},
   "outputs": [],
   "source": [
    "// ConsoleApplication03_03_pow(x_y).cpp \n",
    "// 调用pow(x, y)函数计算x的y次幂的结果，再显示出来。\n",
    "\n",
    "#include \"pch.h\"\n",
    "#include <iostream>\n",
    "#include <cmath>\n",
    "using namespace std;\n",
    "\n",
    "int main()\n",
    "{\n",
    "\tint x, y;\n",
    "\tcout << \"Enter int x: \";\n",
    "\tcin >> x;\n",
    "\tcout << \"Enter int y: \";\n",
    "\tcin >> y;\n",
    "\tcout << \"\\n\";\n",
    "\tcout << \"x = \" << x << \"\\t\";\n",
    "\tcout << \"y = \" << y << \"\\n\";\n",
    "\tcout << \"pow(x, y)= \" << pow(x, y);\n",
    "\treturn 0;\n",
    "}\n",
    "//使用系统函数的时候，需要#include所属的函数库\n",
    "//拓展练习：使用三角函数"
   ]
  }
 ],
 "metadata": {
  "kernelspec": {
   "display_name": "Python 3",
   "language": "python",
   "name": "python3"
  },
  "language_info": {
   "codemirror_mode": {
    "name": "ipython",
    "version": 3
   },
   "file_extension": ".py",
   "mimetype": "text/x-python",
   "name": "python",
   "nbconvert_exporter": "python",
   "pygments_lexer": "ipython3",
   "version": "3.6.2"
  }
 },
 "nbformat": 4,
 "nbformat_minor": 2
}
