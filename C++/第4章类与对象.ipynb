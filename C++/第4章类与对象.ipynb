{
 "cells": [
  {
   "cell_type": "markdown",
   "metadata": {},
   "source": [
    "#  <center>第4章 类与对象</center>"
   ]
  },
  {
   "cell_type": "markdown",
   "metadata": {},
   "source": [
    "## 4-1 类与对象导学"
   ]
  },
  {
   "cell_type": "markdown",
   "metadata": {},
   "source": [
    "对象：现实中对象的模拟，具有属性和行为。<br>\n",
    "类：同一类对象的共同属性和行为。——类将数据和处理数据的函数封装在一起，隐藏细节，提供对外接口。<br>\n",
    "定义对象时，通过构造函数初始化；<br>\n",
    "删除对象时，通过析构函数释放资源。<br>\n",
    "类的组合：定义类时，还可以用已经有的类的对象，作为新类的成员，形成类的组合。<br>\n",
    "结构体<br>\n",
    "联合体<br>\n",
    "枚举类<br>\n",
    "学习建议：<br>\n",
    "多多动手编程；<br>"
   ]
  },
  {
   "cell_type": "markdown",
   "metadata": {},
   "source": [
    "## 4-2 面向对象程序的基本特点"
   ]
  },
  {
   "cell_type": "markdown",
   "metadata": {},
   "source": [
    "<b>抽象：对同一类对象的共同属性和行为进行概括，形成类。</b>\n",
    "<ul>\n",
    "    <li>首先注意问题的本质及描述，其次是实现过程或细节。</li>\n",
    "    <li>数据抽象：描述某类对象的属性或状态（对象互相区别的物理量）。</li>\n",
    "    <li>代码抽象：描述某类对象的共有的行为特征或具有的功能。</li>\n",
    "    <li>抽象的实现：类。</li>\n",
    "    <li>抽象实例——钟表\n",
    "        <ul>\n",
    "            <li>数据抽象：int hour, int minute, int second</li>\n",
    "            <li>代码抽象：setTime(), showTime()</li>\n",
    "        </ul>\n",
    "    </li>       \n",
    "</ul>\n",
    "<b>封装:将抽象出的数据、代码封装在一起，形成类。</b>\n",
    "<ul>\n",
    "    <li>将抽象出的数据成员、代码成员相结合，将它们视为一个整体。\n",
    "        <ul>\n",
    "            <li>目的：增强安全性和简化编程，使用者不必了解具体的实现细节，而只需要通过外部接口，以特定的访问权限，来使用类的成员。</li>\n",
    "            <li>实现封装: 类声明中的{}</li>\n",
    "        </ul>\n",
    "    </li>       \n",
    "</ul>\n",
    "<b>继承</b>\n",
    "<ul>\n",
    "    <li>在已有类的基础上，进行扩展形成新的类。</li>\n",
    "    <li>详见第7章</li>\n",
    "</ul>\n",
    "<b>多态</b>\n",
    "<ul>\n",
    "    <li>多态：同一名称、不同的功能实现方式。</li>\n",
    "    <li>目的：达到行为标识统一、减少程序中标识符的个数。</li>\n",
    "    <li>详见第8章</li>\n",
    "</ul>"
   ]
  },
  {
   "cell_type": "markdown",
   "metadata": {},
   "source": [
    "## 4-3-1 类和对象的定义"
   ]
  },
  {
   "cell_type": "markdown",
   "metadata": {},
   "source": [
    "对象是现实中的对象在程序中的模拟。<br>\n",
    "类是同一类对象的抽象，对象是类的实例。<br>\n",
    "定义类的对象，才可以通过对象使用类中定义的功能。<br>\n",
    "<b>定义类就是设计类型</b>\n",
    "<ul>\n",
    "    <li>此类型的“合法值”是什么？</li>\n",
    "    <li>此类型应该有什么样的函数和操作符？</li>\n",
    "    <li>新类型的对象该如何被创建和销毁？</li>\n",
    "    <li>如何进行对象的初始化和赋值？</li>\n",
    "    <li>对象作为函数的参数如何以值传递？</li>\n",
    "    <li>谁将使用此类型的对象成员？</li>\n",
    "</ul>"
   ]
  },
  {
   "cell_type": "code",
   "execution_count": null,
   "metadata": {},
   "outputs": [],
   "source": [
    "//定义类的语法形式\n",
    "class 类型名\n",
    "{\n",
    "    public：\n",
    "        公有成员（外部接口）\n",
    "    private：\n",
    "        私有成员\n",
    "    protected：\n",
    "        保护型成员\n",
    "};"
   ]
  },
  {
   "cell_type": "markdown",
   "metadata": {},
   "source": [
    "<ul>\n",
    "    <li>为数据成员设置类内初始值</li>\n",
    "    <li>用于初始化数据成员</li>\n",
    "</ul>\n",
    "<b>公用类型成员</b>\n",
    "<ul>\n",
    "    <li>在关键字public后面声明，它们是类与外部的接口，任何外部函数都可以访问公有数据类型和函数。</li>\n",
    "</ul>\n",
    "<b>私有类型成员</b>\n",
    "<ul>\n",
    "    <li>在关键字private后面声明，只允许本类中的函数访问，而类外部的任何函数都不能访问。——特例：友元</li>\n",
    "    <li>如果紧跟在类名称的后面声明私有成员，则关键字private可以省略。</li>\n",
    "</ul>\n",
    "<b>保护类型成员</b>\n",
    "<ul>\n",
    "    <li>与private类似，其差别表现在继承和派生时对派生类的影响不同，详见第七章。</li>\n",
    "</ul>\n",
    "<br>\n",
    "<b><font color=\"red\">如何定义类的对象?</font></b>\n",
    "<ul>\n",
    "    <li>对象定义的语法<br>\n",
    "        类名 对象名；\n",
    "    </li>\n",
    "    <li>例：<br>\n",
    "        Clock myClock;\n",
    "    </li>\n",
    "</ul>\n",
    "类中可能有多个数据成员，那么这些数据成员能否互相访问呢？——可以的（类中成员之间直接使用成员名互相访问）。<br>   \n",
    "从类外访问成员使用“对象名.成员名”方式访问public成员。<br>\n",
    "<br>\n",
    "<b>类的成员函数</b>\n",
    "<ul>\n",
    "    <li>在类中声明函数原型；</li>\n",
    "    <li>可以在类外给出函数体实现，并在函数名前使用类名加以限定；</li>\n",
    "    <li>也可以直接在类中给出函数体，形成内联成员函数；</li>\n",
    "    <li>允许声明重载函数和带默认参数值的函数。</li>\n",
    "</ul>\n",
    "<b>内联成员函数</b>\n",
    "<ul>\n",
    "    <li>为了提高运行时的效率，对于较简单的函数可以声明为内联形式。</li>\n",
    "    <li>内联函数体中不要有复杂结构(如循环语句和switch语句）。</li>\n",
    "    <li>在类中声明内联成员函数的方式\n",
    "        <ul>\n",
    "            <li>将函数体放在类的声明中</li>\n",
    "            <li>使用inline关键字</li>\n",
    "        </ul>\n",
    "    </li>\n",
    "</ul>"
   ]
  },
  {
   "cell_type": "markdown",
   "metadata": {},
   "source": [
    "## 4-3-2 类和对象程序举例"
   ]
  },
  {
   "cell_type": "code",
   "execution_count": null,
   "metadata": {},
   "outputs": [],
   "source": [
    "// Example04_01_clock.cpp \n",
    "// 例4-1 钟表类\n",
    "\n",
    "#include \"pch.h\"\n",
    "#include <iostream>\n",
    "using namespace std;\n",
    "\n",
    "class Clock {\n",
    "public:\n",
    "\tvoid setTime(int newH = 0, int newM = 0, int newS = 0);\n",
    "\tvoid showTime();\n",
    "private:\n",
    "\tint hour, minute, second;\n",
    "};\n",
    "\n",
    "//成员函数的实现\n",
    "void Clock::setTime(int newH, int newM, int newS) {\n",
    "\thour = newH;\n",
    "\tminute = newM;\n",
    "\tsecond = newS;\n",
    "}\n",
    "void Clock::showTime() {\n",
    "\tcout << hour << \":\" << minute << \":\" << second;\n",
    "}\n",
    "\n",
    "int main()\n",
    "{\n",
    "\tClock myClock;\n",
    "\tmyClock.setTime(8, 30, 30);\n",
    "\tmyClock.showTime();\n",
    "\treturn 0;\n",
    "}"
   ]
  },
  {
   "cell_type": "markdown",
   "metadata": {},
   "source": [
    "## 4-4-1 构造函数基本概念"
   ]
  },
  {
   "cell_type": "markdown",
   "metadata": {},
   "source": [
    "当我们定义对象时，怎样对对象进行初始化？<br>\n",
    "没有那么简单——对于我们自定义的类，编译器不知道如何进行初始化，为此C++提供了构造函数。\n",
    "<b>构造函数</b>\n",
    "<ul>\n",
    "    <li>类中的特殊函数</li>\n",
    "    <li>用于描述初始化算法</li>\n",
    "</ul>\n",
    "<b>构造函数</b>\n",
    "<ul>\n",
    "    <li>在对象被创建时使用特定的值构造对象，将对象初始化为一个特定的初始状态。</li>\n",
    "    <li>例如：\n",
    "        <ul>\n",
    "            <li>希望在构造一个Clock类对象时，将初始时间设为0:0:0, 就可以通过构造函数来设置。</li>\n",
    "        </ul>\n",
    "    </li>\n",
    "</ul>\n",
    "<b>构造函数的形式</b>\n",
    "<ul>\n",
    "    <li>函数名与类名相同</li>\n",
    "    <li>不能定义返回值类型，也不能有return语句</li>\n",
    "    <li>可以有形式参数，也可以没有形式参数</li>\n",
    "    <li>可以是内联函数</li>\n",
    "    <li>可以重载</li>\n",
    "    <li>可以带默认参数值</li>\n",
    "</ul>\n",
    "<b><font color=\"red\">构造函数在什么时候调用？我们需不需要写代码在程序中显式的调用构造函数呢？</font></b><br>\n",
    "<b>构造函数的调用时机</b>\n",
    "<ul>\n",
    "    <li>在对象创建时被自动调用</li>\n",
    "    <li>例如： Clock myClock(0, 0, 0)</li>\n",
    "    <font color=\"red\">如果我们在进行对象初始化时，类中没有写构造函数，那么我们像这样写了，编译器就会报错——找不到这种形式的构造函数。</font>\n",
    "</ul>\n",
    "<b>默认构造函数</b>\n",
    "<ul>\n",
    "    <li>调用时可以不需要实参的构造函数\n",
    "        <ul>\n",
    "            <li>参数表为空的构造函数</li>\n",
    "            <li>全部参数都有默认值的构造函数</li>\n",
    "        </ul>\n",
    "    </li>\n",
    "    <li>\n",
    "        下面两个都是默认构造函数，如果再类中同时出现，将产生编译错误:<br>\n",
    "        Clock();<br>\n",
    "        Clock(int newH = 0, int newM = 0, int newS = 0);\n",
    "    </li>\n",
    "</ul>\n",
    "构造新对象时调用构造函数是必须的，不可能构造一个新对象但不调用任何构造函数。<br>\n",
    "为什么写简单程序时，可以在类体里不声明构造函数呢？——如果定义一个类时，不声明构造函数，那么编译器在为我们编译时，就会自动生成一个构造函数。<br>\n",
    "<b>隐含生成的构造函数</b>\n",
    "<ul>\n",
    "    <li>如果程序中未定义构造函数，编译器将自动生成一个默认的构造函数\n",
    "        <ul>\n",
    "            <li>参数列表为空，不为数据成员设置初始值；</li>\n",
    "            <li>如果类内定义了成员的初始值，则使用类内定义的初始值；</li>\n",
    "            <li>如果没有定义类内的初始值，则以默认方式初始化；——什么是默认初始化？</li>\n",
    "            <li>基本类型的数据默认初始化的值是不确定的。</li>\n",
    "        </ul>\n",
    "    </li>\n",
    "</ul>\n",
    "<b><font color=\"red\">\"=default\"</font></b><br>\n",
    "<ul>\n",
    "    <li>如果程序中已经定义了构造函数，默认情况下编译器就不会再隐含生成默认构造函数。如果此时已然希望编译器隐含生成默认构造函数，可以使用\"=default\"。</li>\n",
    "    <li>例：</li>\n",
    "</ul>"
   ]
  },
  {
   "cell_type": "code",
   "execution_count": null,
   "metadata": {},
   "outputs": [],
   "source": [
    "class Clock{\n",
    "public:\n",
    "    Clock() = default; //指示编译器提供默认构造函数\n",
    "    Clock(int newH, int newM, int newS); //构造函数\n",
    "private:\n",
    "    int hour, minute, second;\n",
    "}"
   ]
  },
  {
   "cell_type": "markdown",
   "metadata": {},
   "source": [
    "## 4-4-2 构造函数例题（1） "
   ]
  },
  {
   "cell_type": "code",
   "execution_count": null,
   "metadata": {},
   "outputs": [],
   "source": [
    "// Example04_01_clock.cpp \n",
    "// 例4-1 钟表类 修改版1\n",
    "\n",
    "#include \"pch.h\"\n",
    "#include <iostream>\n",
    "using namespace std;\n",
    "\n",
    "class Clock {\n",
    "public:\n",
    "\tClock(int newH, int newM, int newS); //构造函数\n",
    "\tvoid setTime(int newH = 0, int newM = 0, int newS = 0);\n",
    "\tvoid showTime();\n",
    "private:\n",
    "\tint hour, minute, second;\n",
    "};\n",
    "\n",
    "//成员函数的实现\n",
    "void Clock::setTime(int newH, int newM, int newS) {\n",
    "\thour = newH;\n",
    "\tminute = newM;\n",
    "\tsecond = newS;\n",
    "}\n",
    "void Clock::showTime() {\n",
    "\tcout << hour << \":\" << minute << \":\" << second;\n",
    "}\n",
    "//构造函数的实现：\n",
    "Clock::Clock(int newH, int newM, int newS):\n",
    "\thour(newH), minute(newH), second(newS) {\n",
    "} \n",
    "//简单赋值，初始化列表：hour(newH), minute(newH), second(newS)\n",
    "//构造函数体中没有返回值\n",
    "\n",
    "int main()\n",
    "{\n",
    "\tClock c(0, 0, 0);\n",
    "\tc.showTime();\n",
    "\treturn 0;\n",
    "}"
   ]
  },
  {
   "cell_type": "markdown",
   "metadata": {},
   "source": [
    "## 4-4-2 构造函数例题（2）"
   ]
  },
  {
   "cell_type": "code",
   "execution_count": null,
   "metadata": {},
   "outputs": [],
   "source": [
    "// Example04_01_clock.cpp \n",
    "// 例4-1 钟表类 修改版2\n",
    "\n",
    "#include \"pch.h\"\n",
    "#include <iostream>\n",
    "using namespace std;\n",
    "\n",
    "class Clock {\n",
    "public:\n",
    "\tClock(int newH, int newM, int newS); //构造函数\n",
    "\tClock(); //默认构造函数\n",
    "\tvoid setTime(int newH = 0, int newM = 0, int newS = 0);\n",
    "\tvoid showTime();\n",
    "private:\n",
    "\tint hour, minute, second;\n",
    "};\n",
    "\n",
    "Clock::Clock(): hour(0), minute(0), second(0){} //默认构造函数\n",
    "\n",
    "//成员函数的实现\n",
    "void Clock::setTime(int newH, int newM, int newS) {\n",
    "\thour = newH;\n",
    "\tminute = newM;\n",
    "\tsecond = newS;\n",
    "}\n",
    "void Clock::showTime() {\n",
    "\tcout << hour << \":\" << minute << \":\" << second;\n",
    "}\n",
    "//构造函数的实现：\n",
    "Clock::Clock(int newH, int newM, int newS):\n",
    "\thour(newH), minute(newH), second(newS) {\n",
    "} \n",
    "//简单赋值，初始化列表：hour(newH), minute(newH), second(newS)\n",
    "//构造函数体中没有返回值\n",
    "\n",
    "int main()\n",
    "{\n",
    "\tClock c1(8, 10, 0); //调用有参数的构造函数；\n",
    "\tClock c2;   //调用无参数的构造函数；\n",
    "\tc1.showTime();\n",
    "\tc2.showTime();\n",
    "\treturn 0;\n",
    "}"
   ]
  },
  {
   "cell_type": "markdown",
   "metadata": {},
   "source": [
    "## 4-4-4 委托构造函数"
   ]
  },
  {
   "cell_type": "markdown",
   "metadata": {},
   "source": [
    "当我们在一个类中重载多个构造函数时，往往发现这些构造函数只是形参表不同，初始化类表不同，而其他都是一样的（算法和函数体都是一样的）。<br>\n",
    "C++新标准提供了委托构造函数。<br>\n",
    "<b>回顾</b><br>\n",
    "Clock类的两个构造函数：<br>\n",
    "Clock（int newH, int newM, int newS):<br>\n",
    "hour(newH), minute(newH), second(newS) { //构造函数<br>\n",
    "}<br>\n",
    "Clock::Clock(): hour(0), minute(0), second(0){} //默认构造函数<br>\n",
    "<br>\n",
    "<b>委托构造函数</b><br>\n",
    "委托构造函数使用类的其他构造函数执行初始化过程<br>\n",
    "例如：<br>\n",
    "CLock(int newH, int newM, int newS):<br>\n",
    "hour(newH, minute(newM), second(newS){<br>\n",
    "}<br>\n",
    "Clock().Clock(0, 0, 0){}<br>"
   ]
  },
  {
   "cell_type": "markdown",
   "metadata": {},
   "source": [
    "## 4-4-5 复制构造函数"
   ]
  },
  {
   "cell_type": "markdown",
   "metadata": {},
   "source": [
    "定义对象时，用已经存在的对象去初始化对象。怎么办？<br>\n",
    "如果在定义类时，没有定义复制构造函数，编译器也会为我们生成默认复制构造函数。<br>\n",
    "默认复制构造函数的函数：实现两个对象的数据成员之间的一一对应复制。<br>\n",
    "<br>\n",
    "<b>复制构造函数定义</b><br>\n",
    "复制构造函数是一种特殊的构造函数，其形参为本类的对象引用。作用是用一个已经存在的对象去初始化同类型的新对象。"
   ]
  },
  {
   "cell_type": "code",
   "execution_count": null,
   "metadata": {},
   "outputs": [],
   "source": [
    "class 类名{\n",
    "public:\n",
    "    类名（形参）; //构造函数\n",
    "    类名（const 类名 &对象名）//复制构造函数；\n",
    "    //const指定为常量引用，避免改变实参值\n",
    "    //...\n",
    "};\n",
    "类名::类（const 类名 &对象名） //复制构造函数的实现\n",
    "{ 函数体 }"
   ]
  },
  {
   "cell_type": "markdown",
   "metadata": {},
   "source": [
    "<b>复制构造函数被调用的三种情况</b>\n",
    "<ul>\n",
    "    <li>定义一个对象时，以本类另一个对象作为初始值，发生复制构造；</li>\n",
    "    <li>如果函数的形参是类的对象，调用函数时，将使用实参对象初始化形参对象，发生复制构造；</li>\n",
    "    <li>如果函数的返回值是类的对象，函数执行完成返回主调函数时，将使用return语句中的对象初始化一个临时无名对象，传递给主调函数，此时发生复制构造。<br>\n",
    "        这种情况也可以通过移动构造避免不必要的复制（第6章介绍）.\n",
    "    </li>\n",
    "</ul>\n",
    "<br>\n",
    "<b>隐含的复制构造函数</b>\n",
    "<ul>\n",
    "    <li>如果程序员没有为类声明拷贝初始化构造函数，则编译器自己生成一个隐含的复制构造函数。</li>\n",
    "    <li>这个构造函数执行的功能是：用初始化对象的每个数据成员，初始化将要建立的对象的对应数据成员。</li>\n",
    "</ul>\n",
    "<br>\n",
    "<b>\"=delete\"</b><br>\n",
    "如果不希望对象被复制构造<br>\n",
    "<ul>\n",
    "    <li>C++ 98做法：将复制构造函数声明为private, 并且不提供函数的实现。</li>\n",
    "    <li>C++ 11做法：用\"=delete\" 指示编译器不生成默认复制构造函数。</li>\n",
    "</ul>\n",
    "例："
   ]
  },
  {
   "cell_type": "code",
   "execution_count": null,
   "metadata": {},
   "outputs": [],
   "source": [
    "Class Point{ //Point 类的定义\n",
    "public:\n",
    "    Point(int xx = 0, int yy = 0){x = xx, y = yy;} //构造函数，内联\n",
    "    point(const Point& p) = delete; //指示编译器不生成默认复制构造函数\n",
    "private:\n",
    "    int x, y; //私有数据\n",
    "}"
   ]
  },
  {
   "cell_type": "markdown",
   "metadata": {},
   "source": [
    "## 4-4-6 复制构造函数调用举例"
   ]
  }
 ],
 "metadata": {
  "kernelspec": {
   "display_name": "Python 3",
   "language": "python",
   "name": "python3"
  },
  "language_info": {
   "codemirror_mode": {
    "name": "ipython",
    "version": 3
   },
   "file_extension": ".py",
   "mimetype": "text/x-python",
   "name": "python",
   "nbconvert_exporter": "python",
   "pygments_lexer": "ipython3",
   "version": "3.6.2"
  }
 },
 "nbformat": 4,
 "nbformat_minor": 2
}
