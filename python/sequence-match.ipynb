{
 "cells": [
  {
   "cell_type": "markdown",
   "metadata": {},
   "source": [
    "# 1.How to run the repository in Linux？"
   ]
  },
  {
   "cell_type": "markdown",
   "metadata": {},
   "source": [
    "linux: Ubuntu 5.4.0-6ubuntu1~16.04.9 （cat /proc/version）<br>\n",
    "python: Python 2.7.15 |Anaconda, Inc.| (default, May  1 2018, 23:32:55) <br>\n",
    "conda：conda 4.5.9"
   ]
  },
  {
   "cell_type": "code",
   "execution_count": null,
   "metadata": {},
   "outputs": [],
   "source": [
    "git clone https://github.com/luispedro/diskhash.git"
   ]
  },
  {
   "cell_type": "code",
   "execution_count": null,
   "metadata": {},
   "outputs": [],
   "source": [
    "git clone https://github.com/luispedro/fasta_reader.git"
   ]
  },
  {
   "cell_type": "code",
   "execution_count": null,
   "metadata": {},
   "outputs": [],
   "source": [
    "git clone https://github.com/BigDataBiology/kmer.find.git"
   ]
  },
  {
   "cell_type": "markdown",
   "metadata": {},
   "source": [
    "## 1.1kmer.find install"
   ]
  },
  {
   "cell_type": "code",
   "execution_count": null,
   "metadata": {},
   "outputs": [],
   "source": [
    "cd kmer.find"
   ]
  },
  {
   "cell_type": "code",
   "execution_count": null,
   "metadata": {},
   "outputs": [],
   "source": [
    "conda env create -f environmnent.yml "
   ]
  },
  {
   "cell_type": "code",
   "execution_count": null,
   "metadata": {},
   "outputs": [],
   "source": [
    "source activate ngless"
   ]
  },
  {
   "cell_type": "code",
   "execution_count": null,
   "metadata": {},
   "outputs": [],
   "source": [
    "make"
   ]
  },
  {
   "cell_type": "code",
   "execution_count": null,
   "metadata": {},
   "outputs": [],
   "source": [
    " ./build.kmer-ix.sh test.faa"
   ]
  },
  {
   "cell_type": "markdown",
   "metadata": {},
   "source": [
    "pkg_resources.DistributionNotFound: The 'diskhash' distribution was not found and is required by fasta-reader.<br>\n",
    "Then I tried to install the the two python packages."
   ]
  },
  {
   "cell_type": "code",
   "execution_count": null,
   "metadata": {},
   "outputs": [],
   "source": [
    "#build.kmer-ix.sh\n",
    "#!/usr/bin/env bash\n",
    "\n",
    "set -e   #This tells bash that it should exit the script if any statement returns a non-true return value. \n",
    "export PATH=$PWD/bin/:$PATH\n",
    "\n",
    "input_faa=\"$1\"  \n",
    "\n",
    "if ! test -f ${input_faa}.dhi; then     #File exists and is a regular file\n",
    "\techo \"FASTA file not indexed. Indexing...\"\n",
    "\tindex_fasta ${input_faa} \n",
    "    #file: fasta_reader/index_fasta.py,\n",
    "    #tb.insert(header, position_start, (seq_len << 1) + multiline)\n",
    "    #import argparse    #https://docs.python.org/3/library/argparse.html\n",
    "    #from diskhash import StructHash\n",
    "    #StructHash: /root/miniconda3/envs/ngless/lib/python3.6/site-packages/diskhash-0.4.0-py3.6-linux-x86_64.egg/diskhash\n",
    "fi\n",
    "\n",
    "mkdir kmer.index       #The term k-mer typically refers to all the possible substrings of length k that are contained in a string.\n",
    "echo \"starting...\"\n",
    "EncodeKmers -i ${input_faa} -o kmer.index/${input_faa}.kmer.ix -t8  # what???\n",
    "echo \"Encoding kmers done\"\n",
    "\n",
    "\n",
    "python extract-names32.py ${input_faa} kmer.index/${input_faa}.names.32\n",
    "cd kmer.index\n",
    "du -sh *\n",
    "\n",
    "for k in *.kmer.ix.*; do\n",
    "    sort32pairs $k ${k}.sorted\n",
    "    rm ${k}\n",
    "    echo \"Sorted ${k}\"\n",
    "done\n",
    "\n",
    "cat ${input_faa}.kmer.ix.0.sorted \\\n",
    "    ${input_faa}.kmer.ix.1.sorted \\\n",
    "    ${input_faa}.kmer.ix.2.sorted \\\n",
    "    ${input_faa}.kmer.ix.3.sorted \\\n",
    "    ${input_faa}.kmer.ix.4.sorted \\\n",
    "    ${input_faa}.kmer.ix.5.sorted \\\n",
    "    ${input_faa}.kmer.ix.6.sorted \\\n",
    "    ${input_faa}.kmer.ix.7.sorted \\\n",
    "    ${input_faa}.kmer.ix.8.sorted \\\n",
    "    ${input_faa}.kmer.ix.9.sorted \\\n",
    "    ${input_faa}.kmer.ix.10.sorted \\\n",
    "    ${input_faa}.kmer.ix.11.sorted \\\n",
    "    ${input_faa}.kmer.ix.12.sorted \\\n",
    "    ${input_faa}.kmer.ix.13.sorted \\\n",
    "    ${input_faa}.kmer.ix.14.sorted \\\n",
    "    ${input_faa}.kmer.ix.15.sorted \\\n",
    "        > ${input_faa}.kmer.ix.sorted\n",
    "\n",
    "BuildIndex2 -i ${input_faa}.kmer.ix.sorted -o ${input_faa}.kmer.ix1 -p ${input_faa}.kmer.ix2 -v -t8"
   ]
  },
  {
   "cell_type": "markdown",
   "metadata": {},
   "source": [
    "## 1.2 diskhash and fasta_reader install"
   ]
  },
  {
   "cell_type": "code",
   "execution_count": null,
   "metadata": {},
   "outputs": [],
   "source": [
    "cd ../diskhash"
   ]
  },
  {
   "cell_type": "code",
   "execution_count": null,
   "metadata": {},
   "outputs": [],
   "source": [
    "python setup.py build"
   ]
  },
  {
   "cell_type": "code",
   "execution_count": null,
   "metadata": {},
   "outputs": [],
   "source": [
    "python setup.py install"
   ]
  },
  {
   "cell_type": "markdown",
   "metadata": {},
   "source": [
    "Installing library in\n",
    "/mnt/data2/jialonghao/sequence-match/diskhash/.stack-work/install/x86_64-linux/lts-8.15/8.0.2/lib/x86_64-linux-ghc-8.0.2/diskhash-0.0.4.0-BMEnkiPN1SG83m20ylUIH<br>\n",
    "Registering diskhash-0.0.4.0..."
   ]
  },
  {
   "cell_type": "code",
   "execution_count": null,
   "metadata": {},
   "outputs": [],
   "source": [
    "#diskhash\n"
   ]
  },
  {
   "cell_type": "code",
   "execution_count": null,
   "metadata": {},
   "outputs": [],
   "source": [
    "cd ../fasta_reader"
   ]
  },
  {
   "cell_type": "code",
   "execution_count": null,
   "metadata": {},
   "outputs": [],
   "source": [
    "python setup.py build"
   ]
  },
  {
   "cell_type": "code",
   "execution_count": null,
   "metadata": {},
   "outputs": [],
   "source": [
    "python setup.py install"
   ]
  },
  {
   "cell_type": "markdown",
   "metadata": {},
   "source": [
    "Installed /root/miniconda3/envs/ngless/lib/python3.6/site-packages/diskhash-0.4.0-py3.6-linux-x86_64.egg <br>\n",
    "Finished processing dependencies for fasta-reader==0.1.2"
   ]
  },
  {
   "cell_type": "markdown",
   "metadata": {},
   "source": [
    "## 1.3 run for the test"
   ]
  },
  {
   "cell_type": "code",
   "execution_count": null,
   "metadata": {},
   "outputs": [],
   "source": [
    "cd ../kmer.find"
   ]
  },
  {
   "cell_type": "code",
   "execution_count": null,
   "metadata": {},
   "outputs": [],
   "source": [
    " ./build.kmer-ix.sh test.faa"
   ]
  },
  {
   "cell_type": "markdown",
   "metadata": {},
   "source": [
    "FASTA file not indexed. Indexing...<br>\n",
    "Creating diskhash index for test.faa.<br>\n",
    "...<br>\n",
    "CmdArgs {ifileArg = \"test.faa.kmer.ix.sorted\", ofileArg1 = \"test.faa.kmer.ix1\", ofileArg2 = \"test.faa.kmer.ix2\", verboseArg = True, nJobsArg = 8}"
   ]
  },
  {
   "cell_type": "markdown",
   "metadata": {},
   "source": [
    "# 2. Make some improvement"
   ]
  },
  {
   "cell_type": "markdown",
   "metadata": {},
   "source": [
    "reference:[Score,Bit-score,P-value,E-value](https://docplayer.net/22262214-Score-bit-score-p-value-e-value.html)"
   ]
  },
  {
   "cell_type": "code",
   "execution_count": null,
   "metadata": {},
   "outputs": [],
   "source": [
    "export PATH=$PWD/bin/:$PATH\n",
    "python query.py test.faa query.faa"
   ]
  },
  {
   "cell_type": "markdown",
   "metadata": {},
   "source": [
    "The result:<br>\n",
    "Loaded headers<br>\n",
    "Q1\tGMGC10.016_126_784.UNKNOWN\t99<br>\n",
    "Q1\tGMGC10.046_029_341.UNKNOWN\t17<br>\n",
    "Q1\tGMGC10.045_665_422.UNKNOWN\t14<br>\n",
    "Q1\tGMGC10.029_051_291.UNKNOWN\t13<br>\n",
    "Q1\tGMGC10.032_042_208.UNKNOWN\t12<br>\n",
    "Q1\tGMGC10.031_644_364.UNKNOWN\t10<br>"
   ]
  },
  {
   "cell_type": "markdown",
   "metadata": {},
   "source": [
    "## 2.1 Caculate e-value and bitscore"
   ]
  },
  {
   "cell_type": "code",
   "execution_count": null,
   "metadata": {},
   "outputs": [],
   "source": [
    "from os import path\n",
    "from itertools import chain\n",
    "from fasta_reader import IndexedFastaReader\n",
    "import skbio.alignment\n",
    "import skbio.sequence\n",
    "import skbio.io\n",
    "from sys import argv\n",
    "import subprocess\n",
    "import math\n",
    "\n",
    "index_fname = argv[1]\n",
    "query_fname = argv[2]\n",
    "\n",
    "index_base, index_fname  = path.split(path.abspath(index_fname))\n",
    "\n",
    "class GetNames(object):\n",
    "    def __init__(self, fname):\n",
    "        self.headers = open(fname, 'rb')\n",
    "    def get(self, ix):\n",
    "        self.headers.seek(32 * ix)\n",
    "        return self.headers.readline().decode('ascii').strip()\n",
    "        \n",
    "Qs = {}\n",
    "for fa in skbio.io.read(query_fname, format='fasta'):\n",
    "    Qs[fa.metadata['id']] = str(fa)\n",
    "\n",
    "    \n",
    "headers = GetNames(f'{index_base}/kmer.index/{index_fname}.names.32')\n",
    "print(\"Loaded headers\") \n",
    "    \n",
    "index = IndexedFastaReader(path.join(index_base, index_fname))\n",
    "    \n",
    "data = subprocess.Popen(['Query',\n",
    "                '-i', query_fname,\n",
    "                '-o', '/dev/stdout',\n",
    "                '-1', f'{index_base}/kmer.index/{index_fname}.kmer.ix1',\n",
    "                '-2', f'{index_base}/kmer.index/{index_fname}.kmer.ix2'],\n",
    "        stdout=subprocess.PIPE)\n",
    "\n",
    "matches = []\n",
    "alpha = 0.5772 #λ is the Gumble distribution constant\n",
    "K = 0.13    # K is a constant associated with the scoring matrix used.\n",
    "query_sequence = 450     #the query sequence length(n)\n",
    "database_sequence = 83708   #the sum of the lengths of the sequences in the database(m)\n",
    "for line in chain(data.stdout, [b'END']):\n",
    "    if line.startswith(b'CmdArgs'): continue\n",
    "    line = line.decode('ascii')\n",
    "    if line[0] == '>' or line == 'END':\n",
    "        if len(matches):\n",
    "            matches.sort(key=lambda m: m[1]['optimal_alignment_score'], reverse=True)\n",
    "            for fah, m in matches:\n",
    "                bit_score = (alpha * m.optimal_alignment_score - math.log(K)) / math.log(2)\t\n",
    "                p_value = math.pow(2, (-bit_score))\n",
    "                E_value = database_sequence * query_sequence * p_value\n",
    "                #E_value = K * database_sequence * query_sequence * exp(-alpha *  m.optimal_alignment_score)\n",
    "                print(f'{active}\\t{fah}\\t{m.optimal_alignment_score}\\t{bit_score}\\t{E_value}')\n",
    "            matches = []\n",
    "        if line == \"END\":\n",
    "            break\n",
    "        active = line[1:].strip()\n",
    "        fa = Qs[active]\n",
    "        sw = skbio.alignment.StripedSmithWaterman(fa)\n",
    "    else:\n",
    "        name = headers.get(int(line.strip()))\n",
    "        seq = index.get(name).decode('ascii')\n",
    "        matches.append((name, sw(seq)))"
   ]
  },
  {
   "cell_type": "markdown",
   "metadata": {},
   "source": [
    "The result:\n",
    "Loaded headers\n",
    "Q1\tGMGC10.016_126_784.UNKNOWN\t99\t85.3830506541435\t7.466552295325474e-19\n",
    "Q1\tGMGC10.046_029_341.UNKNOWN\t17\t17.099717290852496\t268.19560551216534\n",
    "Q1\tGMGC10.045_665_422.UNKNOWN\t14\t14.601546558049167\t1515.2210056155707\n",
    "Q1\tGMGC10.029_051_291.UNKNOWN\t13\t13.76882298044806\t2698.6760654353084\n",
    "Q1\tGMGC10.032_042_208.UNKNOWN\t12\t12.93609940284695\t4806.462211890144\n",
    "Q1\tGMGC10.031_644_364.UNKNOWN\t10\t11.27065224764473\t15246.672867330346"
   ]
  }
 ],
 "metadata": {
  "kernelspec": {
   "display_name": "Python 3",
   "language": "python",
   "name": "python3"
  },
  "language_info": {
   "codemirror_mode": {
    "name": "ipython",
    "version": 3
   },
   "file_extension": ".py",
   "mimetype": "text/x-python",
   "name": "python",
   "nbconvert_exporter": "python",
   "pygments_lexer": "ipython3",
   "version": "3.6.2"
  }
 },
 "nbformat": 4,
 "nbformat_minor": 2
}
